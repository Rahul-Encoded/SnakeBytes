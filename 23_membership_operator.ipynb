{
 "cells": [
  {
   "cell_type": "markdown",
   "metadata": {},
   "source": [
    "\n",
    "Membership operator is used to test whether a value or variable is found in a sequence (iterables)\n",
    "1. in\n",
    "2. not in\n"
   ]
  },
  {
   "cell_type": "code",
   "execution_count": 10,
   "metadata": {},
   "outputs": [
    {
     "name": "stdout",
     "output_type": "stream",
     "text": [
      "There is a A\n",
      "Spongebob is in this class\n",
      "Sandy's grade is A.\n",
      "Valid email\n"
     ]
    }
   ],
   "source": [
    "#EXAMPLE 1\n",
    "#--------------------\n",
    "word = \"APPLE\"\n",
    "\n",
    "letter = input(\"Guess a letter in the secret word: \").capitalize()\n",
    "\n",
    "if letter not in word:\n",
    "   print(f\"{letter} was not found\")\n",
    "else:\n",
    "   print(f\"There is a {letter}\")\n",
    "\n",
    "#--------------------\n",
    "#EXAMPLE 2\n",
    "#--------------------\n",
    "students = {\"Spongebob\", \"Patrick\", \"Sandy\"}\n",
    "\n",
    "student = input(\"Enter the name of a student: \").capitalize()\n",
    "\n",
    "if student in students:\n",
    "   print(f\"{student} is in this class\")\n",
    "else:\n",
    "   print(f\"{student} is NOT in this class\")\n",
    "\n",
    "#--------------------\n",
    "#EXAMPLE 3\n",
    "#--------------------\n",
    "grades = {\n",
    "   \"Sandy\": 'A',\n",
    "   \"Squidward\": 'B',\n",
    "   \"Spongebob\": 'C',\n",
    "   \"Patrick\": 'D'\n",
    "}\n",
    "\n",
    "student = input(\"Enter the name of a student: \").capitalize()\n",
    "\n",
    "if student in grades:\n",
    "   print(f\"{student}'s grade is {grades[student]}.\")\n",
    "else:\n",
    "   print(f\"{student} is not in the dictionary\")\n",
    "\n",
    "#--------------------\n",
    "#EXAMPLE 4\n",
    "#--------------------\n",
    "email = \"BroCode@gmail.com\"\n",
    "\n",
    "if \"@\" in email and \".\" in email:\n",
    "    print(\"Valid email\")\n",
    "else:\n",
    "    print(\"Invalid email\")\n"
   ]
  }
 ],
 "metadata": {
  "kernelspec": {
   "display_name": "base",
   "language": "python",
   "name": "python3"
  },
  "language_info": {
   "codemirror_mode": {
    "name": "ipython",
    "version": 3
   },
   "file_extension": ".py",
   "mimetype": "text/x-python",
   "name": "python",
   "nbconvert_exporter": "python",
   "pygments_lexer": "ipython3",
   "version": "3.12.7"
  }
 },
 "nbformat": 4,
 "nbformat_minor": 2
}
