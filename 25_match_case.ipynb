{
 "cells": [
  {
   "cell_type": "markdown",
   "metadata": {},
   "source": [
    "Match-case statement = switch - case statement\n",
    "\n",
    "New feature added in python 3.10\n",
    "\n",
    "An alternative to using many 'elif' statements\n",
    "\n",
    "Execute some code if a value matches a 'case'\n",
    "\n",
    "Benefits: cleaner and syntax is more readable"
   ]
  },
  {
   "cell_type": "code",
   "execution_count": 9,
   "metadata": {},
   "outputs": [
    {
     "name": "stdout",
     "output_type": "stream",
     "text": [
      "False\n",
      "Bro enter a day!\n"
     ]
    }
   ],
   "source": [
    "def is_weekend(day):\n",
    "\tmatch day:\n",
    "\t\tcase \"Saturday\" | \"Sunday\":\n",
    "\t\t\treturn True\n",
    "\t\tcase \"Monday\" | \"Tuesday\" | \"Wednesday\" | \"Thursday\" | \"Friday\":\n",
    "\t\t\treturn False\n",
    "\t\tcase _:\n",
    "\t\t\treturn \"Bro enter a day!\"\n",
    "\t\t\t\n",
    "\n",
    "print(is_weekend(\"Monday\"))\n",
    "print(is_weekend(\"Rupa\"))"
   ]
  },
  {
   "cell_type": "code",
   "execution_count": null,
   "metadata": {},
   "outputs": [],
   "source": []
  }
 ],
 "metadata": {
  "kernelspec": {
   "display_name": "base",
   "language": "python",
   "name": "python3"
  },
  "language_info": {
   "codemirror_mode": {
    "name": "ipython",
    "version": 3
   },
   "file_extension": ".py",
   "mimetype": "text/x-python",
   "name": "python",
   "nbconvert_exporter": "python",
   "pygments_lexer": "ipython3",
   "version": "3.12.7"
  }
 },
 "nbformat": 4,
 "nbformat_minor": 2
}
