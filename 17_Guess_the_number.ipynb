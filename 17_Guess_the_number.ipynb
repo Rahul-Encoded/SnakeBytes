{
 "cells": [
  {
   "cell_type": "code",
   "execution_count": 3,
   "metadata": {},
   "outputs": [
    {
     "name": "stdout",
     "output_type": "stream",
     "text": [
      "Guess a smaller number than 69\n",
      "Guess a smaller number than 55\n",
      "Guess a smaller number than 48\n",
      "Guess a smaller number than 40\n",
      "Guess a smaller number than 35\n",
      "It took you 6 guesses to get it right\n"
     ]
    }
   ],
   "source": [
    "import random\n",
    "\n",
    "low = 21\n",
    "high = 88\n",
    "\n",
    "guess_num = 0\n",
    "rand_num = random.randint(low, high)\n",
    "\n",
    "while (1):\n",
    "\tguess = int(input(f\"Guess a number between {low} and {high}: \"))\n",
    "\tif(guess == rand_num):\n",
    "\t\tprint(f\"It took you {guess_num+1} guesses to get it right\")\n",
    "\t\tbreak\n",
    "\telif(guess < rand_num): \n",
    "\t\tprint(f\"Guess a greater number than {guess}\")\n",
    "\t\tguess_num += 1\n",
    "\telse:\n",
    "\t\tprint(f\"Guess a smaller number than {guess}\")\n",
    "\t\tguess_num += 1\n",
    "\t\n",
    "\n"
   ]
  }
 ],
 "metadata": {
  "kernelspec": {
   "display_name": "base",
   "language": "python",
   "name": "python3"
  },
  "language_info": {
   "codemirror_mode": {
    "name": "ipython",
    "version": 3
   },
   "file_extension": ".py",
   "mimetype": "text/x-python",
   "name": "python",
   "nbconvert_exporter": "python",
   "pygments_lexer": "ipython3",
   "version": "3.12.7"
  }
 },
 "nbformat": 4,
 "nbformat_minor": 2
}
