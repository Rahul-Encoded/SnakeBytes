{
 "cells": [
  {
   "cell_type": "markdown",
   "metadata": {},
   "source": [
    "Property = Decorator used to define a method as a property (It can be accessed like an attribute)\n",
    "\n",
    "Benefit: Add additional logic when read, write or delete attributes\n",
    "\n",
    "Gives you getter, setter, and deleter method"
   ]
  },
  {
   "cell_type": "code",
   "execution_count": 3,
   "metadata": {},
   "outputs": [
    {
     "name": "stdout",
     "output_type": "stream",
     "text": [
      "3\n",
      "4\n",
      "\n",
      "\n",
      "4.0cm\n",
      "3.0cm\n",
      "\n",
      "\n",
      "6.0cm\n",
      "9.0cm\n",
      "\n",
      "\n",
      "Height has been deleted\n",
      "Width has been deleted\n"
     ]
    }
   ],
   "source": [
    "class Rectangle:\n",
    "    def __init__(self, width, height):\n",
    "        self._width = width\n",
    "        self._height = height\n",
    "\n",
    "    @property\n",
    "    def width(self):\n",
    "        return f\"{self._width:.1f}cm\"\n",
    "\n",
    "    @property\n",
    "    def height(self):\n",
    "        return f\"{self._height:.1f}cm\"\n",
    "\n",
    "    @width.setter\n",
    "    def width(self, new_width):\n",
    "        if new_width > 0:\n",
    "            self._width = new_width\n",
    "        else:\n",
    "            print(\"Width must be greater than zero\")\n",
    "\n",
    "    @height.setter\n",
    "    def height(self, new_height):\n",
    "        if new_height > 0:\n",
    "            self._height = new_height\n",
    "        else:\n",
    "            print(\"Height must be greater than zero\")\n",
    "\n",
    "    @width.deleter\n",
    "    def width(self):\n",
    "        del self._width\n",
    "        print(\"Width has been deleted\")\n",
    "\n",
    "    @height.deleter\n",
    "    def height(self):\n",
    "        del self._height\n",
    "        print(\"Height has been deleted\")\n",
    "\n",
    "rectangle = Rectangle(3, 4)\n",
    "\n",
    "print(rectangle._width)\n",
    "print(rectangle._height)\n",
    "print(\"\\n\")\n",
    "\n",
    "print(rectangle.height)\n",
    "print(rectangle.width)\n",
    "print(\"\\n\")\n",
    "\n",
    "rectangle.height = 6\n",
    "rectangle.width = 9\n",
    "print(rectangle.height)\n",
    "print(rectangle.width)\n",
    "print(\"\\n\")\n",
    "\n",
    "del rectangle.height\n",
    "del rectangle.width\n",
    "# print(rectangle.height)\n",
    "# print(rectangle.width)\n",
    "# print(\"\\n\")\n",
    "\n",
    "\n",
    "\n",
    "\n"
   ]
  },
  {
   "cell_type": "code",
   "execution_count": null,
   "metadata": {},
   "outputs": [],
   "source": []
  }
 ],
 "metadata": {
  "kernelspec": {
   "display_name": "base",
   "language": "python",
   "name": "python3"
  },
  "language_info": {
   "codemirror_mode": {
    "name": "ipython",
    "version": 3
   },
   "file_extension": ".py",
   "mimetype": "text/x-python",
   "name": "python",
   "nbconvert_exporter": "python",
   "pygments_lexer": "ipython3",
   "version": "3.12.7"
  }
 },
 "nbformat": 4,
 "nbformat_minor": 2
}
