{
 "cells": [
  {
   "cell_type": "markdown",
   "metadata": {},
   "source": [
    "Nested class = A class defined within another class\n",
    "\n",
    "Benefits: Allows you to logically group classes that are closely related\n",
    "\n",
    "Encapsulates private details that aren't relevant outside of the outer class\n",
    "\n",
    "Keeps the namespace clean; reduces the possibility of naming conflicts"
   ]
  },
  {
   "cell_type": "code",
   "execution_count": 2,
   "metadata": {},
   "outputs": [
    {
     "name": "stdout",
     "output_type": "stream",
     "text": [
      "Eugene - Manager\n",
      "Spongebob - Cook\n",
      "Squidward - Cashier\n",
      "Sheldon - Manager\n",
      "Karen - Assistant\n"
     ]
    }
   ],
   "source": [
    "class Company:\n",
    "    class Employee:\n",
    "        def __init__(self, name, position):\n",
    "            self.name = name\n",
    "            self.position = position\n",
    "\n",
    "        def get_details(self):\n",
    "            return f\"{self.name} - {self.position}\"\n",
    "\n",
    "    def __init__(self, company_name):\n",
    "        self.company_name = company_name\n",
    "        self.employees = []\n",
    "\n",
    "    def add_employee(self, name, position):\n",
    "        new_employee = self.Employee(name, position)\n",
    "        self.employees.append(new_employee)\n",
    "\n",
    "    def list_employees(self):\n",
    "        return [employee.get_details() for employee in self.employees]\n",
    "\n",
    "company1 = Company(\"Krusty Krab\")\n",
    "company2 = Company(\"Chum Bucket\")\n",
    "\n",
    "company1.add_employee(\"Eugene\", \"Manager\")\n",
    "company1.add_employee(\"Spongebob\", \"Cook\")\n",
    "company1.add_employee(\"Squidward\", \"Cashier\")\n",
    "\n",
    "company2.add_employee(\"Sheldon\", \"Manager\")\n",
    "company2.add_employee(\"Karen\", \"Assistant\")\n",
    "\n",
    "for employee in company1.list_employees():\n",
    "    print(employee)\n",
    "for employee in company2.list_employees():\n",
    "    print(employee)"
   ]
  },
  {
   "cell_type": "code",
   "execution_count": null,
   "metadata": {},
   "outputs": [],
   "source": []
  }
 ],
 "metadata": {
  "kernelspec": {
   "display_name": "base",
   "language": "python",
   "name": "python3"
  },
  "language_info": {
   "codemirror_mode": {
    "name": "ipython",
    "version": 3
   },
   "file_extension": ".py",
   "mimetype": "text/x-python",
   "name": "python",
   "nbconvert_exporter": "python",
   "pygments_lexer": "ipython3",
   "version": "3.12.7"
  }
 },
 "nbformat": 4,
 "nbformat_minor": 2
}
