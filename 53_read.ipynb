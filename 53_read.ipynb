{
 "cells": [
  {
   "cell_type": "code",
   "execution_count": 1,
   "metadata": {},
   "outputs": [],
   "source": [
    "file_path = \"Files/output.txt\""
   ]
  },
  {
   "cell_type": "code",
   "execution_count": 2,
   "metadata": {},
   "outputs": [
    {
     "name": "stdout",
     "output_type": "stream",
     "text": [
      "Check... CheckI like coding!\n",
      "I like coding!\n",
      "Eugene\n",
      "Squidward\n",
      "Spongebob\n",
      " Patrick{\"name\": \"Spongebob\", \"age\": 30, \"job\": \"cook\"}{\n",
      "    \"name\": \"Spongebob\",\n",
      "    \"age\": 30,\n",
      "    \"job\": \"cook\"\n",
      "}\n"
     ]
    }
   ],
   "source": [
    "try:\n",
    "  with open(file_path, 'r') as file:\n",
    "     content = file.read()\n",
    "     print(content)\n",
    "except FileNotFoundError:\n",
    "  print(\"That file was not found\")\n",
    "except PermissionError:\n",
    "  print(\"You do not have permission to read that file\")"
   ]
  },
  {
   "cell_type": "code",
   "execution_count": 5,
   "metadata": {},
   "outputs": [
    {
     "name": "stdout",
     "output_type": "stream",
     "text": [
      "{'name': 'Spongebob', 'age': 30, 'job': 'cook'}\n"
     ]
    }
   ],
   "source": [
    "import json\n",
    "\n",
    "file_path = \"Files/output.json\"\n",
    "\n",
    "try:\n",
    "  with open(file_path, 'r') as file:\n",
    "      content = json.load(file)\n",
    "      print(content )\n",
    "except FileNotFoundError:\n",
    "  print(\"That file was not found\")\n",
    "except PermissionError:\n",
    "  print(\"You do not have permission to read that file\")"
   ]
  },
  {
   "cell_type": "code",
   "execution_count": 7,
   "metadata": {},
   "outputs": [
    {
     "name": "stdout",
     "output_type": "stream",
     "text": [
      "<_csv.reader object at 0x000001BFB29E15A0>\n",
      "['Name', 'Age', 'Job']\n",
      "['Spongebob', '30', 'Cook']\n",
      "['Patrick', '37', 'Unemployed']\n",
      "['Sandy', '27', 'Scientist']\n"
     ]
    }
   ],
   "source": [
    "import csv\n",
    "\n",
    "file_path = \"Files/output.csv\"\n",
    "\n",
    "try:\n",
    "  with open(file_path, 'r') as file:\n",
    "      content = csv.reader(file)\n",
    "      print(content)\n",
    "      for line in content:\n",
    "         print(line)\n",
    "except FileNotFoundError:\n",
    "  print(\"That file was not found\")\n",
    "except PermissionError:\n",
    "  print(\"You do not have permission to read that file\")"
   ]
  }
 ],
 "metadata": {
  "kernelspec": {
   "display_name": "base",
   "language": "python",
   "name": "python3"
  },
  "language_info": {
   "codemirror_mode": {
    "name": "ipython",
    "version": 3
   },
   "file_extension": ".py",
   "mimetype": "text/x-python",
   "name": "python",
   "nbconvert_exporter": "python",
   "pygments_lexer": "ipython3",
   "version": "3.12.7"
  }
 },
 "nbformat": 4,
 "nbformat_minor": 2
}
