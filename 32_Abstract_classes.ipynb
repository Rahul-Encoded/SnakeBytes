{
 "cells": [
  {
   "cell_type": "markdown",
   "metadata": {},
   "source": [
    "Abstract Class is a class that cannot be instantiated on its own.\n",
    "\n",
    "Meant to be subclassed.\n",
    "\n",
    "They can contain abstract methods, which are declared, but have no implementation.\n",
    "\n",
    "Abstract classes benefits:\n",
    "\n",
    "1. Prevents instantiation of the class itself\n",
    "\n",
    "2. Requires children to use inherited abstract methods"
   ]
  },
  {
   "cell_type": "code",
   "execution_count": 1,
   "metadata": {},
   "outputs": [],
   "source": [
    "from abc import ABC, abstractmethod\n",
    "#abc = abstract base classes"
   ]
  },
  {
   "cell_type": "code",
   "execution_count": null,
   "metadata": {},
   "outputs": [
    {
     "name": "stdout",
     "output_type": "stream",
     "text": [
      "You drive the car\n",
      "You stop the car\n",
      "You ride the motorcycle\n",
      "You stop the motorcycle\n",
      "You sail the boat\n",
      "You anchor the boat\n"
     ]
    }
   ],
   "source": [
    "class Vehicle(ABC):\n",
    "\n",
    "    @abstractmethod\n",
    "    def go(self):\n",
    "        pass\n",
    "\n",
    "    @abstractmethod\n",
    "    def stop(self):\n",
    "        pass\n",
    "\n",
    "class Car(Vehicle):\n",
    "\n",
    "    def go(self):\n",
    "        print(\"You drive the car\")\n",
    "\n",
    "    def stop(self):\n",
    "        print(\"You stop the car\")\n",
    "\n",
    "class Motorcycle(Vehicle):\n",
    "\n",
    "    def go(self):\n",
    "        print(\"You ride the motorcycle\")\n",
    "\n",
    "    def stop(self):\n",
    "        print(\"You stop the motorcycle\")\n",
    "\n",
    "class Boat(Vehicle):\n",
    "\n",
    "    def go(self):\n",
    "        print(\"You sail the boat\")\n",
    "\n",
    "    def stop(self):\n",
    "        print(\"You anchor the boat\")    #you have to define both the methods otherwise it will give error\n",
    "\n",
    "car = Car()\n",
    "motorcycle = Motorcycle()\n",
    "boat = Boat()\n",
    "\n",
    "car.go()\n",
    "car.stop()\n",
    "\n",
    "motorcycle.go()\n",
    "motorcycle.stop()\n",
    "\n",
    "boat.go()\n",
    "boat.stop()"
   ]
  },
  {
   "cell_type": "markdown",
   "metadata": {},
   "source": [
    "Abstract classes in Python are used to define a blueprint for other classes. They allow you to create a class that cannot be instantiated directly but can be subclassed. Abstract classes can contain abstract methods, which are methods that are declared but contain no implementation. Subclasses of the abstract class are required to implement these abstract methods.\n",
    "\n",
    "The main uses of abstract classes are:\n",
    "\n",
    "Enforcing a Contract: Abstract classes ensure that derived classes implement specific methods, providing a consistent interface.\n",
    "\n",
    "Code Reusability: Abstract classes can contain common code that can be shared among multiple subclasses, reducing code duplication.\n",
    "\n",
    "Polymorphism: Abstract classes allow you to use polymorphism, where a single interface can represent different underlying forms (data types).\n"
   ]
  }
 ],
 "metadata": {
  "kernelspec": {
   "display_name": "base",
   "language": "python",
   "name": "python3"
  },
  "language_info": {
   "codemirror_mode": {
    "name": "ipython",
    "version": 3
   },
   "file_extension": ".py",
   "mimetype": "text/x-python",
   "name": "python",
   "nbconvert_exporter": "python",
   "pygments_lexer": "ipython3",
   "version": "3.12.7"
  }
 },
 "nbformat": 4,
 "nbformat_minor": 2
}
