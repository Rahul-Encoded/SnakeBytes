{
 "cells": [
  {
   "cell_type": "code",
   "execution_count": 3,
   "id": "d83e5a5b-3962-4866-9920-c61d809a4cd9",
   "metadata": {},
   "outputs": [
    {
     "name": "stdout",
     "output_type": "stream",
     "text": [
      "True\n",
      "<class 'bool'>\n"
     ]
    }
   ],
   "source": [
    "age = 20\n",
    "age = bool(age)\n",
    "print(age)\n",
    "print(type(age))"
   ]
  },
  {
   "cell_type": "code",
   "execution_count": 1,
   "id": "529dfb05-104e-4da3-932a-45c5424a2798",
   "metadata": {},
   "outputs": [
    {
     "name": "stdout",
     "output_type": "stream",
     "text": [
      "True\n",
      "<class 'bool'>\n",
      "False\n",
      "<class 'bool'>\n",
      "True\n",
      "<class 'bool'>\n",
      "True\n",
      "<class 'bool'>\n"
     ]
    }
   ],
   "source": [
    "#If a number is anything but '0' then the bool will always return 1\n",
    "#explcit\n",
    "x = -20\n",
    "x = bool(x)\n",
    "print(x)\n",
    "print(type(x))\n",
    "\n",
    "y = \"\"\n",
    "z = \"GOD\"\n",
    "w = \" \"\n",
    "y = bool(y)\n",
    "z = bool(z)\n",
    "w = bool(w)\n",
    "\n",
    "print(y)\n",
    "print(type(y))\n",
    "print(z)\n",
    "print(type(z))\n",
    "print(w)\n",
    "print(type(w))"
   ]
  },
  {
   "cell_type": "code",
   "execution_count": 9,
   "id": "02d098b1-0d70-4a58-b2c4-eeedd7c074e7",
   "metadata": {},
   "outputs": [
    {
     "name": "stdout",
     "output_type": "stream",
     "text": [
      "1.0\n",
      "<class 'float'>\n"
     ]
    }
   ],
   "source": [
    "#implicit\n",
    "x = 2\n",
    "y = 2.0\n",
    "\n",
    "x = x/y\n",
    "print(x)\n",
    "print(type(x))"
   ]
  },
  {
   "cell_type": "code",
   "execution_count": null,
   "id": "8120f288-d555-4af7-8f61-ec93dfc18438",
   "metadata": {},
   "outputs": [],
   "source": []
  }
 ],
 "metadata": {
  "kernelspec": {
   "display_name": "Python 3",
   "language": "python",
   "name": "python3"
  },
  "language_info": {
   "codemirror_mode": {
    "name": "ipython",
    "version": 3
   },
   "file_extension": ".py",
   "mimetype": "text/x-python",
   "name": "python",
   "nbconvert_exporter": "python",
   "pygments_lexer": "ipython3",
   "version": "3.9.19"
  }
 },
 "nbformat": 4,
 "nbformat_minor": 5
}
