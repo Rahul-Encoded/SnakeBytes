{
 "cells": [
  {
   "cell_type": "markdown",
   "metadata": {},
   "source": [
    "Inheritance = Allows a class to inherit attributes and methods from another class\n",
    "\n",
    "helps with code reusabiity and extensibility"
   ]
  },
  {
   "cell_type": "code",
   "execution_count": 2,
   "metadata": {},
   "outputs": [],
   "source": [
    "\n",
    "class Animal:\n",
    "    def __init__(self, name):\n",
    "        self.name = name\n",
    "        self.is_alive = True\n",
    "\n",
    "    def eat(self):\n",
    "        print(f\"{self.name} is eating\")\n",
    "\n",
    "    def sleep(self):\n",
    "        print(f\"{self.name} is asleep\")\n",
    "\n",
    "class Dog(Animal):\n",
    "    def speak(self):\n",
    "        print(\"WOOF!\")\n",
    "\n",
    "class Cat(Animal):\n",
    "    def speak(self):\n",
    "        print(\"MEOW!\")\n",
    "\n",
    "class Mouse(Animal):\n",
    "    def speak(self):\n",
    "        print(\"SQUEEK!\")\n",
    "\n",
    "dog = Dog(\"Scooby\")\n",
    "cat = Cat(\"Garfield\")\n",
    "mouse = Mouse(\"Mickey\")"
   ]
  },
  {
   "cell_type": "code",
   "execution_count": 4,
   "metadata": {},
   "outputs": [
    {
     "name": "stdout",
     "output_type": "stream",
     "text": [
      "Mickey is alive and\n",
      "Mickey is eating\n",
      "SQUEEK!\n",
      "Mickey is asleep\n"
     ]
    }
   ],
   "source": [
    "print(f\"{mouse.name} {\"is alive and\" if mouse.is_alive else \"is dead\"}\")\n",
    "mouse.eat() if mouse.is_alive else None\n",
    "mouse.speak() if mouse.is_alive else None\n",
    "mouse.sleep() if mouse.is_alive else None"
   ]
  },
  {
   "cell_type": "code",
   "execution_count": 5,
   "metadata": {},
   "outputs": [
    {
     "name": "stdout",
     "output_type": "stream",
     "text": [
      "Scooby is alive and\n",
      "Scooby is eating\n",
      "WOOF!\n",
      "Scooby is asleep\n"
     ]
    }
   ],
   "source": [
    "print(f\"{dog.name} {\"is alive and\" if dog.is_alive else \"is dead\"}\")\n",
    "dog.eat() if dog.is_alive else None\n",
    "dog.speak() if dog.is_alive else None\n",
    "dog.sleep() if dog.is_alive else None"
   ]
  },
  {
   "cell_type": "code",
   "execution_count": 6,
   "metadata": {},
   "outputs": [
    {
     "name": "stdout",
     "output_type": "stream",
     "text": [
      "Garfield is alive and\n",
      "Garfield is eating\n",
      "MEOW!\n",
      "Garfield is asleep\n"
     ]
    }
   ],
   "source": [
    "print(f\"{cat.name} {\"is alive and\" if cat.is_alive else \"is dead\"}\")\n",
    "cat.eat() if cat.is_alive else None\n",
    "cat.speak() if cat.is_alive else None\n",
    "cat.sleep() if cat.is_alive else None"
   ]
  },
  {
   "cell_type": "code",
   "execution_count": 7,
   "metadata": {},
   "outputs": [],
   "source": [
    "# Multiple Inheritance = inherits from more than one parent class \n",
    "# C(A, B)\n",
    "\n",
    "#Multilevel inheritance = inherit from a parent which inherits from another parent\n",
    "# C(B) <- B(A) <- A"
   ]
  },
  {
   "cell_type": "code",
   "execution_count": 9,
   "metadata": {},
   "outputs": [
    {
     "name": "stdout",
     "output_type": "stream",
     "text": [
      "Bugs is fleeing\n",
      "Tony is hunting\n",
      "Nemo is fleeing\n",
      "Sharkie is hunting\n"
     ]
    }
   ],
   "source": [
    "class Animal:\n",
    "\n",
    "    def __init__(self, name):\n",
    "        self.name = name\n",
    "\n",
    "    def eat(self):\n",
    "        print(f\"{self.name} is eating\")\n",
    "\n",
    "    def sleep(self):\n",
    "        print(f\"{self.name} is sleeping\")\n",
    "\n",
    "class Prey(Animal):\n",
    "    def flee(self):\n",
    "        print(f\"{self.name} is fleeing\")\n",
    "\n",
    "class Predator(Animal):\n",
    "    def hunt(self):\n",
    "        print(f\"{self.name} is hunting\")\n",
    "\n",
    "class Rabbit(Prey):\n",
    "    pass\n",
    "\n",
    "class Hawk(Predator):\n",
    "    pass\n",
    "\n",
    "class Fish(Prey, Predator):\n",
    "    pass\n",
    "\n",
    "rabbit = Rabbit(\"Bugs\")\n",
    "hawk = Hawk(\"Tony\")\n",
    "fish = Fish(\"Nemo\")\n",
    "fish2 = Fish(\"Sharkie\")\n",
    "\n",
    "rabbit.flee()\n",
    "hawk.hunt()\n",
    "fish.flee()\n",
    "fish2.hunt()"
   ]
  },
  {
   "cell_type": "code",
   "execution_count": 10,
   "metadata": {},
   "outputs": [
    {
     "name": "stdout",
     "output_type": "stream",
     "text": [
      "Bugs is eating\n",
      "Bugs is sleeping\n",
      "Tony is eating\n",
      "Tony is sleeping\n",
      "Nemo is eating\n",
      "Nemo is eating\n",
      "Sharkie is sleeping\n",
      "Sharkie is sleeping\n"
     ]
    }
   ],
   "source": [
    "rabbit.eat()\n",
    "rabbit.sleep()\n",
    "hawk.eat()\n",
    "hawk.sleep()\n",
    "fish.eat()\n",
    "fish.eat()\n",
    "fish2.sleep()\n",
    "fish2.sleep()"
   ]
  },
  {
   "cell_type": "code",
   "execution_count": null,
   "metadata": {},
   "outputs": [],
   "source": []
  }
 ],
 "metadata": {
  "kernelspec": {
   "display_name": "base",
   "language": "python",
   "name": "python3"
  },
  "language_info": {
   "codemirror_mode": {
    "name": "ipython",
    "version": 3
   },
   "file_extension": ".py",
   "mimetype": "text/x-python",
   "name": "python",
   "nbconvert_exporter": "python",
   "pygments_lexer": "ipython3",
   "version": "3.12.7"
  }
 },
 "nbformat": 4,
 "nbformat_minor": 2
}
