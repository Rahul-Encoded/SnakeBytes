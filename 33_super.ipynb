{
 "cells": [
  {
   "cell_type": "markdown",
   "metadata": {},
   "source": [
    "super() is a function used in a child class to call methods from a parent class (superclass)\n",
    "\n",
    "Allows you to extend the functionlaity of the inherited methods"
   ]
  },
  {
   "cell_type": "code",
   "execution_count": 5,
   "metadata": {},
   "outputs": [
    {
     "name": "stdout",
     "output_type": "stream",
     "text": [
      "It is a circle with an area of 78.5cm^2\n",
      "It is red and filled\n",
      "\n",
      "\n",
      "It is a square with an area of 36cm^2\n",
      "It is blue and not filled\n",
      "\n",
      "\n",
      "It is a triangle with an area of 28.0cm^2\n",
      "It is yellow and filled\n"
     ]
    }
   ],
   "source": [
    "class Shape:\n",
    "    def __init__(self, color, is_filled):\n",
    "        self.color = color\n",
    "        self.is_filled = is_filled\n",
    "\n",
    "    def describe(self):\n",
    "        print(f\"It is {self.color} and {'filled' if self.is_filled else 'not filled'}\")\n",
    "\n",
    "class Circle(Shape):\n",
    "    def __init__(self, color, is_filled, radius):\n",
    "        super().__init__(color, is_filled) # Shape.__init__(color, is_filled)\n",
    "        self.radius = radius\n",
    "\n",
    "    def describe(self):\n",
    "        print(f\"It is a circle with an area of {3.14 * self.radius * self.radius}cm^2\")\n",
    "        super().describe()\n",
    "\n",
    "class Square(Shape):\n",
    "    def __init__(self, color, is_filled, width):\n",
    "        super().__init__(color, is_filled)\n",
    "        self.width = width\n",
    "\n",
    "    def describe(self):\n",
    "        print(f\"It is a square with an area of {self.width * self.width}cm^2\")\n",
    "        super().describe()\n",
    "\n",
    "class Triangle(Shape):\n",
    "    def __init__(self, color, is_filled, width, height):\n",
    "        super().__init__(color, is_filled)\n",
    "        self.width = width\n",
    "        self.height = height\n",
    "\n",
    "    def describe(self):\n",
    "        print(f\"It is a triangle with an area of {self.width * self.height / 2}cm^2\")\n",
    "        super().describe()\n",
    "\n",
    "circle = Circle(color=\"red\", is_filled=True, radius=5)\n",
    "square = Square(\"blue\", False, 6)\n",
    "triangle = Triangle(color=\"yellow\", is_filled=True, width=7, height=8)\n",
    "\n",
    "circle.describe()\n",
    "print(\"\\n\")\n",
    "square.describe()\n",
    "print(\"\\n\")\n",
    "triangle.describe()"
   ]
  },
  {
   "cell_type": "code",
   "execution_count": null,
   "metadata": {},
   "outputs": [],
   "source": []
  }
 ],
 "metadata": {
  "kernelspec": {
   "display_name": "base",
   "language": "python",
   "name": "python3"
  },
  "language_info": {
   "codemirror_mode": {
    "name": "ipython",
    "version": 3
   },
   "file_extension": ".py",
   "mimetype": "text/x-python",
   "name": "python",
   "nbconvert_exporter": "python",
   "pygments_lexer": "ipython3",
   "version": "3.12.7"
  }
 },
 "nbformat": 4,
 "nbformat_minor": 2
}
