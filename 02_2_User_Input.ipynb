{
 "cells": [
  {
   "cell_type": "code",
   "execution_count": 1,
   "id": "c44070fd-a1e2-4385-a107-48d258d7723a",
   "metadata": {},
   "outputs": [],
   "source": [
    "#User in python is ez + exercises"
   ]
  },
  {
   "cell_type": "code",
   "execution_count": 3,
   "id": "d93dd69c-033e-4c10-98a7-17322195829c",
   "metadata": {},
   "outputs": [
    {
     "name": "stdout",
     "output_type": "stream",
     "text": [
      "Enter your name:  Rahul\n"
     ]
    },
    {
     "data": {
      "text/plain": [
       "'Rahul'"
      ]
     },
     "execution_count": 3,
     "metadata": {},
     "output_type": "execute_result"
    }
   ],
   "source": [
    "input(\"Enter your name: \")"
   ]
  },
  {
   "cell_type": "code",
   "execution_count": 7,
   "id": "5c9a2e0f-3e13-43f3-80c7-7aac3a6d84a6",
   "metadata": {},
   "outputs": [
    {
     "name": "stdout",
     "output_type": "stream",
     "text": [
      "Enter your name:  Rahul\n"
     ]
    }
   ],
   "source": [
    "name = input(\"Enter your name: \")"
   ]
  },
  {
   "cell_type": "code",
   "execution_count": 11,
   "id": "3a28ee75-a009-4fa1-b6f2-1a966563cb85",
   "metadata": {},
   "outputs": [
    {
     "name": "stdout",
     "output_type": "stream",
     "text": [
      "Hello Rahul\n"
     ]
    }
   ],
   "source": [
    "print(f\"Hello {name}\")"
   ]
  },
  {
   "cell_type": "code",
   "execution_count": 17,
   "id": "16d30253-cddd-4b05-84ed-0408dc0c3533",
   "metadata": {},
   "outputs": [
    {
     "name": "stdout",
     "output_type": "stream",
     "text": [
      "Enter your age: 20\n"
     ]
    },
    {
     "name": "stdout",
     "output_type": "stream",
     "text": [
      "You are 20 years old\n",
      "<class 'str'>\n"
     ]
    }
   ],
   "source": [
    "age = input(\"Enter your age:\")\n",
    "print(f\"You are {age} years old\")\n",
    "print(type(age))"
   ]
  },
  {
   "cell_type": "code",
   "execution_count": 19,
   "id": "552be3f7-22c9-429c-b84c-f686c7b803d0",
   "metadata": {},
   "outputs": [
    {
     "name": "stdout",
     "output_type": "stream",
     "text": [
      "You are 20 years old\n",
      "<class 'int'>\n"
     ]
    }
   ],
   "source": [
    "age = int(age)\n",
    "print(f\"You are {age} years old\")\n",
    "print(type(age))"
   ]
  },
  {
   "cell_type": "code",
   "execution_count": 23,
   "id": "69e5253b-cd55-418e-9b81-8f63dcbc5eb3",
   "metadata": {},
   "outputs": [
    {
     "name": "stdout",
     "output_type": "stream",
     "text": [
      "Enter your age:  20\n"
     ]
    },
    {
     "name": "stdout",
     "output_type": "stream",
     "text": [
      "You are 20 years old\n",
      "<class 'int'>\n"
     ]
    }
   ],
   "source": [
    "#but how can I do it in 1 line  of code\n",
    "x = int(input(\"Enter your age: \"))\n",
    "print(f\"You are {x} years old\")\n",
    "print(type(x))"
   ]
  },
  {
   "cell_type": "code",
   "execution_count": 1,
   "id": "383a86c3-333d-4dbf-bcc6-784334c3c3cf",
   "metadata": {},
   "outputs": [
    {
     "name": "stdout",
     "output_type": "stream",
     "text": [
      "Ravicious Rahul\n",
      "Dashing Dhruva\n",
      "I hope Dhruva asks me out\n"
     ]
    }
   ],
   "source": [
    "#mad libs\n",
    "\n",
    "adjective = input(\"Enter an adjective: \")\n",
    "noun = input(\"Enter an noun: \")\n",
    "verb = input(\"Enter a verb: \")\n",
    "\n",
    "\n",
    "print(f\"{adjective} Rahul\")\n",
    "print(f\"Dashing {noun}\")\n",
    "print(f\"I hope {noun} {verb} me out\")\n"
   ]
  },
  {
   "cell_type": "code",
   "execution_count": null,
   "id": "19f72438-40bf-425d-b655-1372e8bb5939",
   "metadata": {},
   "outputs": [
    {
     "name": "stdout",
     "output_type": "stream",
     "text": [
      "Enter the length of your rectangle 6\n",
      "Enter the breadth of your rectangle 9\n"
     ]
    },
    {
     "name": "stdout",
     "output_type": "stream",
     "text": [
      "Area = 54.0 cm^2\n",
      "Area = 54.0 x (10^-4) m^2\n"
     ]
    }
   ],
   "source": [
    "# area calc\n",
    "length = float(input(\"Enter the length of your rectangle\"))\n",
    "breadth = float(input(\"Enter the breadth of your rectangle\"))\n",
    "area = length*breadth\n",
    "print(f\"Area = {length*breadth} cm^2\")\n",
    "print(f\"Area = {area} x (10^-4) m^2\")"
   ]
  },
  {
   "cell_type": "code",
   "execution_count": 51,
   "id": "19419743-7a56-4d60-8143-0161e3d3f17b",
   "metadata": {},
   "outputs": [
    {
     "name": "stdout",
     "output_type": "stream",
     "text": [
      "What would you like to buy?:  girls\n",
      "What is the price of the item? 698.8\n",
      "How many girls would you like to buy?:  4\n"
     ]
    },
    {
     "name": "stdout",
     "output_type": "stream",
     "text": [
      "You have to pay $2795.2 for 4 girls\n"
     ]
    }
   ],
   "source": [
    "#Shopping cart\n",
    "item = input(\"What would you like to buy?: \")\n",
    "price = float(input(\"What is the price of the item?\"))\n",
    "quantity = int(input(f\"How many {item} would you like to buy?: \"))\n",
    "\n",
    "print(f\"You have to pay ${round(price*quantity,2)} for {quantity} {item}\")"
   ]
  },
  {
   "cell_type": "code",
   "execution_count": null,
   "id": "27f0366b-70d3-40d0-8fb7-b91bb8eabcfb",
   "metadata": {},
   "outputs": [],
   "source": []
  }
 ],
 "metadata": {
  "kernelspec": {
   "display_name": "base",
   "language": "python",
   "name": "python3"
  },
  "language_info": {
   "codemirror_mode": {
    "name": "ipython",
    "version": 3
   },
   "file_extension": ".py",
   "mimetype": "text/x-python",
   "name": "python",
   "nbconvert_exporter": "python",
   "pygments_lexer": "ipython3",
   "version": "3.12.7"
  }
 },
 "nbformat": 4,
 "nbformat_minor": 5
}
