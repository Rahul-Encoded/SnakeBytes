{
 "cells": [
  {
   "cell_type": "code",
   "execution_count": 2,
   "metadata": {},
   "outputs": [
    {
     "name": "stdout",
     "output_type": "stream",
     "text": [
      "Name: Pikachu\n",
      "Id: 25\n",
      "Height: 4\n",
      "Weight: 60\n",
      "Name: Raichu\n",
      "Id: 26\n",
      "Height: 8\n",
      "Weight: 300\n"
     ]
    }
   ],
   "source": [
    "import requests\n",
    "\n",
    "base_url = \"https://pokeapi.co/api/v2/\"\n",
    "\n",
    "def get_pokemon_info(name):\n",
    "  url = f\"{base_url}/pokemon/{name}\"\n",
    "  response = requests.get(url)\n",
    "\n",
    "  if response.status_code == 200:\n",
    "    pokemon_data = response.json()\n",
    "    return pokemon_data\n",
    "  else:\n",
    "    print(f\"Failed to retrieve data {response.status_code}\")\n",
    "\n",
    "def print_pokemon_info(pokemon_name):\n",
    "  pokemon_info = get_pokemon_info(pokemon_name)\n",
    "\n",
    "  if pokemon_info:\n",
    "    print(f\"Name: {pokemon_info['name'].capitalize()}\")\n",
    "    print(f\"Id: {pokemon_info['id']}\")\n",
    "    print(f\"Height: {pokemon_info['height']}\")\n",
    "    print(f\"Weight: {pokemon_info['weight']}\")\n",
    "\n",
    "print_pokemon_info(\"pikachu\")\n",
    "print_pokemon_info(\"raichu\")\n",
    "\n"
   ]
  }
 ],
 "metadata": {
  "kernelspec": {
   "display_name": "base",
   "language": "python",
   "name": "python3"
  },
  "language_info": {
   "codemirror_mode": {
    "name": "ipython",
    "version": 3
   },
   "file_extension": ".py",
   "mimetype": "text/x-python",
   "name": "python",
   "nbconvert_exporter": "python",
   "pygments_lexer": "ipython3",
   "version": "3.12.7"
  }
 },
 "nbformat": 4,
 "nbformat_minor": 2
}
