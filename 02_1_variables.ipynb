{
 "cells": [
  {
   "cell_type": "code",
   "execution_count": null,
   "id": "b9b40f6b-da56-44ee-9682-f0bed8e2cbae",
   "metadata": {},
   "outputs": [],
   "source": [
    "# variable = a reusable container for storing a value\n",
    "# a variable behaves as if it were the value it contains"
   ]
  },
  {
   "cell_type": "code",
   "execution_count": 1,
   "id": "46251f2f-f60e-4fd3-9d9d-c75e45205dc8",
   "metadata": {},
   "outputs": [
    {
     "name": "stdout",
     "output_type": "stream",
     "text": [
      "20\n"
     ]
    }
   ],
   "source": [
    "age = 20\n",
    "print(age)"
   ]
  },
  {
   "cell_type": "code",
   "execution_count": 3,
   "id": "2ec8a8a4-59a3-4ad7-a85b-f05278786d77",
   "metadata": {},
   "outputs": [
    {
     "name": "stdout",
     "output_type": "stream",
     "text": [
      "age\n"
     ]
    }
   ],
   "source": [
    "print(\"age\")"
   ]
  },
  {
   "cell_type": "code",
   "execution_count": 5,
   "id": "ba032199-e187-48b3-ae22-304ef37bd38a",
   "metadata": {},
   "outputs": [
    {
     "ename": "TypeError",
     "evalue": "can only concatenate str (not \"int\") to str",
     "output_type": "error",
     "traceback": [
      "\u001b[0;31m---------------------------------------------------------------------------\u001b[0m",
      "\u001b[0;31mTypeError\u001b[0m                                 Traceback (most recent call last)",
      "Cell \u001b[0;32mIn[5], line 1\u001b[0m\n\u001b[0;32m----> 1\u001b[0m \u001b[38;5;28mprint\u001b[39m(\u001b[38;5;124m\"\u001b[39m\u001b[38;5;124mYou are \u001b[39m\u001b[38;5;124m\"\u001b[39m\u001b[38;5;241m+\u001b[39m age \u001b[38;5;241m+\u001b[39m \u001b[38;5;124m\"\u001b[39m\u001b[38;5;124m years old.\u001b[39m\u001b[38;5;124m\"\u001b[39m)\n",
      "\u001b[0;31mTypeError\u001b[0m: can only concatenate str (not \"int\") to str"
     ]
    }
   ],
   "source": [
    "print(\"You are \"+ age + \" years old.\")"
   ]
  },
  {
   "cell_type": "code",
   "execution_count": 7,
   "id": "529c5d2f-fbc9-4fa7-89e3-1e3b970894e1",
   "metadata": {},
   "outputs": [
    {
     "name": "stdout",
     "output_type": "stream",
     "text": [
      "You are 20 years old.\n"
     ]
    }
   ],
   "source": [
    "print(\"You are \"+ str(age) + \" years old.\") #typecasting"
   ]
  },
  {
   "cell_type": "code",
   "execution_count": 9,
   "id": "8dcef146-52d4-4411-8432-16c1d5a781ad",
   "metadata": {},
   "outputs": [
    {
     "name": "stdout",
     "output_type": "stream",
     "text": [
      "You are 20 years old.\n"
     ]
    }
   ],
   "source": [
    "print(\"You are\", age, \"years old.\")"
   ]
  },
  {
   "cell_type": "code",
   "execution_count": 15,
   "id": "afaee242-7460-4bfd-abad-fa6e0f6e6ef4",
   "metadata": {},
   "outputs": [
    {
     "name": "stdout",
     "output_type": "stream",
     "text": [
      "You are 20 years old.\n"
     ]
    }
   ],
   "source": [
    "#popular way...fstring\n",
    "print(f\"You are {age} years old.\")"
   ]
  },
  {
   "cell_type": "code",
   "execution_count": 1,
   "id": "13920283-b60c-4363-9ef4-3ac24442f9cf",
   "metadata": {},
   "outputs": [],
   "source": [
    "#INTEGER\n",
    "#FLOAT\n",
    "#STRING\n",
    "#BOOLEAN = TRUE and FALSE\n"
   ]
  },
  {
   "cell_type": "code",
   "execution_count": 19,
   "id": "25ea970a-821a-4ec8-8011-1b8b0195c568",
   "metadata": {},
   "outputs": [
    {
     "name": "stdout",
     "output_type": "stream",
     "text": [
      "You are 21 years old\n",
      "There are 2 players online\n",
      "You would like to buy 5 items\n"
     ]
    }
   ],
   "source": [
    "\n",
    "# INTEGER\n",
    "age = 21\n",
    "players = 2\n",
    "quantity = 5\n",
    "\n",
    "print(f\"You are {age} years old\")\n",
    "print(f\"There are {players} players online\")\n",
    "print(f\"You would like to buy {quantity} items\")"
   ]
  },
  {
   "cell_type": "code",
   "execution_count": 21,
   "id": "3bde31b6-39ef-4018-8290-7fb44e24520d",
   "metadata": {},
   "outputs": [
    {
     "name": "stdout",
     "output_type": "stream",
     "text": [
      "Your gpa is 3.2\n",
      "You ran 2.5Km\n",
      "The price is $10.99\n"
     ]
    }
   ],
   "source": [
    "# FLOAT\n",
    "gpa = 3.2\n",
    "distance = 2.5\n",
    "price = 10.99\n",
    "\n",
    "print(f\"Your gpa is {gpa}\")\n",
    "print(f\"You ran {distance}Km\")\n",
    "print(f\"The price is ${price}\")\n"
   ]
  },
  {
   "cell_type": "code",
   "execution_count": 23,
   "id": "69bd1df0-3cd4-46db-83d0-7f70960267e4",
   "metadata": {},
   "outputs": [
    {
     "name": "stdout",
     "output_type": "stream",
     "text": [
      "Hello Bro\n",
      "You like pizza\n",
      "Your email is: Bro123@gmail.com\n"
     ]
    }
   ],
   "source": [
    "\n",
    "# STRING\n",
    "name = \"Bro\"\n",
    "food = \"pizza\"\n",
    "email = \"Bro123@gmail.com\"\n",
    "\n",
    "print(f\"Hello {name}\")\n",
    "print(f\"You like {food}\")\n",
    "print(f\"Your email is: {email}\")\n"
   ]
  },
  {
   "cell_type": "code",
   "execution_count": 29,
   "id": "95ad9974-2138-4cfb-84c9-4bbd4e6f6004",
   "metadata": {},
   "outputs": [
    {
     "name": "stdout",
     "output_type": "stream",
     "text": [
      "Are you online?: True\n",
      "Is the item for sale?: False\n",
      "Game running: False\n",
      "\n",
      "\n",
      "Ping her\n"
     ]
    }
   ],
   "source": [
    "# BOOLEAN\n",
    "online = True\n",
    "for_sale = False\n",
    "running = False\n",
    "\n",
    "print(f\"Are you online?: {online}\")\n",
    "print(f\"Is the item for sale?: {for_sale}\")\n",
    "print(f\"Game running: {running}\")\n",
    "print(\"\\n\")\n",
    "if online:\n",
    "    print(\"Ping her\")\n",
    "else:\n",
    "    print(\"Work\")"
   ]
  },
  {
   "cell_type": "code",
   "execution_count": 31,
   "id": "2302f2d7-d100-4406-9b66-5ee42fb2f3d0",
   "metadata": {},
   "outputs": [
    {
     "name": "stdout",
     "output_type": "stream",
     "text": [
      "1\n",
      "2\n",
      "3\n"
     ]
    }
   ],
   "source": [
    "x = 1\n",
    "y = 2\n",
    "z = 3\n",
    "\n",
    "print(x)\n",
    "print(y)\n",
    "print(z)"
   ]
  },
  {
   "cell_type": "code",
   "execution_count": 35,
   "id": "d2684e81-3fa6-402e-9bae-22311439bd47",
   "metadata": {},
   "outputs": [
    {
     "name": "stdout",
     "output_type": "stream",
     "text": [
      "1\n",
      "2\n",
      "3\n",
      "69\n",
      "69\n",
      "69\n"
     ]
    }
   ],
   "source": [
    "#But what we can also do is \n",
    "x, y, z = 1, 2, 3\n",
    "\n",
    "a = b = c = 69\n",
    "\n",
    "print(x)\n",
    "print(y)\n",
    "print(z)\n",
    "print(a)\n",
    "print(b)\n",
    "print(c)"
   ]
  },
  {
   "cell_type": "code",
   "execution_count": null,
   "id": "96bdc9cc-ab4c-4b73-82e1-e563325384c4",
   "metadata": {},
   "outputs": [],
   "source": []
  }
 ],
 "metadata": {
  "kernelspec": {
   "display_name": "base",
   "language": "python",
   "name": "python3"
  },
  "language_info": {
   "codemirror_mode": {
    "name": "ipython",
    "version": 3
   },
   "file_extension": ".py",
   "mimetype": "text/x-python",
   "name": "python",
   "nbconvert_exporter": "python",
   "pygments_lexer": "ipython3",
   "version": "3.9.19"
  }
 },
 "nbformat": 4,
 "nbformat_minor": 5
}
