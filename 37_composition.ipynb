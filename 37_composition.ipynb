{
 "cells": [
  {
   "cell_type": "markdown",
   "metadata": {},
   "source": [
    "Aggregation is a relationship where one object contains refereces to other INDEPENDENT objects\n",
    "- \"has-a\" relationship\n",
    "\n",
    "Composition = The Composed object directly owns its components, which cannot exist independently\n",
    "- \"owns-a\" relationship"
   ]
  },
  {
   "cell_type": "code",
   "execution_count": 4,
   "metadata": {},
   "outputs": [
    {
     "name": "stdout",
     "output_type": "stream",
     "text": [
      "Ford Mustang 500(hp) 18in\n",
      "Ford Mustang <__main__.Engine object at 0x0000023575EDA7E0>(hp) <__main__.Wheel object at 0x0000023575EDA990>in\n",
      "\n",
      "\n",
      "Chevrolet Corvette 670(hp) 19in\n",
      "Chevrolet Corvette <__main__.Engine object at 0x00000235759EF290>(hp) <__main__.Wheel object at 0x0000023575ED9FA0>in\n"
     ]
    }
   ],
   "source": [
    "class Engine:\n",
    "    def __init__(self, horse_power):\n",
    "        self.horse_power = horse_power\n",
    "\n",
    "class Wheel:\n",
    "    def __init__(self, size):\n",
    "        self.size = size\n",
    "\n",
    "class Car:\n",
    "    def __init__(self, make, model, horse_power, wheel_size):\n",
    "        self.make = make\n",
    "        self.model = model\n",
    "        self.engine = Engine(horse_power) #we are creating these objects inside car class, thus these objects are owned by car class\n",
    "        self.wheels = [Wheel(wheel_size) for wheel in range(4)]\n",
    "\n",
    "    def display_car(self):\n",
    "        print(f\"{self.make} {self.model} {self.engine.horse_power}(hp) {self.wheels[0].size}in\")\n",
    "        print(f\"{self.make} {self.model} {self.engine}(hp) {self.wheels[1]}in\")\n",
    "\n",
    "car1 = Car(make=\"Ford\", model=\"Mustang\", horse_power=500, wheel_size=18)\n",
    "car2 = Car(make=\"Chevrolet\", model=\"Corvette\", horse_power=670, wheel_size=19)\n",
    "\n",
    "car1.display_car()\n",
    "print(\"\\n\")\n",
    "car2.display_car()"
   ]
  },
  {
   "cell_type": "code",
   "execution_count": null,
   "metadata": {},
   "outputs": [],
   "source": []
  }
 ],
 "metadata": {
  "kernelspec": {
   "display_name": "base",
   "language": "python",
   "name": "python3"
  },
  "language_info": {
   "codemirror_mode": {
    "name": "ipython",
    "version": 3
   },
   "file_extension": ".py",
   "mimetype": "text/x-python",
   "name": "python",
   "nbconvert_exporter": "python",
   "pygments_lexer": "ipython3",
   "version": "3.12.7"
  }
 },
 "nbformat": 4,
 "nbformat_minor": 2
}
