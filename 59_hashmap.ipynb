{
 "cells": [
  {
   "cell_type": "code",
   "execution_count": 3,
   "metadata": {},
   "outputs": [],
   "source": [
    "import csv\n",
    "employees = []\n",
    "\n",
    "with open(\"Files/output.csv\", \"r\") as f:\n",
    "\tnext(f)\n",
    "\tfor line in f:\n",
    "\t\ttokens = line.split(',')\n",
    "\t\temployee = tokens[0]\n",
    "\t\tage = int(tokens[1])\n",
    "\t\temployees.append([employee, age])"
   ]
  },
  {
   "cell_type": "code",
   "execution_count": 4,
   "metadata": {},
   "outputs": [
    {
     "data": {
      "text/plain": [
       "[['Spongebob', 30],\n",
       " ['Patrick', 37],\n",
       " ['Sandy', 27],\n",
       " ['Squidward', 34],\n",
       " ['Mr. Krabs', 55],\n",
       " ['Plankton', 40],\n",
       " ['Gary', 5],\n",
       " ['Pearl', 16]]"
      ]
     },
     "execution_count": 4,
     "metadata": {},
     "output_type": "execute_result"
    }
   ],
   "source": [
    "employees"
   ]
  },
  {
   "cell_type": "code",
   "execution_count": 6,
   "metadata": {},
   "outputs": [
    {
     "name": "stdout",
     "output_type": "stream",
     "text": [
      "16\n"
     ]
    }
   ],
   "source": [
    "for employee in employees:\n",
    "\tif(employee[0] == \"Pearl\"):\n",
    "\t\tprint(employee[1])\n",
    "\n",
    "#O(N) complexity"
   ]
  },
  {
   "cell_type": "code",
   "execution_count": 7,
   "metadata": {},
   "outputs": [],
   "source": [
    "# The complexity becomes O(1) when we use Dictionary\n",
    "employees = {}\n",
    "\n",
    "with open(\"Files/output.csv\", \"r\") as f:\n",
    "\tnext(f)\n",
    "\tfor line in f:\n",
    "\t\ttokens = line.split(',')\n",
    "\t\temployee = tokens[0]\n",
    "\t\tage = int(tokens[1])\n",
    "\t\temployees[employee] = age"
   ]
  },
  {
   "cell_type": "code",
   "execution_count": 8,
   "metadata": {},
   "outputs": [
    {
     "data": {
      "text/plain": [
       "16"
      ]
     },
     "execution_count": 8,
     "metadata": {},
     "output_type": "execute_result"
    }
   ],
   "source": [
    "employees[\"Pearl\"]"
   ]
  },
  {
   "cell_type": "code",
   "execution_count": null,
   "metadata": {},
   "outputs": [],
   "source": [
    "#One way to visualize the Internal working:\n",
    "def get_hash(key):\n",
    "\tsum = 0\n",
    "\tfor char in key:\n",
    "\t\tsum += ord(char)\t#ascii value of character\n",
    "\treturn sum % 100"
   ]
  },
  {
   "cell_type": "code",
   "execution_count": 14,
   "metadata": {},
   "outputs": [
    {
     "name": "stdout",
     "output_type": "stream",
     "text": [
      "0\n",
      "48\n"
     ]
    }
   ],
   "source": [
    "print(f\"{get_hash(\"Pearl\")}\")\n",
    "print(f\"{get_hash(\"Squidward\")}\")"
   ]
  },
  {
   "cell_type": "code",
   "execution_count": 15,
   "metadata": {},
   "outputs": [],
   "source": [
    "class HashTable:\n",
    "\tdef __init__(self):\n",
    "\t\tself.MAX = 100\n",
    "\t\tself.arr = [None for i in range(self.MAX)]\n",
    "\n",
    "\tdef get_hash(self, key):\n",
    "\t\tsum = 0\n",
    "\t\tfor char in key:\n",
    "\t\t\tsum += ord(char)\t\n",
    "\t\treturn sum % self.MAX\n",
    "\t\n",
    "\tdef add(self, key, val):\n",
    "\t\thash = self.get_hash(key)\n",
    "\t\tself.arr[hash] = val\n",
    "\n",
    "\tdef get(self, key):\n",
    "\t\treturn self.arr[self.get_hash(key)]"
   ]
  },
  {
   "cell_type": "code",
   "execution_count": 16,
   "metadata": {},
   "outputs": [],
   "source": [
    "table = HashTable()"
   ]
  },
  {
   "cell_type": "code",
   "execution_count": 18,
   "metadata": {},
   "outputs": [],
   "source": [
    "table.add(\"Rahul\", 21)"
   ]
  },
  {
   "cell_type": "code",
   "execution_count": 19,
   "metadata": {},
   "outputs": [
    {
     "data": {
      "text/plain": [
       "21"
      ]
     },
     "execution_count": 19,
     "metadata": {},
     "output_type": "execute_result"
    }
   ],
   "source": [
    "table.get(\"Rahul\")"
   ]
  },
  {
   "cell_type": "code",
   "execution_count": null,
   "metadata": {},
   "outputs": [],
   "source": [
    "class HashTable:\n",
    "\tdef __init__(self):\n",
    "\t\tself.MAX = 100\n",
    "\t\tself.arr = [None for i in range(self.MAX)]\n",
    "\n",
    "\tdef get_hash(self, key):\n",
    "\t\tsum = 0\n",
    "\t\tfor char in key:\n",
    "\t\t\tsum += ord(char)\t\n",
    "\t\treturn sum % self.MAX\n",
    "\t\n",
    "\tdef __setitem__(self, key, val):\t#python operators\n",
    "\t\thash = self.get_hash(key)\n",
    "\t\tself.arr[hash] = val\n",
    "\n",
    "\tdef __getitem__(self, key):\n",
    "\t\treturn self.arr[self.get_hash(key)]\n",
    "\t\n",
    "\tdef __delitem__(self, key):\n",
    "\t\tself.arr[self.get_hash(key)] = None"
   ]
  },
  {
   "cell_type": "code",
   "execution_count": 28,
   "metadata": {},
   "outputs": [],
   "source": [
    "table = HashTable()\n",
    "table[\"Rahul\"] = 21\n",
    "table[\"Alice\"] = 25\n",
    "table[\"Bob\"] = 30\n",
    "table[\"Charlie\"] = 35\n",
    "table[\"David\"] = 40"
   ]
  },
  {
   "cell_type": "code",
   "execution_count": 29,
   "metadata": {},
   "outputs": [
    {
     "data": {
      "text/plain": [
       "21"
      ]
     },
     "execution_count": 29,
     "metadata": {},
     "output_type": "execute_result"
    }
   ],
   "source": [
    "table[\"Rahul\"]"
   ]
  },
  {
   "cell_type": "code",
   "execution_count": 30,
   "metadata": {},
   "outputs": [
    {
     "data": {
      "text/plain": [
       "[None,\n",
       " None,\n",
       " None,\n",
       " None,\n",
       " None,\n",
       " None,\n",
       " None,\n",
       " None,\n",
       " 21,\n",
       " None,\n",
       " None,\n",
       " None,\n",
       " None,\n",
       " None,\n",
       " None,\n",
       " None,\n",
       " None,\n",
       " None,\n",
       " None,\n",
       " None,\n",
       " None,\n",
       " None,\n",
       " None,\n",
       " None,\n",
       " None,\n",
       " None,\n",
       " None,\n",
       " None,\n",
       " None,\n",
       " None,\n",
       " None,\n",
       " None,\n",
       " None,\n",
       " None,\n",
       " None,\n",
       " None,\n",
       " None,\n",
       " None,\n",
       " None,\n",
       " None,\n",
       " None,\n",
       " None,\n",
       " None,\n",
       " None,\n",
       " None,\n",
       " None,\n",
       " None,\n",
       " None,\n",
       " None,\n",
       " None,\n",
       " None,\n",
       " None,\n",
       " None,\n",
       " None,\n",
       " None,\n",
       " None,\n",
       " None,\n",
       " None,\n",
       " None,\n",
       " None,\n",
       " None,\n",
       " None,\n",
       " None,\n",
       " None,\n",
       " None,\n",
       " None,\n",
       " None,\n",
       " None,\n",
       " None,\n",
       " None,\n",
       " None,\n",
       " None,\n",
       " None,\n",
       " None,\n",
       " None,\n",
       " 30,\n",
       " None,\n",
       " None,\n",
       " 25,\n",
       " None,\n",
       " None,\n",
       " None,\n",
       " None,\n",
       " None,\n",
       " None,\n",
       " None,\n",
       " None,\n",
       " None,\n",
       " 40,\n",
       " None,\n",
       " None,\n",
       " None,\n",
       " None,\n",
       " None,\n",
       " None,\n",
       " None,\n",
       " 35,\n",
       " None,\n",
       " None,\n",
       " None]"
      ]
     },
     "execution_count": 30,
     "metadata": {},
     "output_type": "execute_result"
    }
   ],
   "source": [
    "table.arr"
   ]
  },
  {
   "cell_type": "code",
   "execution_count": 31,
   "metadata": {},
   "outputs": [],
   "source": [
    "del table[\"Bob\"]"
   ]
  },
  {
   "cell_type": "code",
   "execution_count": 32,
   "metadata": {},
   "outputs": [
    {
     "data": {
      "text/plain": [
       "[None,\n",
       " None,\n",
       " None,\n",
       " None,\n",
       " None,\n",
       " None,\n",
       " None,\n",
       " None,\n",
       " 21,\n",
       " None,\n",
       " None,\n",
       " None,\n",
       " None,\n",
       " None,\n",
       " None,\n",
       " None,\n",
       " None,\n",
       " None,\n",
       " None,\n",
       " None,\n",
       " None,\n",
       " None,\n",
       " None,\n",
       " None,\n",
       " None,\n",
       " None,\n",
       " None,\n",
       " None,\n",
       " None,\n",
       " None,\n",
       " None,\n",
       " None,\n",
       " None,\n",
       " None,\n",
       " None,\n",
       " None,\n",
       " None,\n",
       " None,\n",
       " None,\n",
       " None,\n",
       " None,\n",
       " None,\n",
       " None,\n",
       " None,\n",
       " None,\n",
       " None,\n",
       " None,\n",
       " None,\n",
       " None,\n",
       " None,\n",
       " None,\n",
       " None,\n",
       " None,\n",
       " None,\n",
       " None,\n",
       " None,\n",
       " None,\n",
       " None,\n",
       " None,\n",
       " None,\n",
       " None,\n",
       " None,\n",
       " None,\n",
       " None,\n",
       " None,\n",
       " None,\n",
       " None,\n",
       " None,\n",
       " None,\n",
       " None,\n",
       " None,\n",
       " None,\n",
       " None,\n",
       " None,\n",
       " None,\n",
       " None,\n",
       " None,\n",
       " None,\n",
       " 25,\n",
       " None,\n",
       " None,\n",
       " None,\n",
       " None,\n",
       " None,\n",
       " None,\n",
       " None,\n",
       " None,\n",
       " None,\n",
       " 40,\n",
       " None,\n",
       " None,\n",
       " None,\n",
       " None,\n",
       " None,\n",
       " None,\n",
       " None,\n",
       " 35,\n",
       " None,\n",
       " None,\n",
       " None]"
      ]
     },
     "execution_count": 32,
     "metadata": {},
     "output_type": "execute_result"
    }
   ],
   "source": [
    "table.arr"
   ]
  },
  {
   "cell_type": "code",
   "execution_count": 33,
   "metadata": {},
   "outputs": [],
   "source": [
    "#30 is gone"
   ]
  },
  {
   "cell_type": "markdown",
   "metadata": {},
   "source": [
    "collision\n",
    "\n",
    "1. Seperate Chaining\n",
    "\n",
    "2. Linear Probing\t= h(k) + i where h(k) = get_hash() and i = no. of collisions\n",
    "\n",
    "3. Quadratic Probing = h(k) + i^2\n",
    "\n",
    "4. Double Hashing =>\n",
    "\n",
    "\th1(k) = k mod 11\n",
    "\th2(k) = 8 - (k mod 8)\n",
    "\n",
    "\t(h1(k) + h2(k)) mod 11"
   ]
  },
  {
   "cell_type": "code",
   "execution_count": 37,
   "metadata": {},
   "outputs": [
    {
     "name": "stdout",
     "output_type": "stream",
     "text": [
      "12\n",
      "88\n",
      "88\n"
     ]
    }
   ],
   "source": [
    "print(get_hash(\"Barry\"))\n",
    "print(get_hash(\"David\"))\n",
    "print(get_hash(\"zzzz\"))"
   ]
  },
  {
   "cell_type": "code",
   "execution_count": 38,
   "metadata": {},
   "outputs": [],
   "source": [
    "table[\"Barry\"] = 28\n",
    "table[\"zzzz\"] = 108\n",
    "\n"
   ]
  },
  {
   "cell_type": "code",
   "execution_count": 40,
   "metadata": {},
   "outputs": [
    {
     "data": {
      "text/plain": [
       "108"
      ]
     },
     "execution_count": 40,
     "metadata": {},
     "output_type": "execute_result"
    }
   ],
   "source": [
    "table[\"David\"]\t #collision"
   ]
  },
  {
   "cell_type": "markdown",
   "metadata": {},
   "source": [
    "### Seperate Chaining"
   ]
  },
  {
   "cell_type": "code",
   "execution_count": 58,
   "metadata": {},
   "outputs": [],
   "source": [
    "class HashTable:\n",
    "\tdef __init__(self):\n",
    "\t\tself.MAX = 100\n",
    "\t\tself.arr = [None for i in range(self.MAX)]\n",
    "\n",
    "\tdef get_hash(self, key):\n",
    "\t\tsum = 0\n",
    "\t\tfor char in key:\n",
    "\t\t\tsum += ord(char)\t\n",
    "\t\treturn sum % self.MAX\n",
    "\t\n",
    "\tdef __setitem__(self, key, val):\t#python operators\n",
    "\t\thash = self.get_hash(key)\n",
    "\t\tif self.arr[hash] is None:\n",
    "\t\t\tself.arr[hash] = []\n",
    "\t\tfound = False\n",
    "\n",
    "\t\tfor index, element in enumerate(self.arr[hash]):\t#enumerate is a function to iterate through the array\n",
    "\t\t\tif len(element) == 2 and element[0] == key:\n",
    "\t\t\t\tself.arr[hash][index] = (key, val)\n",
    "\t\t\t\tfound = True\n",
    "\t\t\t\tbreak\n",
    "\t\t\n",
    "\t\tif not found:\n",
    "\t\t\tself.arr[hash].append((key, val))\n",
    "\n",
    "\tdef __getitem__(self, key):\n",
    "\t\t\n",
    "\t\tfor element in self.arr[self.get_hash(key)]:\n",
    "\t\t\tif element[0] == key:\n",
    "\t\t\t\treturn element[1]\n",
    "\t\n",
    "\tdef __delitem__(self, key):\n",
    "\t\thash = self.get_hash(key)\n",
    "\t\tfor index, element in enumerate(self.arr[hash]):\n",
    "\t\t\tif element[0] == key:\n",
    "\t\t\t\tdel self.arr[hash][index]"
   ]
  },
  {
   "cell_type": "markdown",
   "metadata": {},
   "source": [
    "The provided code snippet appears to be part of a hash table implementation in Python. However, there are a few issues with the method signature and the logic. The method signature should be `__setitem__` instead of `__getitem__`, and the method should handle the case where the bucket is initially `None`. Here is the corrected version of the method with an explanation:\n",
    "\n",
    "\n",
    "\n",
    "### Explanation:\n",
    "\n",
    "1. **Method Definition**:\n",
    "   - `def __setitem__(self, key, val):`: This defines the `__setitem__` method, which is a special method in Python used to set the value associated with a key in a dictionary-like object. This method allows you to use the syntax `hash_table[key] = val`.\n",
    "\n",
    "2. **Hash Calculation**:\n",
    "   - `x = self.get_hash(key)`: This line calculates the hash value for the given `key` using the `get_hash` method. The hash value `x` is used as the index in the array `self.arr`.\n",
    "\n",
    "3. **Initialize Bucket**:\n",
    "   - `if self.arr[x] is None: self.arr[x] = []`: This line checks if the bucket at index `x` is `None` (i.e., empty). If it is, it initializes the bucket as an empty list. This ensures that the bucket is ready to store key-value pairs.\n",
    "\n",
    "4. **Search and Update**:\n",
    "   - `found = False`: This variable is used to track whether the key was found in the bucket.\n",
    "   - `for index, element in enumerate(self.arr[x]):`: This loop iterates through the elements in the bucket at index `x`. The `enumerate` function provides both the index and the element.\n",
    "   - `if len(element) == 2 and element[0] == key:`: This condition checks if the element is a key-value pair (length 2) and if the key matches the given `key`.\n",
    "     - `self.arr[x][index] = (key, val)`: If the key is found, this line updates the value associated with the key.\n",
    "     - `found = True`: This sets the `found` variable to `True` to indicate that the key was found and updated.\n",
    "     - `break`: This exits the loop since the key has been found and updated.\n",
    "\n",
    "5. **Insert New Key-Value Pair**:\n",
    "   - `if not found: self.arr[x].append((key, val))`: If the key was not found in the bucket, this line appends the new key-value pair to the bucket.\n",
    "\n",
    "This method ensures that the hash table can handle collisions by using separate chaining (i.e., storing multiple key-value pairs in a list at each index). It updates the value if the key already exists and appends a new key-value pair if the key does not exist.\n"
   ]
  },
  {
   "cell_type": "code",
   "execution_count": 59,
   "metadata": {},
   "outputs": [],
   "source": [
    "table = HashTable()"
   ]
  },
  {
   "cell_type": "code",
   "execution_count": 60,
   "metadata": {},
   "outputs": [],
   "source": [
    "table[\"Rahul\"] = 21\n",
    "table[\"Alice\"] = 25\n",
    "table[\"Bob\"] = 30\n",
    "table[\"Charlie\"] = 35\n",
    "table[\"David\"] = 40\n",
    "table[\"Barry\"] = 28\n",
    "table[\"zzzz\"] = 108"
   ]
  },
  {
   "cell_type": "code",
   "execution_count": 61,
   "metadata": {},
   "outputs": [
    {
     "data": {
      "text/plain": [
       "[None,\n",
       " None,\n",
       " None,\n",
       " None,\n",
       " None,\n",
       " None,\n",
       " None,\n",
       " None,\n",
       " [('Rahul', 21)],\n",
       " None,\n",
       " None,\n",
       " None,\n",
       " [('Barry', 28)],\n",
       " None,\n",
       " None,\n",
       " None,\n",
       " None,\n",
       " None,\n",
       " None,\n",
       " None,\n",
       " None,\n",
       " None,\n",
       " None,\n",
       " None,\n",
       " None,\n",
       " None,\n",
       " None,\n",
       " None,\n",
       " None,\n",
       " None,\n",
       " None,\n",
       " None,\n",
       " None,\n",
       " None,\n",
       " None,\n",
       " None,\n",
       " None,\n",
       " None,\n",
       " None,\n",
       " None,\n",
       " None,\n",
       " None,\n",
       " None,\n",
       " None,\n",
       " None,\n",
       " None,\n",
       " None,\n",
       " None,\n",
       " None,\n",
       " None,\n",
       " None,\n",
       " None,\n",
       " None,\n",
       " None,\n",
       " None,\n",
       " None,\n",
       " None,\n",
       " None,\n",
       " None,\n",
       " None,\n",
       " None,\n",
       " None,\n",
       " None,\n",
       " None,\n",
       " None,\n",
       " None,\n",
       " None,\n",
       " None,\n",
       " None,\n",
       " None,\n",
       " None,\n",
       " None,\n",
       " None,\n",
       " None,\n",
       " None,\n",
       " [('Bob', 30)],\n",
       " None,\n",
       " None,\n",
       " [('Alice', 25)],\n",
       " None,\n",
       " None,\n",
       " None,\n",
       " None,\n",
       " None,\n",
       " None,\n",
       " None,\n",
       " None,\n",
       " None,\n",
       " [('David', 40), ('zzzz', 108)],\n",
       " None,\n",
       " None,\n",
       " None,\n",
       " None,\n",
       " None,\n",
       " None,\n",
       " None,\n",
       " [('Charlie', 35)],\n",
       " None,\n",
       " None,\n",
       " None]"
      ]
     },
     "execution_count": 61,
     "metadata": {},
     "output_type": "execute_result"
    }
   ],
   "source": [
    "table.arr"
   ]
  },
  {
   "cell_type": "code",
   "execution_count": 62,
   "metadata": {},
   "outputs": [
    {
     "data": {
      "text/plain": [
       "21"
      ]
     },
     "execution_count": 62,
     "metadata": {},
     "output_type": "execute_result"
    }
   ],
   "source": [
    "table[\"Rahul\"]"
   ]
  },
  {
   "cell_type": "code",
   "execution_count": 63,
   "metadata": {},
   "outputs": [
    {
     "data": {
      "text/plain": [
       "40"
      ]
     },
     "execution_count": 63,
     "metadata": {},
     "output_type": "execute_result"
    }
   ],
   "source": [
    "table[\"David\"]"
   ]
  },
  {
   "cell_type": "code",
   "execution_count": 64,
   "metadata": {},
   "outputs": [],
   "source": [
    "del table[\"David\"]"
   ]
  },
  {
   "cell_type": "code",
   "execution_count": 65,
   "metadata": {},
   "outputs": [],
   "source": [
    "table[\"David\"]"
   ]
  },
  {
   "cell_type": "code",
   "execution_count": 66,
   "metadata": {},
   "outputs": [
    {
     "data": {
      "text/plain": [
       "[None,\n",
       " None,\n",
       " None,\n",
       " None,\n",
       " None,\n",
       " None,\n",
       " None,\n",
       " None,\n",
       " [('Rahul', 21)],\n",
       " None,\n",
       " None,\n",
       " None,\n",
       " [('Barry', 28)],\n",
       " None,\n",
       " None,\n",
       " None,\n",
       " None,\n",
       " None,\n",
       " None,\n",
       " None,\n",
       " None,\n",
       " None,\n",
       " None,\n",
       " None,\n",
       " None,\n",
       " None,\n",
       " None,\n",
       " None,\n",
       " None,\n",
       " None,\n",
       " None,\n",
       " None,\n",
       " None,\n",
       " None,\n",
       " None,\n",
       " None,\n",
       " None,\n",
       " None,\n",
       " None,\n",
       " None,\n",
       " None,\n",
       " None,\n",
       " None,\n",
       " None,\n",
       " None,\n",
       " None,\n",
       " None,\n",
       " None,\n",
       " None,\n",
       " None,\n",
       " None,\n",
       " None,\n",
       " None,\n",
       " None,\n",
       " None,\n",
       " None,\n",
       " None,\n",
       " None,\n",
       " None,\n",
       " None,\n",
       " None,\n",
       " None,\n",
       " None,\n",
       " None,\n",
       " None,\n",
       " None,\n",
       " None,\n",
       " None,\n",
       " None,\n",
       " None,\n",
       " None,\n",
       " None,\n",
       " None,\n",
       " None,\n",
       " None,\n",
       " [('Bob', 30)],\n",
       " None,\n",
       " None,\n",
       " [('Alice', 25)],\n",
       " None,\n",
       " None,\n",
       " None,\n",
       " None,\n",
       " None,\n",
       " None,\n",
       " None,\n",
       " None,\n",
       " None,\n",
       " [('zzzz', 108)],\n",
       " None,\n",
       " None,\n",
       " None,\n",
       " None,\n",
       " None,\n",
       " None,\n",
       " None,\n",
       " [('Charlie', 35)],\n",
       " None,\n",
       " None,\n",
       " None]"
      ]
     },
     "execution_count": 66,
     "metadata": {},
     "output_type": "execute_result"
    }
   ],
   "source": [
    "table.arr"
   ]
  },
  {
   "cell_type": "markdown",
   "metadata": {},
   "source": [
    "### Linear Probing"
   ]
  },
  {
   "cell_type": "code",
   "execution_count": null,
   "metadata": {},
   "outputs": [],
   "source": []
  }
 ],
 "metadata": {
  "kernelspec": {
   "display_name": "base",
   "language": "python",
   "name": "python3"
  },
  "language_info": {
   "codemirror_mode": {
    "name": "ipython",
    "version": 3
   },
   "file_extension": ".py",
   "mimetype": "text/x-python",
   "name": "python",
   "nbconvert_exporter": "python",
   "pygments_lexer": "ipython3",
   "version": "3.12.7"
  }
 },
 "nbformat": 4,
 "nbformat_minor": 2
}
