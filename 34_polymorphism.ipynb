{
 "cells": [
  {
   "cell_type": "markdown",
   "metadata": {},
   "source": [
    "Polymorphism is a greek word that means to \"have many forms or faces\"\n",
    "\n",
    "Polymorphism in Python refers to the ability of different objects to respond to the same method call in their own way. For example, methods with the same name across classes can have different implementations.\n",
    "\n",
    "2 Ways to achieve polymorphism:\n",
    "\n",
    "1. Inheritance = An object could be treated of the same type as a parent class\n",
    "2. \"Duck typing\" = Object must have necessary attrubutes/methods "
   ]
  },
  {
   "cell_type": "code",
   "execution_count": 2,
   "metadata": {},
   "outputs": [],
   "source": [
    "from abc import ABC, abstractmethod\n",
    "\n",
    "class Shape(ABC):\n",
    "\n",
    "    @abstractmethod\n",
    "    def area(self):\n",
    "        pass\n",
    "\n",
    "class Circle(Shape):\n",
    "    def __init__(self, radius):\n",
    "        self.radius = radius\n",
    "\n",
    "    def area(self):\n",
    "        return 3.14 * self.radius ** 2\n",
    "\n",
    "class Square(Shape):\n",
    "    def __init__(self, side):\n",
    "        self.side = side\n",
    "\n",
    "    def area(self):\n",
    "        return self.side ** 2\n",
    "\n",
    "class Triangle(Shape):\n",
    "    def __init__(self, base, height):\n",
    "        self.base = base\n",
    "        self.height = height\n",
    "\n",
    "    def area(self):\n",
    "        return self.base * self.height * 0.5\n",
    "\n",
    "class Pizza(Circle):\n",
    "    def __init__(self, topping, radius):\n",
    "        super().__init__(radius)\n",
    "        self.topping = topping\n",
    "\n",
    "shapes = [Circle(4), Square(5), Triangle(6, 7), Pizza(\"pepperoni\", 15)]"
   ]
  },
  {
   "cell_type": "code",
   "execution_count": 3,
   "metadata": {},
   "outputs": [
    {
     "name": "stdout",
     "output_type": "stream",
     "text": [
      "50.24cm²\n",
      "25cm²\n",
      "21.0cm²\n",
      "706.5cm²\n"
     ]
    }
   ],
   "source": [
    "for shape in shapes:\n",
    "\tprint(f\"{shape.area()}cm²\")"
   ]
  },
  {
   "cell_type": "code",
   "execution_count": null,
   "metadata": {},
   "outputs": [],
   "source": []
  }
 ],
 "metadata": {
  "kernelspec": {
   "display_name": "base",
   "language": "python",
   "name": "python3"
  },
  "language_info": {
   "codemirror_mode": {
    "name": "ipython",
    "version": 3
   },
   "file_extension": ".py",
   "mimetype": "text/x-python",
   "name": "python",
   "nbconvert_exporter": "python",
   "pygments_lexer": "ipython3",
   "version": "3.12.7"
  }
 },
 "nbformat": 4,
 "nbformat_minor": 2
}
