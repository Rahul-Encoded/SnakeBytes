{
 "cells": [
  {
   "cell_type": "markdown",
   "id": "f5e01e6b",
   "metadata": {},
   "source": [
    "\n",
    "\n",
    "## Graph Visualization\n",
    "```\n",
    "   (0) → (1) → (2)\n",
    "    |           \n",
    "    ↓          \n",
    "   (3) → (4) → (5)\n",
    "    |  ⇘   ↓    \n",
    "    |   ↓   (2)  \n",
    "    ↓   ↓\n",
    "   (6) (7)\n",
    "```\n",
    "\n"
   ]
  },
  {
   "cell_type": "code",
   "execution_count": 1,
   "id": "7ba19b2e",
   "metadata": {},
   "outputs": [],
   "source": [
    "#Array of Edges (Directed) [Start, end]\n",
    "noOfEdges = 8\n",
    "A = [[0,1],[0,3],[1,2],[3,4],[4,2],[4,5],[5,2],[3,7],[3,6]]"
   ]
  },
  {
   "cell_type": "code",
   "execution_count": 2,
   "id": "73a0948b",
   "metadata": {},
   "outputs": [
    {
     "name": "stdout",
     "output_type": "stream",
     "text": [
      "[0, 0, 0, 0, 0, 0, 0, 0]\n",
      "[0, 0, 0, 0, 0, 0, 0, 0]\n",
      "[0, 0, 0, 0, 0, 0, 0, 0]\n",
      "[0, 0, 0, 0, 0, 0, 0, 0]\n",
      "[0, 0, 0, 0, 0, 0, 0, 0]\n",
      "[0, 0, 0, 0, 0, 0, 0, 0]\n",
      "[0, 0, 0, 0, 0, 0, 0, 0]\n",
      "[0, 0, 0, 0, 0, 0, 0, 0]\n"
     ]
    }
   ],
   "source": [
    "#Convert Array of edges -> Adjacencey Matrix\n",
    "M = []\n",
    "for i in range(noOfEdges):\n",
    "\tM.append([0] * noOfEdges)\n",
    "\n",
    "for i in range(noOfEdges):\n",
    "\tprint(M[i])\n",
    "\n"
   ]
  },
  {
   "cell_type": "code",
   "execution_count": 3,
   "id": "7d689352",
   "metadata": {},
   "outputs": [
    {
     "name": "stdout",
     "output_type": "stream",
     "text": [
      "[0, 1, 0, 1, 0, 0, 0, 0]\n",
      "[0, 0, 1, 0, 0, 0, 0, 0]\n",
      "[0, 0, 0, 0, 0, 0, 0, 0]\n",
      "[0, 0, 0, 0, 1, 0, 1, 1]\n",
      "[0, 0, 1, 0, 0, 1, 0, 0]\n",
      "[0, 0, 1, 0, 0, 0, 0, 0]\n",
      "[0, 0, 0, 0, 0, 0, 0, 0]\n",
      "[0, 0, 0, 0, 0, 0, 0, 0]\n"
     ]
    }
   ],
   "source": [
    "for u,v in A:\n",
    "\tM[u][v] = 1\n",
    "\n",
    "for i in range(noOfEdges):\n",
    "\tprint(M[i])"
   ]
  },
  {
   "cell_type": "code",
   "execution_count": 4,
   "id": "b437d18a",
   "metadata": {},
   "outputs": [
    {
     "name": "stdout",
     "output_type": "stream",
     "text": [
      "[0, 1, 0, 1, 0, 0, 0, 0]\n",
      "[1, 0, 1, 0, 0, 0, 0, 0]\n",
      "[0, 1, 0, 0, 1, 1, 0, 0]\n",
      "[1, 0, 0, 0, 1, 0, 1, 1]\n",
      "[0, 0, 1, 1, 0, 1, 0, 0]\n",
      "[0, 0, 1, 0, 1, 0, 0, 0]\n",
      "[0, 0, 0, 1, 0, 0, 0, 0]\n",
      "[0, 0, 0, 1, 0, 0, 0, 0]\n"
     ]
    }
   ],
   "source": [
    "#for undirected graph\n",
    "for u,v in A:\n",
    "\tM[u][v] = 1\n",
    "\tM[v][u] = 1\n",
    "\n",
    "for i in range(noOfEdges):\n",
    "\tprint(M[i])\n"
   ]
  },
  {
   "cell_type": "code",
   "execution_count": 5,
   "id": "96239796",
   "metadata": {},
   "outputs": [],
   "source": [
    "# Convert Array of Edges => Adjacency List\n",
    "AM = {}\n",
    "for u, v in A:\n",
    "\tif u not in AM:\n",
    "\t\tAM[u] = []  # Initialize the list for the key if it doesn't exist\n",
    "\tAM[u].append(v)"
   ]
  },
  {
   "cell_type": "code",
   "execution_count": 6,
   "id": "711f2ecc",
   "metadata": {},
   "outputs": [
    {
     "name": "stdout",
     "output_type": "stream",
     "text": [
      "{0: [1, 3], 1: [2], 3: [4, 7, 6], 4: [2, 5], 5: [2]}\n"
     ]
    }
   ],
   "source": [
    "print(AM)"
   ]
  },
  {
   "cell_type": "code",
   "execution_count": 7,
   "id": "cb686316",
   "metadata": {},
   "outputs": [
    {
     "name": "stdout",
     "output_type": "stream",
     "text": [
      "{0: [1, 3], 1: [0, 2], 3: [0, 4, 7, 6], 2: [1], 4: [3, 2, 5], 5: [4, 2], 7: [3], 6: [3]}\n"
     ]
    }
   ],
   "source": [
    "#for undirected graph\n",
    "UAM = {}\n",
    "for u, v in A:\n",
    "\tif u not in UAM:\n",
    "\t\tUAM[u] = []\n",
    "\tUAM[u].append(v)\n",
    "\tif v not in UAM:\n",
    "\t\tUAM[v] = []\n",
    "\t\tUAM[v].append(u)\n",
    "\t\n",
    "print(UAM)"
   ]
  },
  {
   "cell_type": "code",
   "execution_count": 8,
   "id": "364a5687",
   "metadata": {},
   "outputs": [
    {
     "name": "stdout",
     "output_type": "stream",
     "text": [
      "0\n",
      "1\n",
      "2\n",
      "3\n",
      "4\n",
      "5\n",
      "7\n",
      "6\n"
     ]
    }
   ],
   "source": [
    "#DFS with Recursion - O(V+E)\n",
    "def dfs_recursive(AM, source):\n",
    "\tprint(source)\n",
    "\tseen.add(source)\n",
    "\t#\n",
    "\tif source in AM:  # Check if the source exists in the adjacency list\n",
    "\t\tfor child in AM[source]:\n",
    "\t\t\tif child in seen: continue\n",
    "\t\t\t#\n",
    "\t\t\tseen.add(child)\n",
    "\t\t\tdfs_recursive(AM, child)\n",
    "\t\t#\t\n",
    "\t#\n",
    "\n",
    "\n",
    "\n",
    "source = 0\n",
    "seen = set()\n",
    "dfs_recursive(AM, source)"
   ]
  },
  {
   "cell_type": "code",
   "execution_count": 9,
   "id": "f46192d4",
   "metadata": {},
   "outputs": [],
   "source": [
    "def dfs_iterative(AM, source):\n",
    "\tseen = set()\n",
    "\tstack = [source]\n",
    "\t\n",
    "\twhile stack:\n",
    "\t\tnode = stack.pop()\n",
    "\t\tprint(node)\n",
    "\t\tseen.add(node)\n",
    "\t\tif node in AM:\n",
    "\t\t\tfor child in AM[node]:\n",
    "\t\t\t\tif child in seen: continue\n",
    "\t\t\t\t\n",
    "\t\t\t\tstack.append(child)\n",
    "\t\t\t\tseen.add(child)\n",
    "\t\t\t"
   ]
  },
  {
   "cell_type": "code",
   "execution_count": 10,
   "id": "e0d62d50",
   "metadata": {},
   "outputs": [
    {
     "name": "stdout",
     "output_type": "stream",
     "text": [
      "0\n",
      "3\n",
      "6\n",
      "7\n",
      "4\n",
      "5\n",
      "2\n",
      "1\n"
     ]
    }
   ],
   "source": [
    "source = 0\n",
    "dfs_iterative(AM, source)"
   ]
  },
  {
   "cell_type": "code",
   "execution_count": 12,
   "id": "b7577766",
   "metadata": {},
   "outputs": [
    {
     "name": "stdout",
     "output_type": "stream",
     "text": [
      "deque([5, 4, 3])\n"
     ]
    }
   ],
   "source": [
    "from collections import deque\n",
    "queue = deque()\n",
    "queue.append(5)\n",
    "queue.append(4)\n",
    "queue.append(3)\n",
    "print(queue)"
   ]
  },
  {
   "cell_type": "code",
   "execution_count": 13,
   "id": "f39c5ea1",
   "metadata": {},
   "outputs": [
    {
     "name": "stdout",
     "output_type": "stream",
     "text": [
      "deque([8, 7, 6, 5, 4, 3])\n"
     ]
    }
   ],
   "source": [
    "queue.appendleft(6)\n",
    "queue.appendleft(7)\n",
    "queue.appendleft(8)\n",
    "print(queue)"
   ]
  },
  {
   "cell_type": "code",
   "execution_count": 14,
   "id": "3afd63ec",
   "metadata": {},
   "outputs": [
    {
     "data": {
      "text/plain": [
       "3"
      ]
     },
     "execution_count": 14,
     "metadata": {},
     "output_type": "execute_result"
    }
   ],
   "source": [
    "queue.pop()"
   ]
  },
  {
   "cell_type": "code",
   "execution_count": 15,
   "id": "786a77a8",
   "metadata": {},
   "outputs": [
    {
     "data": {
      "text/plain": [
       "8"
      ]
     },
     "execution_count": 15,
     "metadata": {},
     "output_type": "execute_result"
    }
   ],
   "source": [
    "queue.popleft()"
   ]
  },
  {
   "cell_type": "code",
   "execution_count": 16,
   "id": "ea7991e9",
   "metadata": {},
   "outputs": [],
   "source": [
    "#queue = append, popleft\n",
    "#queue = appendleft, pop\n"
   ]
  },
  {
   "cell_type": "code",
   "execution_count": 17,
   "id": "0519b34c",
   "metadata": {},
   "outputs": [],
   "source": [
    "def bfs(AM, source):\n",
    "\tseen = set()\n",
    "\tq = deque()\n",
    "\tq.appendleft(source)\n",
    "\n",
    "\twhile q:\n",
    "\t\tnode = q.pop()\n",
    "\t\tseen.add(node)\n",
    "\t\tprint(node)\n",
    "\n",
    "\t\tif node in AM:\n",
    "\t\t\tfor child in AM[node]:\n",
    "\t\t\t\tif child in seen: continue\n",
    "\n",
    "\t\t\t\tq.appendleft(child)\n",
    "\t\t\t\tseen.add(child)\n",
    "\n"
   ]
  },
  {
   "cell_type": "code",
   "execution_count": 18,
   "id": "99d86eff",
   "metadata": {},
   "outputs": [
    {
     "name": "stdout",
     "output_type": "stream",
     "text": [
      "0\n",
      "1\n",
      "3\n",
      "2\n",
      "4\n",
      "7\n",
      "6\n",
      "5\n"
     ]
    }
   ],
   "source": [
    "bfs(AM, 0)"
   ]
  },
  {
   "cell_type": "code",
   "execution_count": null,
   "id": "faf28992",
   "metadata": {},
   "outputs": [],
   "source": []
  }
 ],
 "metadata": {
  "kernelspec": {
   "display_name": "base",
   "language": "python",
   "name": "python3"
  },
  "language_info": {
   "codemirror_mode": {
    "name": "ipython",
    "version": 3
   },
   "file_extension": ".py",
   "mimetype": "text/x-python",
   "name": "python",
   "nbconvert_exporter": "python",
   "pygments_lexer": "ipython3",
   "version": "3.12.7"
  }
 },
 "nbformat": 4,
 "nbformat_minor": 5
}
