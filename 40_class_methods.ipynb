{
 "cells": [
  {
   "cell_type": "markdown",
   "metadata": {},
   "source": [
    "Class Methods allow operations related to the class itself\n",
    "\n",
    "Take (cls) as the first parameter, which represents the class itself\n",
    "\n",
    "(self) refers to any object created form that class."
   ]
  },
  {
   "cell_type": "code",
   "execution_count": 1,
   "metadata": {},
   "outputs": [
    {
     "name": "stdout",
     "output_type": "stream",
     "text": [
      "Total # of students: 3\n",
      "Average gpa: 3.07\n"
     ]
    }
   ],
   "source": [
    "class Student:\n",
    "\n",
    "    count = 0\n",
    "    total_gpa = 0\n",
    "\n",
    "    def __init__(self, name, gpa):\n",
    "        self.name = name\n",
    "        self.gpa = gpa\n",
    "        Student.count += 1\n",
    "        Student.total_gpa += gpa\n",
    "\n",
    "    #INSTANCE METHOD\n",
    "    def get_info(self):\n",
    "        return f\"{self.name} {self.gpa}\"\n",
    "\n",
    "    @classmethod\n",
    "    def get_count(cls):\n",
    "        return f\"Total # of students: {cls.count}\"\n",
    "\n",
    "    @classmethod\n",
    "    def get_average_gpa(cls):\n",
    "        if cls.count == 0:\n",
    "            return 0\n",
    "        else:\n",
    "            return f\"Average gpa: {cls.total_gpa / cls.count:.2f}\"\n",
    "\n",
    "student1 = Student(\"Spongebob\", 3.2)\n",
    "student2 = Student(\"Patrick\", 2.0)\n",
    "student3 = Student(\"Sandy\", 4.0)\n",
    "\n",
    "print(Student.get_count())\n",
    "print(Student.get_average_gpa())"
   ]
  },
  {
   "cell_type": "code",
   "execution_count": null,
   "metadata": {},
   "outputs": [],
   "source": []
  }
 ],
 "metadata": {
  "kernelspec": {
   "display_name": "base",
   "language": "python",
   "name": "python3"
  },
  "language_info": {
   "codemirror_mode": {
    "name": "ipython",
    "version": 3
   },
   "file_extension": ".py",
   "mimetype": "text/x-python",
   "name": "python",
   "nbconvert_exporter": "python",
   "pygments_lexer": "ipython3",
   "version": "3.12.7"
  }
 },
 "nbformat": 4,
 "nbformat_minor": 2
}
