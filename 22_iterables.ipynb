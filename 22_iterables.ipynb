{
 "cells": [
  {
   "cell_type": "code",
   "execution_count": 6,
   "metadata": {},
   "outputs": [
    {
     "name": "stdout",
     "output_type": "stream",
     "text": [
      "1\n",
      "2\n",
      "3\n",
      "4\n",
      "5\n",
      "--------------------------------------\n",
      "5 - 4 - 3 - 2 - 1 - \n",
      "\n",
      "orange\n",
      "apple\n",
      "banana\n",
      "coconut\n",
      "--------------------------------------\n",
      "MonRch\n",
      "\n",
      "A\n",
      "B\n",
      "C\n",
      "1\n",
      "2\n",
      "3\n",
      "A = 1\n",
      "B = 2\n",
      "C = 3\n"
     ]
    }
   ],
   "source": [
    "# Iterables = AN object/collection that can return it's elements one at a time, allowing it to be iterated over in a loop.\n",
    "\n",
    "my_list = [1, 2, 3, 4, 5]\n",
    "my_tuple = (1, 2, 3, 4, 5)\n",
    "my_set = {\"apple\", \"orange\", \"banana\", \"coconut\"}\n",
    "my_name = \"MonRch\"\n",
    "my_dictionary = {'A': 1, 'B': 2, 'C': 3}\n",
    "\n",
    "for item in my_list:\n",
    "    print(item)\n",
    "print(\"--------------------------------------\")\n",
    "for item in reversed(my_tuple):\n",
    "    print(item, end = \" - \")\n",
    "print(\"\\n\")\n",
    "for item in my_set:\n",
    "    print(item)\n",
    "print(\"--------------------------------------\")\n",
    "for char in my_name:\n",
    "    print(char, end=\"\")\n",
    "print(\"\\n\")\n",
    "\n",
    "for key in my_dictionary:\n",
    "    print(key)\n",
    "\n",
    "for value in my_dictionary.values():\n",
    "    print(value)\n",
    "\n",
    "for key, value in my_dictionary.items():\n",
    "    print(f\"{key} = {value}\")\n"
   ]
  }
 ],
 "metadata": {
  "kernelspec": {
   "display_name": "base",
   "language": "python",
   "name": "python3"
  },
  "language_info": {
   "codemirror_mode": {
    "name": "ipython",
    "version": 3
   },
   "file_extension": ".py",
   "mimetype": "text/x-python",
   "name": "python",
   "nbconvert_exporter": "python",
   "pygments_lexer": "ipython3",
   "version": "3.12.7"
  }
 },
 "nbformat": 4,
 "nbformat_minor": 2
}
