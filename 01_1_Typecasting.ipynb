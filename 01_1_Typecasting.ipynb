{
 "cells": [
  {
   "cell_type": "code",
   "execution_count": null,
   "id": "6750c1a0-2fc3-48f5-99a4-1897bfdddcb4",
   "metadata": {},
   "outputs": [],
   "source": [
    "#typecasting: The process of converting a value of one data type to another\n",
    "#             (string, int, float, boolean)\n",
    "#             Explicit v/s Implicit"
   ]
  },
  {
   "cell_type": "code",
   "execution_count": 1,
   "id": "446f8228-372c-461d-b4da-757b4bd1ad77",
   "metadata": {},
   "outputs": [
    {
     "name": "stdout",
     "output_type": "stream",
     "text": [
      "<class 'str'>\n",
      "<class 'int'>\n",
      "<class 'float'>\n",
      "<class 'bool'>\n"
     ]
    }
   ],
   "source": [
    "name = \"Rahul\"\n",
    "age = 20\n",
    "CGPA = 8.44\n",
    "student = True\n",
    "\n",
    "print(type(name))\n",
    "print(type(age))\n",
    "print(type(CGPA))\n",
    "print(type(student))"
   ]
  },
  {
   "cell_type": "code",
   "execution_count": 3,
   "id": "7c01a952-a674-44cb-afae-97423310b4e9",
   "metadata": {},
   "outputs": [
    {
     "name": "stdout",
     "output_type": "stream",
     "text": [
      "20.0\n",
      "<class 'float'>\n"
     ]
    }
   ],
   "source": [
    "age = float(age)\n",
    "print(age)\n",
    "print(type(age))"
   ]
  },
  {
   "cell_type": "code",
   "execution_count": 5,
   "id": "03b5375c-ce78-4ef9-9e40-c89cf1608cd9",
   "metadata": {},
   "outputs": [
    {
     "name": "stdout",
     "output_type": "stream",
     "text": [
      "8\n",
      "<class 'int'>\n"
     ]
    }
   ],
   "source": [
    "CGPA = int(CGPA)\n",
    "print(CGPA)\n",
    "print(type(CGPA))"
   ]
  },
  {
   "cell_type": "code",
   "execution_count": 9,
   "id": "d7031649-9bf0-42a3-8450-ec9e67468c55",
   "metadata": {},
   "outputs": [
    {
     "name": "stdout",
     "output_type": "stream",
     "text": [
      "5\n",
      "<class 'int'>\n"
     ]
    }
   ],
   "source": [
    "height_ft= 5.7\n",
    "height_ft = int(height_ft)\n",
    "print((height_ft))\n",
    "print(type(height_ft))"
   ]
  },
  {
   "cell_type": "code",
   "execution_count": null,
   "id": "4843673e-ea9c-4463-a565-225b147ae864",
   "metadata": {},
   "outputs": [
    {
     "name": "stdout",
     "output_type": "stream",
     "text": [
      "6.0\n"
     ]
    }
   ],
   "source": [
    "#implicit\n",
    "x = 2.0\n",
    "y = 3\n",
    "print(x*y)"
   ]
  }
 ],
 "metadata": {
  "kernelspec": {
   "display_name": "base",
   "language": "python",
   "name": "python3"
  },
  "language_info": {
   "codemirror_mode": {
    "name": "ipython",
    "version": 3
   },
   "file_extension": ".py",
   "mimetype": "text/x-python",
   "name": "python",
   "nbconvert_exporter": "python",
   "pygments_lexer": "ipython3",
   "version": "3.12.7"
  }
 },
 "nbformat": 4,
 "nbformat_minor": 5
}
