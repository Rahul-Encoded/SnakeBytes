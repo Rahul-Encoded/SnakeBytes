{
 "cells": [
  {
   "cell_type": "markdown",
   "metadata": {},
   "source": [
    "Types of functions:\n",
    "1. Positional\n",
    "2. default\n",
    "3. keyword\n",
    "4. arbritary"
   ]
  },
  {
   "cell_type": "code",
   "execution_count": null,
   "metadata": {},
   "outputs": [
    {
     "name": "stdout",
     "output_type": "stream",
     "text": [
      "Hello Light\n",
      "Your bill of $42.50 is due: 01/02\n",
      "Hello Lawliet\n",
      "Your bill of $100.99 is due: 02/03\n",
      "Light Yagami\n"
     ]
    }
   ],
   "source": [
    "# 1. Positional\n",
    "# function is a block of reusable code \n",
    "# Place () after the function to invoke it\n",
    "\n",
    "#---------  EXAMPLE 1  --------- \n",
    "def display_invoice(username, amount, due_date):\n",
    "   print(f\"Hello {username}\")\n",
    "   print(f\"Your bill of ${amount:.2f} is due: {due_date}\")\n",
    "\n",
    "display_invoice(\"Light\", 42.50, \"01/02\")\n",
    "display_invoice(\"Lawliet\", 100.99, \"02/03\")\n",
    "\n",
    "#---------  EXAMPLE 2  --------- \n",
    "# return = statement used to end a function and sent a result back to the caller\n",
    "def create_name(first, last):\n",
    "    first = first.capitalize()\n",
    "    last = last.capitalize()\n",
    "    return first + \" \" + last\n",
    "\n",
    "full_name = create_name(\"Light\", \"Yagami\")\n",
    "print(full_name)"
   ]
  },
  {
   "cell_type": "code",
   "execution_count": null,
   "metadata": {},
   "outputs": [
    {
     "name": "stdout",
     "output_type": "stream",
     "text": [
      "475.0\n",
      "427.5\n",
      "450.0\n",
      "0\n",
      "1\n",
      "2\n",
      "3\n",
      "4\n",
      "5\n",
      "DONE!\n",
      "25\n",
      "26\n",
      "27\n",
      "28\n",
      "29\n",
      "30\n",
      "DONE!\n",
      "DONE!\n"
     ]
    }
   ],
   "source": [
    "\"\"\"\n",
    "2. A default arguments is for certain parameters.\n",
    "default is used when the argument is omitted.\n",
    "It makes your functions more flexible and reduces the number of arguments\n",
    "NON-DEFAULT ARGUMENTS SHOULD FOLLOW DEFAULT ARGUMENT!\n",
    "\"\"\"\n",
    "\n",
    "#---- EXAMPLE 1 ----\n",
    "def net_price(list_price, discount=0, tax=0.05):\n",
    "   return list_price * (1 - discount) * (1 - tax)\n",
    "\n",
    "print(net_price(500))\n",
    "print(net_price(500, 0.1))\n",
    "print(net_price(500, 0.1, 0))\n",
    "\n",
    "#---- EXAMPLE 2 ----\n",
    "import time\n",
    "\n",
    "def count(end, start=0): #We can't write count(start=0, end)\n",
    "    for x in range(start, end+1):\n",
    "        print(x)\n",
    "        time.sleep(1)\n",
    "    print(\"DONE!\")\n",
    "\n",
    "count(5)\n",
    "count(30, 25)\n",
    "count(6, 9)\n"
   ]
  },
  {
   "cell_type": "code",
   "execution_count": null,
   "metadata": {},
   "outputs": [
    {
     "name": "stdout",
     "output_type": "stream",
     "text": [
      "Hello Mr.James John\n",
      "1 2 3 4 5 6 7 8 9 10 1-2-3-4-5\n",
      "1-123-456-7890\n"
     ]
    }
   ],
   "source": [
    "\"\"\"\n",
    "3. Keyword Arguments are preceded by an identifier\n",
    "\t Helps with readability\n",
    "\t Order of arguments don't matter\n",
    "\"\"\"\n",
    "\n",
    "#---- EXAMPLE 1 ----\n",
    "def hello(greeting, title, first, last):\n",
    "    print(f\"{greeting} {title}{first} {last}\")\n",
    "#In fact print() is also a default argument where end = new-line and in order to tweak it we can proceed with writing print(\"\", end=\" \")\n",
    "\n",
    "hello(\"Hello\", title=\"Mr.\", last=\"John\", first=\"James\")\n",
    "# hello(title=\"Mr.\", last=\"John\", first=\"James\", \"Hello\") Positional Arguments follow keyword argument\n",
    "\n",
    "#---- EXAMPLE 2 ----\n",
    "for number in range(1, 11):\n",
    "    print(number, end=\" \")\n",
    "\n",
    "print(\"1\", \"2\", \"3\", \"4\", \"5\", sep=\"-\")\n",
    "\n",
    "#---- EXERCISE ----\n",
    "def get_phone(country, area, first, last):\n",
    "    return f\"{country}-{area}-{first}-{last}\"\n",
    "\n",
    "phone_num = get_phone(country=1, area=123, first=456, last=7890)\n",
    "print(phone_num)"
   ]
  },
  {
   "cell_type": "code",
   "execution_count": 12,
   "metadata": {},
   "outputs": [
    {
     "name": "stdout",
     "output_type": "stream",
     "text": [
      "10\n",
      "Hello Dr. Spongebob Harold Squarepants III 123 Fake St. P.O Box 777 Detroit MI 54321 Dr. Spongebob Squarepants \n",
      "123 Fake St.\n",
      "PO box #1001\n",
      "Detroit, MI 54321\n",
      "----------------------------------------------------------\n",
      "Dr. Spongebob Squarepants \n",
      "123 Fake St. Hillside apartment\n",
      "Detroit, MI 54321\n",
      "----------------------------------------------------------\n",
      "Dr. Spongebob Squarepants \n",
      "123 Fake St.\n",
      "Detroit, MI 54321\n"
     ]
    }
   ],
   "source": [
    "\"\"\"\n",
    "4. Arbritrary Arguments\n",
    "*args = allws you to pass multiple non-key arguments\n",
    "**kwargs = allows you to pass multiple keyword-arguments\n",
    "\n",
    "* = unopacking operator\n",
    "\"\"\"\n",
    "\n",
    "#---- *ARGS Example 1 ----\n",
    "\n",
    "def add(*nums):\n",
    "   total = 0\n",
    "   for num in nums:\n",
    "       total += num\n",
    "   return total\n",
    "\n",
    "print(add(1, 2, 3, 4))\n",
    "\n",
    "#---- *ARGS Example 2 ----\n",
    "\n",
    "def display_name(*args):\n",
    "   print(f\"Hello\", end=\" \")\n",
    "   for arg in args:\n",
    "       print(arg, end=\" \")\n",
    "\n",
    "display_name(\"Dr.\", \"Spongebob\", \"Harold\", \"Squarepants\", \"III\")\n",
    "\n",
    "#---- **KWARGS ----\n",
    "def print_address(**kwargs):\n",
    "    for value in kwargs.values():\n",
    "        print(value, end=\" \")\n",
    "\n",
    "print_address(street=\"123 Fake St.\",\n",
    "              pobox=\"P.O Box 777\",\n",
    "              city=\"Detroit\",\n",
    "              state=\"MI\",\n",
    "              zip=\"54321\")\n",
    "\n",
    "#---- EXERCISE ----\n",
    "def shipping_label(*args, **kwargs):\n",
    "    for arg in args:\n",
    "        print(arg, end=\" \")\n",
    "    print()\n",
    "\n",
    "    if \"apt\" in kwargs:\n",
    "        print(f\"{kwargs.get('street')} {kwargs.get('apt')}\")\n",
    "    elif \"pobox\" in kwargs:\n",
    "        print(f\"{kwargs.get('street')}\")\n",
    "        print(f\"{kwargs.get('pobox')}\")\n",
    "    else:\n",
    "        print(f\"{kwargs.get('street')}\")\n",
    "\n",
    "    print(f\"{kwargs.get('city')}, {kwargs.get('state')} {kwargs.get('zip')}\")\n",
    "\n",
    "shipping_label(\"Dr.\", \"Spongebob\", \"Squarepants\",\n",
    "               street=\"123 Fake St.\",\n",
    "               pobox=\"PO box #1001\",\n",
    "               city=\"Detroit\",\n",
    "               state=\"MI\",\n",
    "               zip=\"54321\")\n",
    "print(\"----------------------------------------------------------\")\n",
    "shipping_label(\"Dr.\", \"Spongebob\", \"Squarepants\",\n",
    "               street=\"123 Fake St.\",\n",
    "               apt=\"Hillside apartment\",\n",
    "               city=\"Detroit\",\n",
    "               state=\"MI\",\n",
    "               zip=\"54321\")\n",
    "print(\"----------------------------------------------------------\")\n",
    "shipping_label(\"Dr.\", \"Spongebob\", \"Squarepants\",\n",
    "               street=\"123 Fake St.\",\n",
    "               pincode=\"21345\", \n",
    "               city=\"Detroit\",\n",
    "               state=\"MI\",\n",
    "               zip=\"54321\")"
   ]
  },
  {
   "cell_type": "code",
   "execution_count": null,
   "metadata": {},
   "outputs": [],
   "source": []
  }
 ],
 "metadata": {
  "kernelspec": {
   "display_name": "base",
   "language": "python",
   "name": "python3"
  },
  "language_info": {
   "codemirror_mode": {
    "name": "ipython",
    "version": 3
   },
   "file_extension": ".py",
   "mimetype": "text/x-python",
   "name": "python",
   "nbconvert_exporter": "python",
   "pygments_lexer": "ipython3",
   "version": "3.12.7"
  }
 },
 "nbformat": 4,
 "nbformat_minor": 2
}
