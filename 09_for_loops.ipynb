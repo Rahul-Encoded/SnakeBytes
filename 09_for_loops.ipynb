{
 "cells": [
  {
   "cell_type": "code",
   "execution_count": 1,
   "metadata": {},
   "outputs": [
    {
     "name": "stdout",
     "output_type": "stream",
     "text": [
      "1\n",
      "2\n",
      "3\n",
      "4\n",
      "5\n",
      "6\n",
      "7\n",
      "8\n",
      "9\n",
      "10\n",
      "10\n",
      "9\n",
      "8\n",
      "7\n",
      "6\n",
      "5\n",
      "4\n",
      "3\n",
      "2\n",
      "1\n",
      "Happy New Year!\n",
      "1\n",
      "3\n",
      "5\n",
      "7\n",
      "9\n",
      "1\n",
      "2\n",
      "3\n",
      "4\n",
      "-\n",
      "5\n",
      "6\n",
      "7\n",
      "8\n",
      "-\n",
      "9\n",
      "0\n",
      "1\n",
      "2\n",
      "-\n",
      "3\n",
      "4\n",
      "5\n",
      "6\n",
      "1\n",
      "2\n",
      "3\n",
      "4\n",
      "5\n",
      "6\n",
      "7\n",
      "8\n",
      "9\n",
      "10\n",
      "11\n",
      "12\n",
      "14\n",
      "15\n",
      "16\n",
      "17\n",
      "18\n",
      "19\n",
      "20\n",
      "1\n",
      "2\n",
      "3\n",
      "4\n",
      "5\n",
      "6\n",
      "7\n",
      "8\n",
      "9\n",
      "10\n",
      "11\n",
      "12\n"
     ]
    }
   ],
   "source": [
    "# for loops = execute a block of code a fixed number of times.\n",
    "# You can iterate over a range, string, sequence, etc.\n",
    "\n",
    "# --------------- EXAMPLE 1 ---------------\n",
    "\n",
    "for x in range(1, 11):\n",
    "# for(int x = 1; x < 12; x++): WRONG!!!\n",
    "   print(x)\n",
    "\n",
    "# --------------- EXAMPLE 2 ---------------\n",
    "\n",
    "for x in reversed(range(1, 11)):\n",
    "   print(x)\n",
    "\n",
    "print(\"Happy New Year!\")\n",
    "\n",
    "# --------------- EXAMPLE 3 ---------------\n",
    "\n",
    "for x in range(1, 11, 2): #step \n",
    "   print(x)\n",
    "\n",
    "# --------------- EXAMPLE 4 ---------------\n",
    "\n",
    "credit_card = \"1234-5678-9012-3456\"\n",
    "\n",
    "for x in credit_card:\n",
    "   print(x)\n",
    "\n",
    "# --------------- CONTINUE ---------------\n",
    "\n",
    "for x in range(1, 21):\n",
    "   if x == 13:\n",
    "       continue\n",
    "   else:\n",
    "       print(x)\n",
    "\n",
    "# --------------- BREAK ---------------\n",
    "\n",
    "for x in range(1, 21):\n",
    "   if x == 13:\n",
    "       break\n",
    "   else:\n",
    "       print(x)"
   ]
  },
  {
   "cell_type": "code",
   "execution_count": 2,
   "metadata": {},
   "outputs": [
    {
     "name": "stdout",
     "output_type": "stream",
     "text": [
      "*\n",
      "*\n",
      "*\n",
      "*\n",
      "*\n",
      "\n",
      "*\n",
      "*\n",
      "*\n",
      "*\n",
      "*\n",
      "\n",
      "*\n",
      "*\n",
      "*\n",
      "*\n",
      "*\n",
      "\n",
      "*\n",
      "*\n",
      "*\n",
      "*\n",
      "*\n",
      "\n",
      "*\n",
      "*\n",
      "*\n",
      "*\n",
      "*\n",
      "\n"
     ]
    }
   ],
   "source": [
    "#nested loops\n",
    "# A loop within another loop (outer, inner)\n",
    "# outer loop:\n",
    "# inner loop:\n",
    "\n",
    "rows = int(input(\"Enter the # of rows: \"))\n",
    "columns = int(input(\"Enter the # of columns: \"))\n",
    "symbol = input(\"Enter a symbol to use: \")\n",
    "\n",
    "for x in range(rows):\n",
    "   for y in range(columns): #no matter the loop . it always start wit a new line \n",
    "       print(symbol)\n",
    "   print()"
   ]
  },
  {
   "cell_type": "code",
   "execution_count": 4,
   "metadata": {},
   "outputs": [
    {
     "name": "stdout",
     "output_type": "stream",
     "text": [
      "* * * * * \n",
      "* * * * * \n",
      "* * * * * \n",
      "* * * * * \n",
      "* * * * * \n"
     ]
    }
   ],
   "source": [
    "rows = int(input(\"Enter the # of rows: \"))\n",
    "columns = int(input(\"Enter the # of columns: \"))\n",
    "symbol = input(\"Enter a symbol to use: \")\n",
    "\n",
    "for x in range(rows):\n",
    "   for y in range(columns):\n",
    "       print(symbol, end=\" \") #in order to escape the new line\n",
    "   print()"
   ]
  },
  {
   "cell_type": "code",
   "execution_count": 5,
   "metadata": {},
   "outputs": [
    {
     "name": "stdout",
     "output_type": "stream",
     "text": [
      "TIME'S UP!!!\n"
     ]
    }
   ],
   "source": [
    "#countdown timer\n",
    "\n",
    "import time\n",
    "\n",
    "time.sleep(3)\n",
    "\n",
    "print(\"TIME'S UP!!!\")"
   ]
  },
  {
   "cell_type": "code",
   "execution_count": 8,
   "metadata": {},
   "outputs": [
    {
     "name": "stdout",
     "output_type": "stream",
     "text": [
      "4\n",
      "3\n",
      "2\n",
      "1\n"
     ]
    }
   ],
   "source": [
    "import time\n",
    "\n",
    "my_time = int(input(\"Enter the time in seconds: \"))\n",
    "\n",
    "for i in range(my_time, 0, -1):\n",
    "    print(i)"
   ]
  },
  {
   "cell_type": "code",
   "execution_count": 15,
   "metadata": {},
   "outputs": [
    {
     "name": "stdout",
     "output_type": "stream",
     "text": [
      "00:00:05\n",
      "00:00:04\n",
      "00:00:03\n",
      "00:00:02\n",
      "00:00:01\n",
      "00:00:00\n"
     ]
    }
   ],
   "source": [
    "import time\n",
    "\n",
    "my_time = int(input(\"Enter the time in seconds: \"))\n",
    "\n",
    "for i in range(my_time, -1, -1):\n",
    "    seconds = i % 60\n",
    "    minutes = int(i/60) % 60\n",
    "    hours = int(i/3600) #% 24\n",
    "    # days = hours % 24\n",
    "    print(f\"{hours:02}:{minutes:02}:{seconds:02}\")\n",
    "    time.sleep(1)"
   ]
  },
  {
   "cell_type": "code",
   "execution_count": 24,
   "metadata": {},
   "outputs": [
    {
     "name": "stdout",
     "output_type": "stream",
     "text": [
      "1234567890123456\n",
      "The credit card # is invalid\n"
     ]
    }
   ],
   "source": [
    "#Python credit card validator program\n",
    "\n",
    "# 1. remove any '-' or ' '.\n",
    "# 2. Add all digits in odd places from right to left.\n",
    "# 3. Double every second digit from right to left.\n",
    "#     if the result is a 2 digit number, add the 2 digit number together to get a single digit digit.\n",
    "# 4. Sum the totals of steps 2 and 3.\n",
    "# 5. If sum is divisible by 10, the credit card # is valid\n",
    "\n",
    "cred = input(\"Enter your credit card number: \")\n",
    "\n",
    "#step1\n",
    "cred.replace(\"-\", \"\")\n",
    "cred.replace(\" \", \"\")\n",
    "print(cred)\n",
    "\n",
    "cred = cred[::-1]\n",
    "    \n",
    "sum = 0\n",
    "sum_even_digits = 0\n",
    "\n",
    "#step2\n",
    "for i in cred[::2]:\n",
    "    sum += int(i)\n",
    "\n",
    "#step3\n",
    "for i in cred[1::2]:\n",
    "    i = 2 * int(i)\n",
    "    if i >= 10:\n",
    "        sum_even_digits += (1 + (i%10))\n",
    "    else:\n",
    "        sum_even_digits += i\n",
    "\n",
    "#step4\n",
    "sum += sum_even_digits        \n",
    "\n",
    "if sum%10 == 0:\n",
    "    print(\"The credit card # is valid\")\n",
    "else:\n",
    "    print(\"The credit card # is invalid\")\n"
   ]
  },
  {
   "cell_type": "code",
   "execution_count": null,
   "metadata": {},
   "outputs": [],
   "source": []
  }
 ],
 "metadata": {
  "kernelspec": {
   "display_name": "base",
   "language": "python",
   "name": "python3"
  },
  "language_info": {
   "codemirror_mode": {
    "name": "ipython",
    "version": 3
   },
   "file_extension": ".py",
   "mimetype": "text/x-python",
   "name": "python",
   "nbconvert_exporter": "python",
   "pygments_lexer": "ipython3",
   "version": "3.9.18"
  }
 },
 "nbformat": 4,
 "nbformat_minor": 2
}
