{
 "cells": [
  {
   "cell_type": "markdown",
   "metadata": {},
   "source": [
    "exception = An event that interrupts the flow of a program\n",
    "\n",
    "(ZeroDivisionError, TypeError, ValueError)\n",
    "\n",
    "1.try, \n",
    "\n",
    "2.except, \n",
    "\n",
    "3.finally"
   ]
  },
  {
   "cell_type": "code",
   "execution_count": 2,
   "metadata": {},
   "outputs": [
    {
     "name": "stdout",
     "output_type": "stream",
     "text": [
      "You can't divide by zero IDIOT!\n",
      "Always executes... Do some cleanup here\n"
     ]
    }
   ],
   "source": [
    "try:\n",
    "    number = int(input(\"Enter a number: \"))\n",
    "    print(1 / number)\n",
    "except ZeroDivisionError:\n",
    "    print(\"You can't divide by zero IDIOT!\")\n",
    "except ValueError:\n",
    "    print(\"Enter only numbers please!\")\n",
    "except Exception:\n",
    "    print(\"Something went wrong!\")\n",
    "finally:\n",
    "    print(\"Always executes... Do some cleanup here\")"
   ]
  }
 ],
 "metadata": {
  "kernelspec": {
   "display_name": "base",
   "language": "python",
   "name": "python3"
  },
  "language_info": {
   "codemirror_mode": {
    "name": "ipython",
    "version": 3
   },
   "file_extension": ".py",
   "mimetype": "text/x-python",
   "name": "python",
   "nbconvert_exporter": "python",
   "pygments_lexer": "ipython3",
   "version": "3.12.7"
  }
 },
 "nbformat": 4,
 "nbformat_minor": 2
}
