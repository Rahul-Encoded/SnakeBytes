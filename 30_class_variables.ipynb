{
 "cells": [
  {
   "cell_type": "markdown",
   "metadata": {},
   "source": [
    "Class Variables = Shared among all instances of a class\n",
    "\n",
    "Defined outside the constructor\n",
    "\n",
    "Allows you to share data among all objects created from the class"
   ]
  },
  {
   "cell_type": "code",
   "execution_count": 5,
   "metadata": {},
   "outputs": [
    {
     "name": "stdout",
     "output_type": "stream",
     "text": [
      "Vyapti - 22 - 2024\n",
      "Preeti - 23 - 2024\n",
      "2\n"
     ]
    }
   ],
   "source": [
    "class Student:\n",
    "\n",
    "\tclass_year = 2024\n",
    "\tnum_students = 0\n",
    "\n",
    "\tdef __init__(self, name, age):\n",
    "\t\tself.name = name\n",
    "\t\tself.age = age\n",
    "\t\tStudent.num_students += 1\n",
    "\n",
    "student1 = Student(\"Vyapti\", 22)\n",
    "student2 = Student(\"Preeti\", 23)\n",
    "\n",
    "print(f\"{student1.name} - {student1.age} - {Student.class_year}\")\n",
    "print(f\"{student2.name} - {student2.age} - {Student.class_year}\")\n",
    "\n",
    "print(Student.num_students)\n",
    "\n",
    "#Good practice to access the class variable by the class name itself"
   ]
  },
  {
   "cell_type": "code",
   "execution_count": 6,
   "metadata": {},
   "outputs": [
    {
     "name": "stdout",
     "output_type": "stream",
     "text": [
      "3\n"
     ]
    }
   ],
   "source": [
    "student3 = Student(\"Shreya\", 23)\n",
    "print(Student.num_students)"
   ]
  },
  {
   "cell_type": "code",
   "execution_count": null,
   "metadata": {},
   "outputs": [],
   "source": []
  }
 ],
 "metadata": {
  "kernelspec": {
   "display_name": "base",
   "language": "python",
   "name": "python3"
  },
  "language_info": {
   "codemirror_mode": {
    "name": "ipython",
    "version": 3
   },
   "file_extension": ".py",
   "mimetype": "text/x-python",
   "name": "python",
   "nbconvert_exporter": "python",
   "pygments_lexer": "ipython3",
   "version": "3.12.7"
  }
 },
 "nbformat": 4,
 "nbformat_minor": 2
}
