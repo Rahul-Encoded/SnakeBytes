{
 "cells": [
  {
   "cell_type": "code",
   "execution_count": 3,
   "metadata": {},
   "outputs": [
    {
     "name": "stdout",
     "output_type": "stream",
     "text": [
      "------------YOUR CART------------\n",
      "Food           :           Price\n",
      "Dhruva         :           69.0\n",
      "Vyapti         :           88.0\n",
      "Preeti         :          108.0\n"
     ]
    },
    {
     "data": {
      "text/plain": [
       "'\\n Cell In[1],   line 16\\n    print(f\"Food{:<15}:           Price\")\\n                                        ^\\nSyntaxError: f-string: empty expression not allowed\\n'"
      ]
     },
     "execution_count": 3,
     "metadata": {},
     "output_type": "execute_result"
    }
   ],
   "source": [
    "foods = []\n",
    "prices = []\n",
    "total = 0\n",
    "\n",
    "while True:\n",
    "    food = input(\"Enter a food to buy (Press q to quit): \")\n",
    "\n",
    "    if not food.lower() == 'q':\n",
    "        price = float(input(f\"Enter the price of a {food}: $\"))\n",
    "        foods.append(food)\n",
    "        prices.append(price)\n",
    "    else:\n",
    "        break\n",
    "\n",
    "print(\"------------YOUR CART------------\")\n",
    "print(\"Food           :           Price\")\n",
    "for i in range(len(foods)):\n",
    "    print(f\"{foods[i]:<15}:{prices[i]:>15}\")\n",
    "    \n",
    "'''\n",
    " Cell In[1],   line 16\n",
    "    print(f\"Food{:<15}:           Price\")\n",
    "                                        ^\n",
    "SyntaxError: f-string: empty expression not allowed\n",
    "'''"
   ]
  },
  {
   "cell_type": "code",
   "execution_count": null,
   "metadata": {},
   "outputs": [],
   "source": []
  },
  {
   "cell_type": "code",
   "execution_count": null,
   "metadata": {},
   "outputs": [],
   "source": []
  }
 ],
 "metadata": {
  "kernelspec": {
   "display_name": "base",
   "language": "python",
   "name": "python3"
  },
  "language_info": {
   "codemirror_mode": {
    "name": "ipython",
    "version": 3
   },
   "file_extension": ".py",
   "mimetype": "text/x-python",
   "name": "python",
   "nbconvert_exporter": "python",
   "pygments_lexer": "ipython3",
   "version": "3.9.19"
  }
 },
 "nbformat": 4,
 "nbformat_minor": 2
}
