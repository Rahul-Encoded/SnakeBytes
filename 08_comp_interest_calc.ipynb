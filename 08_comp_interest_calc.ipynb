{
 "cells": [
  {
   "cell_type": "code",
   "execution_count": 1,
   "metadata": {},
   "outputs": [
    {
     "name": "stdout",
     "output_type": "stream",
     "text": [
      "Balance after 10 year/s: $2593.74\n"
     ]
    }
   ],
   "source": [
    "# Python compound interest calculator\n",
    "\n",
    "principle = 0\n",
    "rate = 0\n",
    "time = 0\n",
    "\n",
    "while True:\n",
    "    principle = float(input(\"Enter the principle amount: \"))\n",
    "    if principle < 0:\n",
    "        print(\"Principle can't be less than zero\")\n",
    "    else:\n",
    "        break\n",
    "\n",
    "while True:\n",
    "    rate = float(input(\"Enter the interest rate: \"))\n",
    "    if rate < 0:\n",
    "        print(\"Interest rate can't be less than zero\")\n",
    "    else:\n",
    "        break\n",
    "\n",
    "while True:\n",
    "    time = int(input(\"Enter the time in years: \"))\n",
    "    if time < 0:\n",
    "        print(\"Time can't be less than zero\")\n",
    "    else:\n",
    "        break\n",
    "\n",
    "total = principle * pow((1 + rate / 100), time)\n",
    "print(f\"Balance after {time} year/s: ${total:.2f}\")"
   ]
  },
  {
   "cell_type": "code",
   "execution_count": null,
   "metadata": {},
   "outputs": [],
   "source": []
  }
 ],
 "metadata": {
  "kernelspec": {
   "display_name": "base",
   "language": "python",
   "name": "python3"
  },
  "language_info": {
   "codemirror_mode": {
    "name": "ipython",
    "version": 3
   },
   "file_extension": ".py",
   "mimetype": "text/x-python",
   "name": "python",
   "nbconvert_exporter": "python",
   "pygments_lexer": "ipython3",
   "version": "3.9.18"
  }
 },
 "nbformat": 4,
 "nbformat_minor": 2
}
