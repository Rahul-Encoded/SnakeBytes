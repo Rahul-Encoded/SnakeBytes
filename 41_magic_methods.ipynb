{
 "cells": [
  {
   "cell_type": "markdown",
   "metadata": {},
   "source": [
    "Magic methods = Dunder methods (double underscore) __init__, __str__, __eq__\n",
    "\n",
    "They are automatically called by many of Python's built-in operations.\n",
    "\n",
    "They allow developers to define or customize the behavior of objects"
   ]
  },
  {
   "cell_type": "code",
   "execution_count": null,
   "metadata": {},
   "outputs": [
    {
     "name": "stdout",
     "output_type": "stream",
     "text": [
      "'The Hobbit' by J.R.R. Tolkien\n",
      "False\n",
      "False\n",
      "True\n",
      "533 pages\n",
      "True\n",
      "The Lion, the Witch and the Wardrobe\n"
     ]
    }
   ],
   "source": [
    "class Book:\n",
    "\n",
    "    def __init__(self, title, author, num_pages):\n",
    "        self.title = title\n",
    "        self.author = author\n",
    "        self.num_pages = num_pages\n",
    "\n",
    "    def __str__(self):\t#we can return a string reprsentation of an object\n",
    "        return f\"'{self.title}' by {self.author}\"\n",
    "\n",
    "    def __eq__(self, other):\t#to compare if the 2 objects are equal\n",
    "        return self.title == other.title and self.author == other.author\n",
    "\n",
    "    def __lt__(self, other):\n",
    "        return self.num_pages < other.num_pages\n",
    "\n",
    "    def __gt__(self, other):\n",
    "        return self.num_pages > other.num_pages\n",
    "\n",
    "    def __add__(self, other):\n",
    "        return f\"{self.num_pages + other.num_pages} pages\"\n",
    "\n",
    "    def __contains__(self, keyword):\n",
    "        return keyword in self.title or keyword in self.author\n",
    "\n",
    "    def __getitem__(self, key):\n",
    "        if key == \"title\":\n",
    "            return self.title\n",
    "        elif key == \"author\":\n",
    "            return self.author\n",
    "        elif key == \"num_pages\":\n",
    "            return self.num_pages\n",
    "        else:\n",
    "            return f\"Key '{key}' was not found\"\n",
    "\n",
    "book1 = Book(\"The Hobbit\", \"J.R.R. Tolkien\", 310)\n",
    "book2 = Book(\"Harry Potter and The Philosopher's Stone\", \"J.K. Rowling\", 223)\n",
    "book3 = Book(\"The Lion, the Witch and the Wardrobe\", \"C.S. Lewis\", 172)\n",
    "\n",
    "print(book1)  # Calls __str__\n",
    "print(book1 == book3)  # Calls __eq__\n",
    "print(book1 < book2)  # Calls ___lt__\n",
    "print(book2 > book3)  # Calls __gt__\n",
    "print(book1 + book2)  # Calls __add__\n",
    "print(\"Lion\" in book3)  # Calls __contains__\n",
    "print(book3['title'])  # Calls __getitem__"
   ]
  }
 ],
 "metadata": {
  "kernelspec": {
   "display_name": "base",
   "language": "python",
   "name": "python3"
  },
  "language_info": {
   "codemirror_mode": {
    "name": "ipython",
    "version": 3
   },
   "file_extension": ".py",
   "mimetype": "text/x-python",
   "name": "python",
   "nbconvert_exporter": "python",
   "pygments_lexer": "ipython3",
   "version": "3.12.7"
  }
 },
 "nbformat": 4,
 "nbformat_minor": 2
}
