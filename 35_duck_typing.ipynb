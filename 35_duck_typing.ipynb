{
 "cells": [
  {
   "cell_type": "markdown",
   "metadata": {},
   "source": [
    "Duck Typing is another way to achieve polymorphism besides inheritance.\n",
    "\n",
    "Object must have the minimum necessary attributes methods.\n",
    "\n",
    "If it looks like a duck and quacks like a duck, it must be a duck."
   ]
  },
  {
   "cell_type": "code",
   "execution_count": 3,
   "metadata": {},
   "outputs": [
    {
     "name": "stdout",
     "output_type": "stream",
     "text": [
      "WOOF!\n",
      "True\n",
      "MEOW!\n",
      "True\n",
      "HONK!\n",
      "False\n"
     ]
    }
   ],
   "source": [
    "class Animal:\n",
    "    alive = True\n",
    "\n",
    "class Dog(Animal):\n",
    "    def speak(self):\n",
    "        print(\"WOOF!\")\n",
    "\n",
    "class Cat(Animal):\n",
    "    def speak(self):\n",
    "        print(\"MEOW!\")\n",
    "\n",
    "class Car:\n",
    "    alive = False\n",
    "\n",
    "    def speak(self):\n",
    "        print(\"HONK!\")\n",
    "\n",
    "animals = [Dog(), Cat(), Car()]\n",
    "\n",
    "for animal in animals:\n",
    "    animal.speak()\n",
    "    print(animal.alive)"
   ]
  },
  {
   "cell_type": "code",
   "execution_count": null,
   "metadata": {},
   "outputs": [],
   "source": []
  }
 ],
 "metadata": {
  "kernelspec": {
   "display_name": "base",
   "language": "python",
   "name": "python3"
  },
  "language_info": {
   "codemirror_mode": {
    "name": "ipython",
    "version": 3
   },
   "file_extension": ".py",
   "mimetype": "text/x-python",
   "name": "python",
   "nbconvert_exporter": "python",
   "pygments_lexer": "ipython3",
   "version": "3.12.7"
  }
 },
 "nbformat": 4,
 "nbformat_minor": 2
}
