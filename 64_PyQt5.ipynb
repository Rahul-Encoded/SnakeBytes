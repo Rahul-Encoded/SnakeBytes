{
 "cells": [
  {
   "cell_type": "code",
   "execution_count": 1,
   "id": "22cb6472",
   "metadata": {},
   "outputs": [],
   "source": [
    "import sys\n",
    "from PyQt5.QtWidgets import QApplication, QMainWindow"
   ]
  },
  {
   "cell_type": "code",
   "execution_count": 2,
   "id": "8635e852",
   "metadata": {},
   "outputs": [
    {
     "ename": "SystemExit",
     "evalue": "0",
     "output_type": "error",
     "traceback": [
      "An exception has occurred, use %tb to see the full traceback.\n",
      "\u001b[1;31mSystemExit\u001b[0m\u001b[1;31m:\u001b[0m 0\n"
     ]
    },
    {
     "name": "stderr",
     "output_type": "stream",
     "text": [
      "c:\\Users\\Rahul\\anaconda3\\Lib\\site-packages\\IPython\\core\\interactiveshell.py:3585: UserWarning: To exit: use 'exit', 'quit', or Ctrl-D.\n",
      "  warn(\"To exit: use 'exit', 'quit', or Ctrl-D.\", stacklevel=1)\n"
     ]
    }
   ],
   "source": [
    "#Boiler-Plate for a basic window\n",
    "\n",
    "class MainWindow(QMainWindow):\n",
    "\tdef __init__(self):\n",
    "\t\tsuper().__init__()\n",
    "\n",
    "def main():\n",
    "\tapp = QApplication(sys.argv)\n",
    "\twindow = MainWindow()\n",
    "\twindow.show()\n",
    "\tsys.exit(app.exec_())\n",
    "\n",
    "if __name__ == \"__main__\":\n",
    "\tmain()\n"
   ]
  },
  {
   "cell_type": "code",
   "execution_count": 3,
   "id": "5cb60e3f",
   "metadata": {},
   "outputs": [
    {
     "ename": "SystemExit",
     "evalue": "0",
     "output_type": "error",
     "traceback": [
      "An exception has occurred, use %tb to see the full traceback.\n",
      "\u001b[1;31mSystemExit\u001b[0m\u001b[1;31m:\u001b[0m 0\n"
     ]
    }
   ],
   "source": [
    "#Boiler-Plate for a basic window\n",
    "from PyQt5.QtGui import QIcon\n",
    "\n",
    "class MainWindow(QMainWindow):\n",
    "\tdef __init__(self, x, y, w, h):\n",
    "\t\tsuper().__init__()\n",
    "\t\tself.setWindowTitle(\"My first cool GUI!\")\n",
    "\t\tself.setGeometry(x, y, w, h)\n",
    "\t\tself.setWindowIcon(QIcon(\"Assets\\\\R.png\"))\n",
    "\n",
    "def main():\n",
    "\tapp = QApplication(sys.argv)\n",
    "\twindow = MainWindow(200, 300, 500, 600)\n",
    "\twindow.show()\n",
    "\tsys.exit(app.exec_())\n",
    "\n",
    "if __name__ == \"__main__\":\n",
    "\tmain()\n"
   ]
  },
  {
   "cell_type": "code",
   "execution_count": 1,
   "id": "c95aae67",
   "metadata": {},
   "outputs": [
    {
     "ename": "SystemExit",
     "evalue": "0",
     "output_type": "error",
     "traceback": [
      "An exception has occurred, use %tb to see the full traceback.\n",
      "\u001b[1;31mSystemExit\u001b[0m\u001b[1;31m:\u001b[0m 0\n"
     ]
    },
    {
     "name": "stderr",
     "output_type": "stream",
     "text": [
      "c:\\Users\\Rahul\\anaconda3\\Lib\\site-packages\\IPython\\core\\interactiveshell.py:3585: UserWarning: To exit: use 'exit', 'quit', or Ctrl-D.\n",
      "  warn(\"To exit: use 'exit', 'quit', or Ctrl-D.\", stacklevel=1)\n"
     ]
    }
   ],
   "source": [
    "#LABELS\n",
    "\n",
    "import sys\n",
    "from PyQt5.QtWidgets import QApplication, QMainWindow, QLabel\n",
    "from PyQt5.QtGui import QIcon, QFont\n",
    "from PyQt5.QtCore import Qt\n",
    "\n",
    "class MainWindow(QMainWindow):\n",
    "\tdef __init__(self, x, y, w, h):\n",
    "\t\tsuper().__init__()\n",
    "\t\tself.setWindowTitle(\"My first cool GUI!\")\n",
    "\t\t\n",
    "\t\tself.setGeometry(x, y, w, h)\n",
    "\t\tself.setWindowIcon(QIcon(\"Assets\\\\R.png\"))\n",
    "\n",
    "\t\tlabel = QLabel(\"Hello\", self)\n",
    "\t\tlabel.setFont(QFont(\"Arial\", 40))\n",
    "\t\tlabel.setGeometry(0, 0, 500, 100)\n",
    "\t\tlabel.setStyleSheet(\"color: cyan;\"\n",
    "\t\t\t\t\t\t\t\t\t\t\t  \"background-color: black;\"\n",
    "\t\t\t\t\t\t\t\t\t\t\t\t\"font-style: italic;\"\n",
    "\t\t\t\t\t\t\t\t\t\t\t\t\"text-decoration: underline;\")\n",
    "\t\t\n",
    "\t\tlabel.setAlignment(Qt.AlignTop)  # VERTICALLY TOP\n",
    "\t\tlabel.setAlignment(Qt.AlignBottom) # VERTICALLY BOTTOM\n",
    "\t\tlabel.setAlignment(Qt.AlignVCenter) # VERTICALLY CENTER\n",
    "\t\tlabel.setAlignment(Qt.AlignRight)  # HORIZONTALLY RIGHT\n",
    "\t\tlabel.setAlignment(Qt.AlignHCenter)  # HORIZONTALLY CENTER\n",
    "\t\tlabel.setAlignment(Qt.AlignLeft)  # HORIZONTALLY LEFT\n",
    "\t\tlabel.setAlignment(Qt.AlignHCenter | Qt.AlignTop) # CENTER & TOP\n",
    "\t\tlabel.setAlignment(Qt.AlignHCenter | Qt.AlignBottom) # CENTER & BOTTOM\n",
    "\t\tlabel.setAlignment(Qt.AlignHCenter | Qt.AlignVCenter)  # CENTER & CENTER\n",
    "\t\tlabel.setAlignment(Qt.AlignCenter)  # CENTER & CENTER\n",
    "\n",
    "\n",
    "def main():\n",
    "\tapp = QApplication(sys.argv)\n",
    "\twindow = MainWindow(200, 300, 500, 600)\n",
    "\twindow.show()\n",
    "\tsys.exit(app.exec_())\n",
    "\n",
    "if __name__ == \"__main__\":\n",
    "\tmain()\n"
   ]
  },
  {
   "cell_type": "code",
   "execution_count": null,
   "id": "a61920c8",
   "metadata": {},
   "outputs": [
    {
     "name": "stderr",
     "output_type": "stream",
     "text": [
      "<>:15: SyntaxWarning: invalid escape sequence '\\m'\n",
      "<>:15: SyntaxWarning: invalid escape sequence '\\m'\n",
      "C:\\Users\\Rahul\\AppData\\Local\\Temp\\ipykernel_28976\\2870451353.py:15: SyntaxWarning: invalid escape sequence '\\m'\n",
      "  pixmap = QPixmap(\"Assets\\me.jpg\")\n"
     ]
    },
    {
     "ename": "SystemExit",
     "evalue": "0",
     "output_type": "error",
     "traceback": [
      "An exception has occurred, use %tb to see the full traceback.\n",
      "\u001b[1;31mSystemExit\u001b[0m\u001b[1;31m:\u001b[0m 0\n"
     ]
    },
    {
     "name": "stderr",
     "output_type": "stream",
     "text": [
      "c:\\Users\\Rahul\\anaconda3\\Lib\\site-packages\\IPython\\core\\interactiveshell.py:3585: UserWarning: To exit: use 'exit', 'quit', or Ctrl-D.\n",
      "  warn(\"To exit: use 'exit', 'quit', or Ctrl-D.\", stacklevel=1)\n"
     ]
    }
   ],
   "source": [
    "#IMAGES\n",
    "import sys\n",
    "from PyQt5.QtWidgets import QApplication, QMainWindow, QLabel\n",
    "from PyQt5.QtGui import QIcon, QPixmap\n",
    "\n",
    "class MainWindow(QMainWindow):\n",
    "\tdef __init__(self, x, y, w, h):\n",
    "\t\tsuper().__init__()\n",
    "\t\tself.setWindowTitle(\"My first cool GUI!\")\n",
    "\t\tself.setGeometry(x, y, w, h)\n",
    "\t\tself.setWindowIcon(QIcon(\"Assets\\\\R.png\"))\n",
    "\n",
    "\t\tlabel = QLabel(self)\n",
    "\t\tlabel.setGeometry(0, 0, 250, 250)\n",
    "\n",
    "\t\tpixmap = QPixmap(\"Assets\\me.jpg\")\n",
    "\t\tlabel.setPixmap(pixmap)\n",
    "\t\tlabel.setScaledContents(True)\n",
    "\n",
    "\t\tlabel.setGeometry((self.width() - label.width()) // 2,\n",
    "                      (self.height() - label.height()) // 2,\n",
    "                       label.width(),\n",
    "                       label.height())\n",
    "\n",
    "def main():\n",
    "\tapp = QApplication(sys.argv)\n",
    "\twindow = MainWindow(200, 300, 500, 600)\n",
    "\twindow.show()\n",
    "\tsys.exit(app.exec_())\n",
    "\n",
    "if __name__ == \"__main__\":\n",
    "\tmain()\n"
   ]
  },
  {
   "cell_type": "code",
   "execution_count": 1,
   "id": "50ef061c",
   "metadata": {},
   "outputs": [
    {
     "ename": "SystemExit",
     "evalue": "0",
     "output_type": "error",
     "traceback": [
      "An exception has occurred, use %tb to see the full traceback.\n",
      "\u001b[1;31mSystemExit\u001b[0m\u001b[1;31m:\u001b[0m 0\n"
     ]
    },
    {
     "name": "stderr",
     "output_type": "stream",
     "text": [
      "c:\\Users\\Rahul\\anaconda3\\Lib\\site-packages\\IPython\\core\\interactiveshell.py:3585: UserWarning: To exit: use 'exit', 'quit', or Ctrl-D.\n",
      "  warn(\"To exit: use 'exit', 'quit', or Ctrl-D.\", stacklevel=1)\n"
     ]
    }
   ],
   "source": [
    "#LAYOUT MANAGERS\n",
    "import sys\n",
    "from PyQt5.QtWidgets import (QApplication, QMainWindow, QLabel, QWidget, QVBoxLayout, QHBoxLayout, QGridLayout)\n",
    "from PyQt5.QtGui import QIcon\n",
    "\n",
    "class MainWindow(QMainWindow):\n",
    "\tdef __init__(self, x, y, w, h):\n",
    "\t\tsuper().__init__()\n",
    "\t\tself.setWindowTitle(\"My first cool GUI!\")\n",
    "\t\tself.setGeometry(x, y, w, h)\n",
    "\t\tself.setWindowIcon(QIcon(\"Assets\\\\R.png\"))\n",
    "\t\tself.initUI()\n",
    "\n",
    "\tdef initUI(self):\n",
    "\t\tcentral_widget = QWidget()\n",
    "\t\tself.setCentralWidget(central_widget)\n",
    "\t\tlabel1 = QLabel(\"#1\")\n",
    "\t\tlabel2 = QLabel(\"#2\")\n",
    "\t\tlabel3 = QLabel(\"#3\")\n",
    "\t\tlabel4 = QLabel(\"#4\")\n",
    "\t\tlabel5 = QLabel(\"#5\")\n",
    "\n",
    "\t\tlabel1.setStyleSheet(\"background-color: red;\")\n",
    "\t\tlabel2.setStyleSheet(\"background-color: yellow;\")\n",
    "\t\tlabel3.setStyleSheet(\"background-color: green;\")\n",
    "\t\tlabel4.setStyleSheet(\"background-color: blue;\")\n",
    "\t\tlabel5.setStyleSheet(\"background-color: purple;\")\n",
    "\n",
    "\t\tvbox = QVBoxLayout()\n",
    "\t\tvbox.addWidget(label1)\n",
    "\t\tvbox.addWidget(label2)\n",
    "\t\tvbox.addWidget(label3)\n",
    "\t\tvbox.addWidget(label4)\n",
    "\t\tvbox.addWidget(label5)\n",
    "\n",
    "\t\tcentral_widget.setLayout(vbox)\n",
    "\n",
    "def main():\n",
    "\tapp = QApplication(sys.argv)\n",
    "\twindow = MainWindow(200, 300, 500, 600)\n",
    "\twindow.show()\n",
    "\tsys.exit(app.exec_())\n",
    "\n",
    "if __name__ == \"__main__\":\n",
    "\tmain()\n"
   ]
  },
  {
   "cell_type": "code",
   "execution_count": 2,
   "id": "f530d500",
   "metadata": {},
   "outputs": [
    {
     "ename": "SystemExit",
     "evalue": "0",
     "output_type": "error",
     "traceback": [
      "An exception has occurred, use %tb to see the full traceback.\n",
      "\u001b[1;31mSystemExit\u001b[0m\u001b[1;31m:\u001b[0m 0\n"
     ]
    },
    {
     "name": "stderr",
     "output_type": "stream",
     "text": [
      "c:\\Users\\Rahul\\anaconda3\\Lib\\site-packages\\IPython\\core\\interactiveshell.py:3585: UserWarning: To exit: use 'exit', 'quit', or Ctrl-D.\n",
      "  warn(\"To exit: use 'exit', 'quit', or Ctrl-D.\", stacklevel=1)\n"
     ]
    }
   ],
   "source": [
    "#LAYOUT MANAGERS\n",
    "import sys\n",
    "from PyQt5.QtWidgets import (QApplication, QMainWindow, QLabel, QWidget, QVBoxLayout, QHBoxLayout, QGridLayout)\n",
    "from PyQt5.QtGui import QIcon\n",
    "\n",
    "class MainWindow(QMainWindow):\n",
    "\tdef __init__(self, x, y, w, h):\n",
    "\t\tsuper().__init__()\n",
    "\t\tself.setWindowTitle(\"My first cool GUI!\")\n",
    "\t\tself.setGeometry(x, y, w, h)\n",
    "\t\tself.setWindowIcon(QIcon(\"Assets\\\\R.png\"))\n",
    "\t\tself.initUI()\n",
    "\n",
    "\tdef initUI(self):\n",
    "\t\tcentral_widget = QWidget()\n",
    "\t\tself.setCentralWidget(central_widget)\n",
    "\t\tlabel1 = QLabel(\"#1\")\n",
    "\t\tlabel2 = QLabel(\"#2\")\n",
    "\t\tlabel3 = QLabel(\"#3\")\n",
    "\t\tlabel4 = QLabel(\"#4\")\n",
    "\t\tlabel5 = QLabel(\"#5\")\n",
    "\n",
    "\t\tlabel1.setStyleSheet(\"background-color: red;\")\n",
    "\t\tlabel2.setStyleSheet(\"background-color: yellow;\")\n",
    "\t\tlabel3.setStyleSheet(\"background-color: green;\")\n",
    "\t\tlabel4.setStyleSheet(\"background-color: blue;\")\n",
    "\t\tlabel5.setStyleSheet(\"background-color: purple;\")\n",
    "\n",
    "\t\thbox = QHBoxLayout()\n",
    "\t\thbox.addWidget(label1)\n",
    "\t\thbox.addWidget(label2)\n",
    "\t\thbox.addWidget(label3)\n",
    "\t\thbox.addWidget(label4)\n",
    "\t\thbox.addWidget(label5)\n",
    "\n",
    "\t\tcentral_widget.setLayout(hbox)\n",
    "\n",
    "def main():\n",
    "\tapp = QApplication(sys.argv)\n",
    "\twindow = MainWindow(200, 300, 500, 600)\n",
    "\twindow.show()\n",
    "\tsys.exit(app.exec_())\n",
    "\n",
    "if __name__ == \"__main__\":\n",
    "\tmain()\n"
   ]
  },
  {
   "cell_type": "code",
   "execution_count": 2,
   "id": "35a64774",
   "metadata": {},
   "outputs": [
    {
     "ename": "SystemExit",
     "evalue": "0",
     "output_type": "error",
     "traceback": [
      "An exception has occurred, use %tb to see the full traceback.\n",
      "\u001b[1;31mSystemExit\u001b[0m\u001b[1;31m:\u001b[0m 0\n"
     ]
    }
   ],
   "source": [
    "#LAYOUT MANAGERS\n",
    "import sys\n",
    "from PyQt5.QtWidgets import (QApplication, QMainWindow, QLabel, QWidget, QVBoxLayout, QHBoxLayout, QGridLayout)\n",
    "from PyQt5.QtGui import QIcon\n",
    "\n",
    "class MainWindow(QMainWindow):\n",
    "\tdef __init__(self, x, y, w, h):\n",
    "\t\tsuper().__init__()\n",
    "\t\tself.setWindowTitle(\"My first cool GUI!\")\n",
    "\t\tself.setGeometry(x, y, w, h)\n",
    "\t\tself.setWindowIcon(QIcon(\"Assets\\\\R.png\"))\n",
    "\t\tself.initUI()\n",
    "\n",
    "\tdef initUI(self):\n",
    "\t\tcentral_widget = QWidget()\n",
    "\t\tself.setCentralWidget(central_widget)\n",
    "\t\tlabel1 = QLabel(\"#1\")\n",
    "\t\tlabel2 = QLabel(\"#2\")\n",
    "\t\tlabel3 = QLabel(\"#3\")\n",
    "\t\tlabel4 = QLabel(\"#4\")\n",
    "\t\tlabel5 = QLabel(\"#5\")\n",
    "\n",
    "\t\tlabel1.setStyleSheet(\"background-color: red;\")\n",
    "\t\tlabel2.setStyleSheet(\"background-color: yellow;\")\n",
    "\t\tlabel3.setStyleSheet(\"background-color: green;\")\n",
    "\t\tlabel4.setStyleSheet(\"background-color: blue;\")\n",
    "\t\tlabel5.setStyleSheet(\"background-color: purple;\")\n",
    "\n",
    "\t\tgrid = QGridLayout()\n",
    "\t\tgrid.addWidget(label1, 0, 0)\n",
    "\t\tgrid.addWidget(label2, 0, 1)\n",
    "\t\tgrid.addWidget(label3, 1, 0)\n",
    "\t\tgrid.addWidget(label4, 1, 1)\n",
    "\t\tgrid.addWidget(label5, 1, 2)\n",
    "\n",
    "\t\tcentral_widget.setLayout(grid)\n",
    "\n",
    "def main():\n",
    "\tapp = QApplication(sys.argv)\n",
    "\twindow = MainWindow(200, 300, 500, 600)\n",
    "\twindow.show()\n",
    "\tsys.exit(app.exec_())\n",
    "\n",
    "if __name__ == \"__main__\":\n",
    "\tmain()\n"
   ]
  },
  {
   "cell_type": "code",
   "execution_count": null,
   "id": "8ea7f714",
   "metadata": {},
   "outputs": [
    {
     "name": "stdout",
     "output_type": "stream",
     "text": [
      "Button Clicked\n",
      "Button Clicked\n",
      "Button Clicked\n"
     ]
    },
    {
     "ename": "SystemExit",
     "evalue": "0",
     "output_type": "error",
     "traceback": [
      "An exception has occurred, use %tb to see the full traceback.\n",
      "\u001b[1;31mSystemExit\u001b[0m\u001b[1;31m:\u001b[0m 0\n"
     ]
    },
    {
     "name": "stderr",
     "output_type": "stream",
     "text": [
      "c:\\Users\\Rahul\\anaconda3\\Lib\\site-packages\\IPython\\core\\interactiveshell.py:3585: UserWarning: To exit: use 'exit', 'quit', or Ctrl-D.\n",
      "  warn(\"To exit: use 'exit', 'quit', or Ctrl-D.\", stacklevel=1)\n"
     ]
    },
    {
     "ename": "",
     "evalue": "",
     "output_type": "error",
     "traceback": [
      "\u001b[1;31mThe Kernel crashed while executing code in the current cell or a previous cell. \n",
      "\u001b[1;31mPlease review the code in the cell(s) to identify a possible cause of the failure. \n",
      "\u001b[1;31mClick <a href='https://aka.ms/vscodeJupyterKernelCrash'>here</a> for more info. \n",
      "\u001b[1;31mView Jupyter <a href='command:jupyter.viewOutput'>log</a> for further details."
     ]
    }
   ],
   "source": [
    "#BUTTON\n",
    "import sys\n",
    "from PyQt5.QtWidgets import (QApplication, QMainWindow, QLabel, QPushButton)\n",
    "from PyQt5.QtGui import QIcon\n",
    "\n",
    "class MainWindow(QMainWindow):\n",
    "\tdef __init__(self, x, y, w, h):\n",
    "\t\tsuper().__init__()\n",
    "\t\tself.setWindowTitle(\"My first cool GUI!\")\n",
    "\t\tself.button = QPushButton(\"Click Me!\", self)\n",
    "\t\tself.setGeometry(x, y, w, h)\n",
    "\t\tself.setWindowIcon(QIcon(\"Assets\\\\R.png\"))\n",
    "\t\tself.initUI()\n",
    "\n",
    "\tdef initUI(self):\n",
    "\t\tb = self.button\n",
    "\t\tb.setGeometry(150, 200, 200, 100)\n",
    "\t\tb.setStyleSheet(\"font-size: 30-px;\")\n",
    "\t\tb.clicked.connect(self.on_click)\n",
    "\n",
    "\tdef on_click(self):\n",
    "\t\tprint(\"Button Clicked\")\n",
    "\t\tself.button.setText(\"Clicked\")\n",
    "\t\tself.button.setDisabled(True)\n",
    "\n",
    "\n",
    "def main():\n",
    "\tapp = QApplication(sys.argv)\n",
    "\twindow = MainWindow(200, 300, 500, 600)\n",
    "\twindow.show()\n",
    "\tsys.exit(app.exec_())\n",
    "\n",
    "if __name__ == \"__main__\":\n",
    "\tmain()\n"
   ]
  },
  {
   "cell_type": "code",
   "execution_count": null,
   "id": "d47f88f0",
   "metadata": {},
   "outputs": [],
   "source": [
    "#CHECKBOXES\n",
    "import sys\n",
    "from PyQt5.QtWidgets import QApplication, QMainWindow, QCheckBox\n",
    "from PyQt5.QtCore import Qt\n",
    "\n",
    "class MainWindow(QMainWindow):\n",
    "    def __init__(self):\n",
    "        super().__init__()\n",
    "        self.setGeometry(700, 300, 500, 500)\n",
    "        self.checkbox = QCheckBox(\"Do you like food?\", self)\n",
    "        self.initUI()\n",
    "\n",
    "    def initUI(self):\n",
    "        self.checkbox.setGeometry(10, 0, 500, 100)\n",
    "        self.checkbox.setStyleSheet(\"font-size: 30px;\"\n",
    "                                                            \"font-family: Arial;\")\n",
    "        self.checkbox.stateChanged.connect(self.checkbox_changed)\n",
    "\n",
    "    def checkbox_changed(self, state):\n",
    "        if state == Qt.Checked:\n",
    "            print(\"You like food\")\n",
    "        else:\n",
    "            print(\"You DO NOT like food\")\n",
    "\n",
    "if __name__ == '__main__':\n",
    "   app = QApplication(sys.argv)\n",
    "   window = MainWindow()\n",
    "   window.show()\n",
    "   sys.exit(app.exec_())"
   ]
  },
  {
   "cell_type": "code",
   "execution_count": null,
   "id": "1da251c8",
   "metadata": {},
   "outputs": [
    {
     "name": "stdout",
     "output_type": "stream",
     "text": [
      "Online is selected\n",
      "Mastercard is selected\n",
      "Gift Card is selected\n"
     ]
    },
    {
     "ename": "SystemExit",
     "evalue": "0",
     "output_type": "error",
     "traceback": [
      "An exception has occurred, use %tb to see the full traceback.\n",
      "\u001b[1;31mSystemExit\u001b[0m\u001b[1;31m:\u001b[0m 0\n"
     ]
    },
    {
     "name": "stderr",
     "output_type": "stream",
     "text": [
      "c:\\Users\\Rahul\\anaconda3\\Lib\\site-packages\\IPython\\core\\interactiveshell.py:3585: UserWarning: To exit: use 'exit', 'quit', or Ctrl-D.\n",
      "  warn(\"To exit: use 'exit', 'quit', or Ctrl-D.\", stacklevel=1)\n"
     ]
    }
   ],
   "source": [
    "#Radio Buttons\n",
    "import sys\n",
    "from PyQt5.QtWidgets import QApplication, QMainWindow, QRadioButton, QButtonGroup\n",
    "\n",
    "class MainWindow(QMainWindow):\n",
    "  def __init__(self):\n",
    "    super().__init__()\n",
    "    self.setGeometry(700, 300, 500, 500)\n",
    "    self.radio1 = QRadioButton(\"Visa\", self)\n",
    "    self.radio2 = QRadioButton(\"Mastercard\", self)\n",
    "    self.radio3 = QRadioButton(\"Gift Card\", self)\n",
    "    self.radio4 = QRadioButton(\"In-Store\", self)\n",
    "    self.radio5 = QRadioButton(\"Online\", self)\n",
    "    self.button_group1 = QButtonGroup(self)\n",
    "    self.button_group2 = QButtonGroup(self)\n",
    "    self.initUI()\n",
    "\n",
    "  def initUI(self):\n",
    "    self.radio1.setGeometry(0, 0, 300, 50)\n",
    "    self.radio2.setGeometry(0, 50, 300, 50)\n",
    "    self.radio3.setGeometry(0, 100, 300, 50)\n",
    "    self.radio4.setGeometry(0, 150, 300, 50)\n",
    "    self.radio5.setGeometry(0, 200, 300, 50)\n",
    "\n",
    "    self.setStyleSheet(\"QRadioButton{\"\n",
    "                                     \"font-size: 40px;\"\n",
    "                                     \"font-family: Arial;\"\n",
    "                                     \"padding: 10px;\"\n",
    "                                     \"}\")\n",
    "\n",
    "    self.button_group1.addButton(self.radio1)\n",
    "    self.button_group1.addButton(self.radio2)\n",
    "    self.button_group1.addButton(self.radio3)\n",
    "    self.button_group2.addButton(self.radio4)\n",
    "    self.button_group2.addButton(self.radio5)\n",
    "\n",
    "    self.radio1.toggled.connect(self.radio_button_changed)\n",
    "    self.radio2.toggled.connect(self.radio_button_changed)\n",
    "    self.radio3.toggled.connect(self.radio_button_changed)\n",
    "    self.radio4.toggled.connect(self.radio_button_changed)\n",
    "    self.radio5.toggled.connect(self.radio_button_changed)\n",
    "\n",
    "  def radio_button_changed(self):\n",
    "    radio_button = self.sender()\n",
    "    if radio_button.isChecked():\n",
    "      print(f\"{radio_button.text()} is selected\")\n",
    "\n",
    "if __name__ == '__main__':\n",
    "  app = QApplication(sys.argv)\n",
    "  window = MainWindow()\n",
    "  window.show()\n",
    "  sys.exit(app.exec_())"
   ]
  },
  {
   "cell_type": "code",
   "execution_count": 2,
   "id": "b666ae0c",
   "metadata": {},
   "outputs": [
    {
     "ename": "",
     "evalue": "",
     "output_type": "error",
     "traceback": [
      "\u001b[1;31mThe Kernel crashed while executing code in the current cell or a previous cell. \n",
      "\u001b[1;31mPlease review the code in the cell(s) to identify a possible cause of the failure. \n",
      "\u001b[1;31mClick <a href='https://aka.ms/vscodeJupyterKernelCrash'>here</a> for more info. \n",
      "\u001b[1;31mView Jupyter <a href='command:jupyter.viewOutput'>log</a> for further details."
     ]
    }
   ],
   "source": [
    "#LineEdit Widget = TextBoxes\n",
    "import sys\n",
    "from PyQt5.QtWidgets import QApplication, QMainWindow, QLineEdit, QPushButton\n",
    "\n",
    "class MainWindow(QMainWindow):\n",
    "  def __init__(self):\n",
    "    super().__init__()\n",
    "    self.setGeometry(700, 300, 500, 500)\n",
    "    self.line_edit = QLineEdit(self)\n",
    "    self.button = QPushButton(\"Submit\", self)\n",
    "    self.initUI()\n",
    "\n",
    "  def initUI(self):\n",
    "    self.line_edit.setGeometry(10, 10, 200, 40)\n",
    "    self.button.setGeometry(210, 10, 100, 40)\n",
    "    self.line_edit.setStyleSheet(\"font-size: 25px;\"\n",
    "\t\t\t\t\t\t\t\t\t\t\t\t\t\t\t\t \"font-family: Arial\")\n",
    "    self.button.setStyleSheet(\"font-size: 25px;\"\n",
    "                              \"font-family: Arial\")\n",
    "    self.line_edit.setPlaceholderText(\"Enter your name\")\n",
    "\n",
    "    self.button.clicked.connect(self.submit)\n",
    "\n",
    "  def submit(self):\n",
    "    text = self.line_edit.text()\n",
    "    print(f\"Hello {text}\")\n",
    "\n",
    "if __name__ == '__main__':\n",
    "    app = QApplication(sys.argv)\n",
    "    window = MainWindow()\n",
    "    window.show()\n",
    "    sys.exit(app.exec_())"
   ]
  },
  {
   "cell_type": "code",
   "execution_count": null,
   "id": "adf89dcc",
   "metadata": {},
   "outputs": [],
   "source": [
    "#CSS\n",
    "import sys\n",
    "from PyQt5.QtWidgets import QApplication, QMainWindow, QPushButton, QWidget, QHBoxLayout\n",
    "\n",
    "class MainWindow(QMainWindow):\n",
    "  def __init__(self):\n",
    "    super().__init__()\n",
    "    self.button1 = QPushButton(\"#1\")\n",
    "    self.button2 = QPushButton(\"#2\")\n",
    "    self.button3 = QPushButton(\"#3\")\n",
    "    self.initUI()\n",
    "\n",
    "  def initUI(self):\n",
    "    central_widget = QWidget()\n",
    "    self.setCentralWidget(central_widget)\n",
    "\n",
    "    hbox = QHBoxLayout()\n",
    "\n",
    "    hbox.addWidget(self.button1)\n",
    "    hbox.addWidget(self.button2)\n",
    "    hbox.addWidget(self.button3)\n",
    "\n",
    "    central_widget.setLayout(hbox)\n",
    "\n",
    "    self.button1.setObjectName(\"button1\")\n",
    "    self.button2.setObjectName(\"button2\")\n",
    "    self.button3.setObjectName(\"button3\")\n",
    "\n",
    "    self.setStyleSheet(\"\"\"\n",
    "      QPushButton{\n",
    "        font-size: 40px;\n",
    "        font-family: Arial;\n",
    "        padding: 15px 75px;\n",
    "        margin: 25px;\n",
    "        border: 3px solid;\n",
    "        border-radius: 15px;\n",
    "      }\n",
    "      QPushButton#button1{\n",
    "        background-color: hsl(0, 100%, 64%);\n",
    "      }\n",
    "      QPushButton#button2{\n",
    "        background-color: hsl(122, 100%, 64%);\n",
    "      }\n",
    "      QPushButton#button3{\n",
    "        background-color: hsl(204, 100%, 64%);\n",
    "      }\n",
    "      QPushButton#button1:hover{\n",
    "        background-color: hsl(0, 100%, 84%);\n",
    "      }\n",
    "      QPushButton#button2:hover{\n",
    "        background-color: hsl(122, 100%, 84%);\n",
    "      }\n",
    "      QPushButton#button3:hover{\n",
    "        background-color: hsl(204, 100%, 84%);\n",
    "      }\n",
    "  \"\"\")\n",
    "\n",
    "if __name__ == '__main__':\n",
    "    app = QApplication(sys.argv)\n",
    "    window = MainWindow()\n",
    "    window.show()\n",
    "    sys.exit(app.exec_())"
   ]
  }
 ],
 "metadata": {
  "kernelspec": {
   "display_name": "base",
   "language": "python",
   "name": "python3"
  },
  "language_info": {
   "codemirror_mode": {
    "name": "ipython",
    "version": 3
   },
   "file_extension": ".py",
   "mimetype": "text/x-python",
   "name": "python",
   "nbconvert_exporter": "python",
   "pygments_lexer": "ipython3",
   "version": "3.12.7"
  }
 },
 "nbformat": 4,
 "nbformat_minor": 5
}
