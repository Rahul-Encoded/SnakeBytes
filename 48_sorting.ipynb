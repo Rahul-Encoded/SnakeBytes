{
 "cells": [
  {
   "cell_type": "markdown",
   "metadata": {},
   "source": [
    "SORTING IN PYTHON .sort() or sorted()\n",
    "\n",
    "Lists[], Tuples(), Dictionaries{\"\":\"\"}, Objects"
   ]
  },
  {
   "cell_type": "code",
   "execution_count": 5,
   "metadata": {},
   "outputs": [
    {
     "name": "stdout",
     "output_type": "stream",
     "text": [
      "['apple', 'banana', 'coconut', 'orange']\n",
      "['orange', 'coconut', 'banana', 'apple']\n",
      "[1, 2, 3, 6, 8, 9]\n"
     ]
    }
   ],
   "source": [
    "#--------- LISTS ---------\n",
    "fruits = [\"banana\", \"orange\", \"apple\", \"coconut\"]\n",
    "\n",
    "fruits.sort()\t#alphabetical order\n",
    "print(fruits)\n",
    "\n",
    "fruits.sort(reverse=True)\n",
    "print(fruits)\n",
    "\n",
    "nums = [1, 3, 2, 9, 6, 8]\n",
    "nums.sort()\n",
    "print(nums)\n"
   ]
  },
  {
   "cell_type": "code",
   "execution_count": 6,
   "metadata": {},
   "outputs": [
    {
     "name": "stdout",
     "output_type": "stream",
     "text": [
      "<class 'list'>\n",
      "('apple', 'banana', 'coconut', 'orange')\n",
      "('orange', 'coconut', 'banana', 'apple')\n"
     ]
    }
   ],
   "source": [
    "#--------- TUPLES ---------\n",
    "fruits = (\"banana\", \"orange\", \"apple\", \"coconut\")\n",
    "\n",
    "print(type(sorted(fruits)))\n",
    "\n",
    "fruits = tuple(sorted(fruits))\t#tuples do not have sort attribute\n",
    "print(fruits)\n",
    "\n",
    "fruits = tuple(sorted(fruits, reverse=True))\n",
    "print(fruits)"
   ]
  },
  {
   "cell_type": "code",
   "execution_count": 8,
   "metadata": {},
   "outputs": [
    {
     "name": "stdout",
     "output_type": "stream",
     "text": [
      "['apple', 'banana', 'coconut', 'orange']\n",
      "[('apple', 72), ('banana', 105), ('coconut', 354), ('orange', 73)]\n",
      "{'apple': 72, 'banana': 105, 'coconut': 354, 'orange': 73}\n",
      "{'orange': 73, 'coconut': 354, 'banana': 105, 'apple': 72}\n",
      "{'apple': 72, 'orange': 73, 'banana': 105, 'coconut': 354}\n",
      "{'coconut': 354, 'banana': 105, 'orange': 73, 'apple': 72}\n"
     ]
    }
   ],
   "source": [
    "#--------- DICTIONARIES ---------\n",
    "fruits = {\n",
    "   \"banana\": 105,\n",
    "   \"apple\": 72,\n",
    "   \"orange\": 73,\n",
    "   \"coconut\": 354\n",
    "}\n",
    "print(sorted(fruits))\n",
    "print(sorted(fruits.items()))\n",
    "fruits = dict(sorted(fruits.items()))\n",
    "print(fruits)\n",
    "fruits = dict(sorted(fruits.items(), key=lambda item: item[0], reverse=True))\n",
    "print(fruits)\n",
    "fruits = dict(sorted(fruits.items(), key=lambda item: item[1]))\n",
    "print(fruits)\n",
    "fruits = dict(sorted(fruits.items(), key=lambda item: item[1], reverse=True))\n",
    "print(fruits)\n"
   ]
  },
  {
   "cell_type": "code",
   "execution_count": 9,
   "metadata": {},
   "outputs": [
    {
     "name": "stdout",
     "output_type": "stream",
     "text": [
      "[banana: 105, apple: 72, orange: 73, coconut: 354]\n",
      "[apple: 72, banana: 105, coconut: 354, orange: 73]\n",
      "[orange: 73, coconut: 354, banana: 105, apple: 72]\n",
      "[apple: 72, orange: 73, banana: 105, coconut: 354]\n",
      "[coconut: 354, banana: 105, orange: 73, apple: 72]\n"
     ]
    }
   ],
   "source": [
    "# --------- OBJECTS ---------\n",
    "class Fruit:\n",
    "   def __init__(self, name, calories):\n",
    "       self.name = name\n",
    "       self.calories = calories\n",
    "\n",
    "   def __repr__(self):\n",
    "       return f\"{self.name}: {self.calories}\"\n",
    "\n",
    "fruits = [Fruit(\"banana\", 105),\n",
    "              Fruit(\"apple\", 72),\n",
    "              Fruit(\"orange\", 73),\n",
    "              Fruit(\"coconut\", 354)]\n",
    "print(fruits)\n",
    "\n",
    "fruits = sorted(fruits, key=lambda fruit: fruit.name)\n",
    "print(fruits)\n",
    "fruits = sorted(fruits, key=lambda fruit: fruit.name, reverse=True)\n",
    "print(fruits)\n",
    "fruits = sorted(fruits, key=lambda fruit: fruit.calories)\n",
    "print(fruits)\n",
    "fruits = sorted(fruits, key=lambda fruit: fruit.calories, reverse=True)\n",
    "print(fruits)\n",
    "\n"
   ]
  },
  {
   "cell_type": "code",
   "execution_count": 13,
   "metadata": {},
   "outputs": [
    {
     "name": "stdout",
     "output_type": "stream",
     "text": [
      "Apple: 95\n",
      "<class '__main__.FoodItem'>\n",
      "Apple: 95\n",
      "<class 'str'>\n"
     ]
    }
   ],
   "source": [
    "class FoodItem:\n",
    "    def __init__(self, name, calories):\n",
    "        self.name = name\n",
    "        self.calories = calories\n",
    "\n",
    "    def __repr__(self):\n",
    "        return f\"{self.name}: {self.calories}\"\n",
    "\n",
    "# Create an instance of FoodItem\n",
    "apple = FoodItem(\"Apple\", 95)\n",
    "\n",
    "# Print the instance\n",
    "print(apple)  # Output: Apple: 95\n",
    "print(type(apple))\n",
    "\n",
    "# Use repr() to get the string representation\n",
    "print(repr(apple))  # Output: Apple: 95\n",
    "print(type(repr(apple)))"
   ]
  },
  {
   "cell_type": "code",
   "execution_count": null,
   "metadata": {},
   "outputs": [],
   "source": []
  }
 ],
 "metadata": {
  "kernelspec": {
   "display_name": "base",
   "language": "python",
   "name": "python3"
  },
  "language_info": {
   "codemirror_mode": {
    "name": "ipython",
    "version": 3
   },
   "file_extension": ".py",
   "mimetype": "text/x-python",
   "name": "python",
   "nbconvert_exporter": "python",
   "pygments_lexer": "ipython3",
   "version": "3.12.7"
  }
 },
 "nbformat": 4,
 "nbformat_minor": 2
}
