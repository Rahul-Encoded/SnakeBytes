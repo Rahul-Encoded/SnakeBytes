{
 "cells": [
  {
   "cell_type": "markdown",
   "metadata": {},
   "source": [
    "OBJECT is a bundle of related attributes (variables) and methods (functions). A method is a function that belongs within an object.\n",
    "\n",
    "Eg. phone, cup, book\n",
    "\n",
    "You need a \"class\" to create many objects\n",
    "\n",
    "CLASS is a blueprint used to design the structure and layout of an object."
   ]
  },
  {
   "cell_type": "code",
   "execution_count": null,
   "metadata": {},
   "outputs": [],
   "source": [
    "class Car:\n",
    "\tdef __init__(self, model, year, color, for_sale):\n",
    "\t\tself.model = model\n",
    "\t\tself.year = year\n",
    "\t\tself.color = color\n",
    "\t\tself.for_sale  = for_sale \n",
    "\n",
    "\tdef drive(self):\n",
    "\t\tprint(\"You drive the car\")\n",
    "\t\tprint(f\"You drive the {self.model}\")\n",
    "\t\tprint(f\"You drive the {self.color} {self.model}\")\n",
    "\t\n",
    "\tdef stop(self):\n",
    "\t\tprint(\"You stop the car\")\n",
    "\t\tprint(f\"You stop the {self.model}\")\n",
    "\t\tprint(f\"You stop the {self.color} {self.model}\")\n",
    "\t\n",
    "\tdef describe(self):\n",
    "\t\tprint(f\"{self.year} {self.color} {self.model}\")\n",
    "\n",
    "#Since class can take a lot of space, we can make the class in another file and then import it."
   ]
  },
  {
   "cell_type": "code",
   "execution_count": 10,
   "metadata": {},
   "outputs": [],
   "source": [
    "car1 = Car(\"Aston Martin\", 2025, \"green\", False)"
   ]
  },
  {
   "cell_type": "code",
   "execution_count": 11,
   "metadata": {},
   "outputs": [
    {
     "name": "stdout",
     "output_type": "stream",
     "text": [
      "<__main__.Car object at 0x000001E4B8879BE0>\n"
     ]
    }
   ],
   "source": [
    "print(car1)"
   ]
  },
  {
   "cell_type": "code",
   "execution_count": 12,
   "metadata": {},
   "outputs": [
    {
     "name": "stdout",
     "output_type": "stream",
     "text": [
      "Aston Martin\n"
     ]
    }
   ],
   "source": [
    "print(car1.model)"
   ]
  },
  {
   "cell_type": "code",
   "execution_count": 13,
   "metadata": {},
   "outputs": [
    {
     "name": "stdout",
     "output_type": "stream",
     "text": [
      "2025\n",
      "green\n",
      "False\n"
     ]
    }
   ],
   "source": [
    "print(car1.year)\n",
    "print(car1.color)\n",
    "print(car1.for_sale)"
   ]
  },
  {
   "cell_type": "code",
   "execution_count": 14,
   "metadata": {},
   "outputs": [],
   "source": [
    "car2 = Car(\"Corvette\", 2025, \"blue\", True)\n",
    "car3 = Car(\"Charger\", 2026, \"yellow\", True)"
   ]
  },
  {
   "cell_type": "code",
   "execution_count": 15,
   "metadata": {},
   "outputs": [
    {
     "name": "stdout",
     "output_type": "stream",
     "text": [
      "Corvette\n",
      "2025\n",
      "blue\n",
      "True\n",
      "Charger\n",
      "2026\n",
      "yellow\n",
      "True\n"
     ]
    }
   ],
   "source": [
    "print(car2.model)\n",
    "print(car2.year)\n",
    "print(car2.color)\n",
    "print(car2.for_sale)\n",
    "print(car3.model)\n",
    "print(car3.year)\n",
    "print(car3.color)\n",
    "print(car3.for_sale)"
   ]
  },
  {
   "cell_type": "code",
   "execution_count": 16,
   "metadata": {},
   "outputs": [
    {
     "name": "stdout",
     "output_type": "stream",
     "text": [
      "You drive the car\n",
      "You drive the Aston Martin\n",
      "You drive the green Aston Martin\n",
      "You stop the car\n",
      "You stop the Aston Martin\n",
      "You stop the green Aston Martin\n",
      "2026 yellow Charger\n"
     ]
    }
   ],
   "source": [
    "car1.drive()\n",
    "car1.stop()\n",
    "car3.describe()"
   ]
  }
 ],
 "metadata": {
  "kernelspec": {
   "display_name": "base",
   "language": "python",
   "name": "python3"
  },
  "language_info": {
   "codemirror_mode": {
    "name": "ipython",
    "version": 3
   },
   "file_extension": ".py",
   "mimetype": "text/x-python",
   "name": "python",
   "nbconvert_exporter": "python",
   "pygments_lexer": "ipython3",
   "version": "3.12.7"
  }
 },
 "nbformat": 4,
 "nbformat_minor": 2
}
