{
 "cells": [
  {
   "cell_type": "code",
   "execution_count": 1,
   "id": "b0a771ea-6351-4ca8-b8a4-f91b3ffdd9b5",
   "metadata": {},
   "outputs": [],
   "source": [
    "#Python Weight Converter"
   ]
  },
  {
   "cell_type": "code",
   "execution_count": 5,
   "id": "164674eb-f9ac-4cc5-b474-3e1612d53d78",
   "metadata": {},
   "outputs": [
    {
     "name": "stdin",
     "output_type": "stream",
     "text": [
      "Enter your weight 60\n",
      "Kilograms or Pounds? (K or L) K\n"
     ]
    },
    {
     "name": "stdout",
     "output_type": "stream",
     "text": [
      "60.0 Kgs = 132.0 pounds\n"
     ]
    }
   ],
   "source": [
    "weight = float(input(\"Enter your weight\"))\n",
    "unit = input(\"Kilograms or Pounds? (K or L)\")\n",
    "\n",
    "if (unit == 'K'):\n",
    "    entunit = \"Kgs\"\n",
    "    result = 2.2*weight\n",
    "    resunit = \"pounds\"\n",
    "\n",
    "elif (unit == 'L'):\n",
    "    entunit = \"pounds\"\n",
    "    result = weight/2.2\n",
    "    resunit = \"Kgs\"\n",
    "\n",
    "else:\n",
    "    print(\"Enter a valid weight unit\")\n",
    "\n",
    "print(f\"{weight} {entunit} = {result} {resunit}\")"
   ]
  },
  {
   "cell_type": "code",
   "execution_count": null,
   "id": "da7a2a41-191a-4c77-b1ed-148ad2d13898",
   "metadata": {},
   "outputs": [],
   "source": []
  }
 ],
 "metadata": {
  "kernelspec": {
   "display_name": "anaconda-panel-2023.05-py310",
   "language": "python",
   "name": "conda-env-anaconda-panel-2023.05-py310-py"
  },
  "language_info": {
   "codemirror_mode": {
    "name": "ipython",
    "version": 3
   },
   "file_extension": ".py",
   "mimetype": "text/x-python",
   "name": "python",
   "nbconvert_exporter": "python",
   "pygments_lexer": "ipython3",
   "version": "3.11.5"
  }
 },
 "nbformat": 4,
 "nbformat_minor": 5
}
