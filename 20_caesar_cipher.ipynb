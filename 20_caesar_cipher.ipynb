{
 "cells": [
  {
   "cell_type": "code",
   "execution_count": 2,
   "metadata": {},
   "outputs": [],
   "source": [
    "import string"
   ]
  },
  {
   "cell_type": "code",
   "execution_count": 3,
   "metadata": {},
   "outputs": [
    {
     "name": "stdout",
     "output_type": "stream",
     "text": [
      "abcdefghijklmnopqrstuvwxyzABCDEFGHIJKLMNOPQRSTUVWXYZ\n"
     ]
    }
   ],
   "source": [
    "print(string.ascii_letters)"
   ]
  },
  {
   "cell_type": "code",
   "execution_count": 4,
   "metadata": {},
   "outputs": [
    {
     "name": "stdout",
     "output_type": "stream",
     "text": [
      "0123456789\n"
     ]
    }
   ],
   "source": [
    "print(string.digits)"
   ]
  },
  {
   "cell_type": "code",
   "execution_count": 5,
   "metadata": {},
   "outputs": [
    {
     "name": "stdout",
     "output_type": "stream",
     "text": [
      " \t\n",
      "\u000b\fabcdefghijklmnopqrstuvwxyzABCDEFGHIJKLMNOPQRSTUVWXYZ0123456789\n"
     ]
    }
   ],
   "source": [
    "characters = string.whitespace + string.ascii_letters + string.digits\n",
    "print(characters)"
   ]
  },
  {
   "cell_type": "code",
   "execution_count": 6,
   "metadata": {},
   "outputs": [
    {
     "name": "stdout",
     "output_type": "stream",
     "text": [
      " abcdefghijklmnopqrstuvwxyzABCDEFGHIJKLMNOPQRSTUVWXYZ0123456789\n"
     ]
    }
   ],
   "source": [
    "characters = \" \" + string.ascii_letters + string.digits\n",
    "print(characters)"
   ]
  },
  {
   "cell_type": "code",
   "execution_count": 7,
   "metadata": {},
   "outputs": [
    {
     "name": "stdout",
     "output_type": "stream",
     "text": [
      "[' ', 'a', 'b', 'c', 'd', 'e', 'f', 'g', 'h', 'i', 'j', 'k', 'l', 'm', 'n', 'o', 'p', 'q', 'r', 's', 't', 'u', 'v', 'w', 'x', 'y', 'z', 'A', 'B', 'C', 'D', 'E', 'F', 'G', 'H', 'I', 'J', 'K', 'L', 'M', 'N', 'O', 'P', 'Q', 'R', 'S', 'T', 'U', 'V', 'W', 'X', 'Y', 'Z', '0', '1', '2', '3', '4', '5', '6', '7', '8', '9']\n"
     ]
    }
   ],
   "source": [
    "import random\n",
    "characters = list(characters)\n",
    "key = characters.copy()\n",
    "print(key)"
   ]
  },
  {
   "cell_type": "code",
   "execution_count": 8,
   "metadata": {},
   "outputs": [
    {
     "name": "stdout",
     "output_type": "stream",
     "text": [
      "['2', '6', 'M', 'Q', 'B', 'l', 'j', 'A', 'm', ' ', 'g', 'd', 'h', '4', '9', 'P', 't', 'e', 'S', '5', 'E', 'R', 'a', 'K', 'I', 'v', 'Y', '3', 'N', 'F', 's', 'W', 'X', 'z', 'f', 'c', 'n', '0', 'o', 'T', 'O', 'p', '7', 'i', 'J', 'r', 'V', 'k', 'C', 'G', 'u', 'w', 'y', 'L', 'H', 'x', '1', 'D', 'q', '8', 'Z', 'U', 'b']\n"
     ]
    }
   ],
   "source": [
    "random.shuffle(key)\n",
    "print(key)"
   ]
  },
  {
   "cell_type": "code",
   "execution_count": 9,
   "metadata": {},
   "outputs": [
    {
     "name": "stdout",
     "output_type": "stream",
     "text": [
      "['2', '6', 'M', 'Q', 'B', 'l', 'j', 'A', 'm', ' ', 'g', 'd', 'h', '4', '9', 'P', 't', 'e', 'S', '5', 'E', 'R', 'a', 'K', 'I', 'v', 'Y', '3', 'N', 'F', 's', 'W', 'X', 'z', 'f', 'c', 'n', '0', 'o', 'T', 'O', 'p', '7', 'i', 'J', 'r', 'V', 'k', 'C', 'G', 'u', 'w', 'y', 'L', 'H', 'x', '1', 'D', 'q', '8', 'Z', 'U', 'b']\n",
      "[' ', 'a', 'b', 'c', 'd', 'e', 'f', 'g', 'h', 'i', 'j', 'k', 'l', 'm', 'n', 'o', 'p', 'q', 'r', 's', 't', 'u', 'v', 'w', 'x', 'y', 'z', 'A', 'B', 'C', 'D', 'E', 'F', 'G', 'H', 'I', 'J', 'K', 'L', 'M', 'N', 'O', 'P', 'Q', 'R', 'S', 'T', 'U', 'V', 'W', 'X', 'Y', 'Z', '0', '1', '2', '3', '4', '5', '6', '7', '8', '9']\n"
     ]
    }
   ],
   "source": [
    "print(key)\n",
    "print(characters)"
   ]
  },
  {
   "cell_type": "code",
   "execution_count": 10,
   "metadata": {},
   "outputs": [
    {
     "name": "stdout",
     "output_type": "stream",
     "text": [
      "J6mRh2TP9B6h\n"
     ]
    }
   ],
   "source": [
    "msg = input(\"Enter your message: \")\n",
    "encrypted_msg = ''\n",
    "for i in range(len(msg)):\n",
    "\tindex = characters.index(msg[i])\n",
    "\tencrypted_msg += key[index]\n",
    "print(encrypted_msg)\n"
   ]
  },
  {
   "cell_type": "code",
   "execution_count": 11,
   "metadata": {},
   "outputs": [
    {
     "name": "stdout",
     "output_type": "stream",
     "text": [
      "J6mRh2TP9B6h\n"
     ]
    }
   ],
   "source": [
    "encryptd_msg = ''\n",
    "for char in msg:\n",
    "\tindex = characters.index(char)\n",
    "\tencryptd_msg += key[index]\n",
    "print(encryptd_msg)"
   ]
  },
  {
   "cell_type": "code",
   "execution_count": 12,
   "metadata": {},
   "outputs": [
    {
     "name": "stdout",
     "output_type": "stream",
     "text": [
      "Rahul Mondal\n"
     ]
    }
   ],
   "source": [
    "decryptd_msg = ''\n",
    "for char in encryptd_msg:\n",
    "\tindex = key.index(char)\n",
    "\tdecryptd_msg+= characters[index]\n",
    "print(decryptd_msg)"
   ]
  },
  {
   "cell_type": "code",
   "execution_count": 13,
   "metadata": {},
   "outputs": [
    {
     "data": {
      "text/plain": [
       "''"
      ]
     },
     "execution_count": 13,
     "metadata": {},
     "output_type": "execute_result"
    }
   ],
   "source": [
    "key_value = {\"\" : \"\"}\n",
    "for i in range(0, len(key)):\n",
    "\tkey_value.update({f\"{key[i]}\" : f\"{characters[i]}\"})\n",
    "key_value.pop(\"\")"
   ]
  },
  {
   "cell_type": "code",
   "execution_count": 14,
   "metadata": {},
   "outputs": [
    {
     "name": "stdout",
     "output_type": "stream",
     "text": [
      "{'2': ' ', '6': 'a', 'M': 'b', 'Q': 'c', 'B': 'd', 'l': 'e', 'j': 'f', 'A': 'g', 'm': 'h', ' ': 'i', 'g': 'j', 'd': 'k', 'h': 'l', '4': 'm', '9': 'n', 'P': 'o', 't': 'p', 'e': 'q', 'S': 'r', '5': 's', 'E': 't', 'R': 'u', 'a': 'v', 'K': 'w', 'I': 'x', 'v': 'y', 'Y': 'z', '3': 'A', 'N': 'B', 'F': 'C', 's': 'D', 'W': 'E', 'X': 'F', 'z': 'G', 'f': 'H', 'c': 'I', 'n': 'J', '0': 'K', 'o': 'L', 'T': 'M', 'O': 'N', 'p': 'O', '7': 'P', 'i': 'Q', 'J': 'R', 'r': 'S', 'V': 'T', 'k': 'U', 'C': 'V', 'G': 'W', 'u': 'X', 'w': 'Y', 'y': 'Z', 'L': '0', 'H': '1', 'x': '2', '1': '3', 'D': '4', 'q': '5', '8': '6', 'Z': '7', 'U': '8', 'b': '9'}\n"
     ]
    }
   ],
   "source": [
    "print(key_value)"
   ]
  },
  {
   "cell_type": "code",
   "execution_count": 15,
   "metadata": {},
   "outputs": [
    {
     "data": {
      "text/plain": [
       "''"
      ]
     },
     "execution_count": 15,
     "metadata": {},
     "output_type": "execute_result"
    }
   ],
   "source": [
    "value_key = {\"\" : \"\"}\n",
    "for i in range(0, len(key)):\n",
    "\tvalue_key.update({f\"{characters[i]}\" : f\"{key[i]}\"})\n",
    "value_key.pop(\"\")"
   ]
  },
  {
   "cell_type": "code",
   "execution_count": 16,
   "metadata": {},
   "outputs": [
    {
     "name": "stdout",
     "output_type": "stream",
     "text": [
      "{' ': '2', 'a': '6', 'b': 'M', 'c': 'Q', 'd': 'B', 'e': 'l', 'f': 'j', 'g': 'A', 'h': 'm', 'i': ' ', 'j': 'g', 'k': 'd', 'l': 'h', 'm': '4', 'n': '9', 'o': 'P', 'p': 't', 'q': 'e', 'r': 'S', 's': '5', 't': 'E', 'u': 'R', 'v': 'a', 'w': 'K', 'x': 'I', 'y': 'v', 'z': 'Y', 'A': '3', 'B': 'N', 'C': 'F', 'D': 's', 'E': 'W', 'F': 'X', 'G': 'z', 'H': 'f', 'I': 'c', 'J': 'n', 'K': '0', 'L': 'o', 'M': 'T', 'N': 'O', 'O': 'p', 'P': '7', 'Q': 'i', 'R': 'J', 'S': 'r', 'T': 'V', 'U': 'k', 'V': 'C', 'W': 'G', 'X': 'u', 'Y': 'w', 'Z': 'y', '0': 'L', '1': 'H', '2': 'x', '3': '1', '4': 'D', '5': 'q', '6': '8', '7': 'Z', '8': 'U', '9': 'b'}\n"
     ]
    }
   ],
   "source": [
    "print(value_key)"
   ]
  },
  {
   "cell_type": "code",
   "execution_count": 17,
   "metadata": {},
   "outputs": [
    {
     "name": "stdout",
     "output_type": "stream",
     "text": [
      "J6mRh2TP9B6h\n"
     ]
    }
   ],
   "source": [
    "message = input(\"Enter the message you wish to encrypt: \")\n",
    "encrypted_message = ''\n",
    "for char in message:\n",
    "\tencrypted_message += value_key[char]\n",
    "\n",
    "print(encrypted_message)"
   ]
  },
  {
   "cell_type": "code",
   "execution_count": null,
   "metadata": {},
   "outputs": [],
   "source": []
  }
 ],
 "metadata": {
  "kernelspec": {
   "display_name": "base",
   "language": "python",
   "name": "python3"
  },
  "language_info": {
   "codemirror_mode": {
    "name": "ipython",
    "version": 3
   },
   "file_extension": ".py",
   "mimetype": "text/x-python",
   "name": "python",
   "nbconvert_exporter": "python",
   "pygments_lexer": "ipython3",
   "version": "3.12.7"
  }
 },
 "nbformat": 4,
 "nbformat_minor": 2
}
