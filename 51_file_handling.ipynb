{
 "cells": [
  {
   "cell_type": "code",
   "execution_count": null,
   "metadata": {},
   "outputs": [
    {
     "name": "stdout",
     "output_type": "stream",
     "text": [
      "The location '26_modules/examples.py' exists\n",
      "That is a file\n"
     ]
    }
   ],
   "source": [
    "# Python file detection\n",
    "\n",
    "import os\n",
    "file_path = \"26_modules/examples.py\"    #relative file path\n",
    "\n",
    "if os.path.exists(file_path):\n",
    "    print(f\"The location '{file_path}' exists\")\n",
    "\n",
    "    if os.path.isfile(file_path):\n",
    "        print(\"That is a file\")\n",
    "    elif os.path.isdir(file_path):\n",
    "        print(\"That is a directory\")\n",
    "else:\n",
    "    print(\"That location doesn't exist\")"
   ]
  },
  {
   "cell_type": "code",
   "execution_count": 4,
   "metadata": {},
   "outputs": [
    {
     "name": "stdout",
     "output_type": "stream",
     "text": [
      "The location 'C:/Users/Rahul/Desktop/Games' exists\n",
      "That is a directory\n"
     ]
    }
   ],
   "source": [
    "file_path = \"C:/Users/Rahul/Desktop/Games\"    #absolute file path\n",
    "\n",
    "if os.path.exists(file_path):\n",
    "    print(f\"The location '{file_path}' exists\")\n",
    "\n",
    "    if os.path.isfile(file_path):\n",
    "        print(\"That is a file\")\n",
    "    elif os.path.isdir(file_path):\n",
    "        print(\"That is a directory\")\n",
    "else:\n",
    "    print(\"That location doesn't exist\")"
   ]
  }
 ],
 "metadata": {
  "kernelspec": {
   "display_name": "base",
   "language": "python",
   "name": "python3"
  },
  "language_info": {
   "codemirror_mode": {
    "name": "ipython",
    "version": 3
   },
   "file_extension": ".py",
   "mimetype": "text/x-python",
   "name": "python",
   "nbconvert_exporter": "python",
   "pygments_lexer": "ipython3",
   "version": "3.12.7"
  }
 },
 "nbformat": 4,
 "nbformat_minor": 2
}
