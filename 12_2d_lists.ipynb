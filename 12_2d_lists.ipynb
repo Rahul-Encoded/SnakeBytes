{
 "cells": [
  {
   "cell_type": "code",
   "execution_count": 4,
   "metadata": {},
   "outputs": [
    {
     "name": "stdout",
     "output_type": "stream",
     "text": [
      "Chicken\n",
      "Hare\n",
      "Fish\n",
      "Swan\n",
      "tomato\n",
      "potato\n",
      "apple orange banana coconut \n",
      "carrot Beet potato tomato \n",
      "Swan Fish Hare Chicken \n"
     ]
    }
   ],
   "source": [
    "#2D_LIST = [[List1], [List2], [List3], ...]\n",
    "\n",
    "fruits = [\"apple\", \"orange\", \"banana\", \"coconut\"]\n",
    "veggies = [\"carrot\", \"Beet\", \"potato\", \"tomato\"]\n",
    "meats = [\"Swan\", \"Fish\", \"Hare\", \"Chicken\"]\n",
    "\n",
    "groceries = [fruits, veggies, meats]\n",
    "\n",
    "print(groceries[-1][-1])\n",
    "print(groceries[-1][-2])\n",
    "print(groceries[-1][-3])\n",
    "print(groceries[-1][-4])\n",
    "print(groceries[-2][-1])\n",
    "print(groceries[-2][-2])\n",
    "\n",
    "for row in groceries:\n",
    "    for num in row:\n",
    "        print(num, end=\" \")\n",
    "    print()\n"
   ]
  },
  {
   "cell_type": "code",
   "execution_count": null,
   "metadata": {},
   "outputs": [],
   "source": [
    "# Here are a few different 2d collection combinations:\n",
    "\n",
    "# # 2D list of lists\n",
    "# num_pad = [[1, 2, 3],\n",
    "#            [4, 5, 6],\n",
    "#            [7, 8, 9],\n",
    "#            [\"*\", 0, \"#\"]]\n",
    "\n",
    "# # 2D list of tuples\n",
    "# num_pad = [(1, 2, 3),\n",
    "#            (4, 5, 6),\n",
    "#            (7, 8, 9),\n",
    "#            (\"*\", 0, \"#\")]\n",
    "\n",
    "# # 2D list of sets\n",
    "# num_pad = [{1, 2, 3},\n",
    "#            {4, 5, 6},\n",
    "#            {7, 8, 9},\n",
    "#            {\"*\", 0, \"#\"}]\n",
    "\n",
    "# # 2D tuple of lists\n",
    "# num_pad = ([1, 2, 3],\n",
    "#            [4, 5, 6],\n",
    "#            [7, 8, 9],\n",
    "#            [\"*\", 0, \"#\"])\n",
    "\n",
    "# # 2D tuple of tuples\n",
    "# num_pad = ((1, 2, 3),\n",
    "#            (4, 5, 6),\n",
    "#            (7, 8, 9),\n",
    "#            (\"*\", 0, \"#\"))\n",
    "\n",
    "# # 2D tuple of sets\n",
    "# num_pad = ({1, 2, 3},\n",
    "#            {4, 5, 6},\n",
    "#            {7, 8, 9},\n",
    "#            {\"*\", 0, \"#\"})\n",
    "\n",
    "# # 2D set of lists (NOT VALID)\n",
    "# num_pad = {[1, 2, 3],\n",
    "#            [4, 5, 6],\n",
    "#            [7, 8, 9],\n",
    "#            [\"*\", 0, \"#\"]}\n",
    "\n",
    "# # 2D set of tuples\n",
    "# num_pad = {(1, 2, 3),\n",
    "#            (4, 5, 6),\n",
    "#            (7, 8, 9),\n",
    "#            (\"*\", 0, \"#\")}\n",
    "\n",
    "# # 2D set of sets (NOT VALID)\n",
    "# num_pad = {{1, 2, 3},\n",
    "#            {4, 5, 6},\n",
    "#            {7, 8, 9},\n",
    "#            {\"*\", 0, \"#\"}}\n",
    "\n",
    "\"\"\"\n",
    "\tList of sets: Allowed because lists can contain any type of elements, including sets.\n",
    "\tSet of lists: Not allowed because lists are mutable and not hashable, which violates the requirements for set element\n",
    "\"\"\""
   ]
  }
 ],
 "metadata": {
  "kernelspec": {
   "display_name": "base",
   "language": "python",
   "name": "python3"
  },
  "language_info": {
   "codemirror_mode": {
    "name": "ipython",
    "version": 3
   },
   "file_extension": ".py",
   "mimetype": "text/x-python",
   "name": "python",
   "nbconvert_exporter": "python",
   "pygments_lexer": "ipython3",
   "version": "3.9.18"
  }
 },
 "nbformat": 4,
 "nbformat_minor": 2
}
