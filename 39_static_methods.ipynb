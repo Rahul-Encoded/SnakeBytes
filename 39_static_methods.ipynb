{
 "cells": [
  {
   "cell_type": "markdown",
   "metadata": {},
   "source": [
    "Static methods are methods that belong to a class rather than any object from that class(instance).\n",
    "\n",
    "Usually used for general utility function\n",
    "\n",
    "## Instance methods = Best for operations on instances of the class (objects)\n",
    "\n",
    "## Static methods = Best for utility functions that do not need access to class data"
   ]
  },
  {
   "cell_type": "code",
   "execution_count": 4,
   "metadata": {},
   "outputs": [
    {
     "name": "stdout",
     "output_type": "stream",
     "text": [
      "False\n",
      "\n",
      "\n",
      "Rahul = Founder\n",
      "True\n",
      "\n",
      "\n",
      "Krish = CEO\n",
      "False\n"
     ]
    }
   ],
   "source": [
    "class Employee:\n",
    "\n",
    "    def __init__(self, name, position):\n",
    "        self.name = name\n",
    "        self.position = position\n",
    "\n",
    "    #INSTANCE METHOD\n",
    "    def get_info(self):\n",
    "        return f\"{self.name} = {self.position}\"\n",
    "\n",
    "    @staticmethod\n",
    "    def is_valid_position(position):\n",
    "        valid_positions = [\"Manager\", \"Cashier\", \"Founder\", \"Janitor\"]\n",
    "        return position in valid_positions\n",
    "\n",
    "print(Employee.is_valid_position(\"Rocket Scientist\")) # you only need to acces the class, you don't even need to create objects from that class\n",
    "\n",
    "employee1 = Employee(\"Rahul\", \"Founder\")\n",
    "employee2 = Employee(\"Krish\", \"CEO\")\n",
    "print(\"\\n\")\n",
    "print(employee1.get_info())\n",
    "print(Employee.is_valid_position(employee1.position))\n",
    "print(\"\\n\")\n",
    "print(employee2.get_info())\n",
    "print(Employee.is_valid_position(employee2.position))"
   ]
  },
  {
   "cell_type": "code",
   "execution_count": null,
   "metadata": {},
   "outputs": [],
   "source": []
  }
 ],
 "metadata": {
  "kernelspec": {
   "display_name": "base",
   "language": "python",
   "name": "python3"
  },
  "language_info": {
   "codemirror_mode": {
    "name": "ipython",
    "version": 3
   },
   "file_extension": ".py",
   "mimetype": "text/x-python",
   "name": "python",
   "nbconvert_exporter": "python",
   "pygments_lexer": "ipython3",
   "version": "3.12.7"
  }
 },
 "nbformat": 4,
 "nbformat_minor": 2
}
