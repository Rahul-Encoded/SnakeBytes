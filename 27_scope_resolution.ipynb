{
 "cells": [
  {
   "cell_type": "markdown",
   "metadata": {},
   "source": [
    "variable scope = where a variable is visible and accessible\n",
    "\n",
    "scope resolution = (LEGB) => Local -> Enclosed -> Global -> Built-in"
   ]
  },
  {
   "cell_type": "code",
   "execution_count": 1,
   "metadata": {},
   "outputs": [
    {
     "name": "stdout",
     "output_type": "stream",
     "text": [
      "1\n",
      "2\n"
     ]
    }
   ],
   "source": [
    "#---- LOCAL ----\n",
    "\n",
    "def func1():\n",
    "    x = 1 #local\n",
    "    print(x)\n",
    "\n",
    "def func2():\n",
    "    x = 2 #local\n",
    "    print(x)\n",
    "\n",
    "func1()\n",
    "func2()"
   ]
  },
  {
   "cell_type": "code",
   "execution_count": 2,
   "metadata": {},
   "outputs": [
    {
     "name": "stdout",
     "output_type": "stream",
     "text": [
      "1\n"
     ]
    }
   ],
   "source": [
    "#---- ENCLOSED ----\n",
    "\n",
    "def func1():\n",
    "    x = 1 #enclosed\n",
    "\n",
    "    def func2():\n",
    "        print(x)\n",
    "    func2()\n",
    "    \n",
    "x = 3\n",
    "\n",
    "func1()"
   ]
  },
  {
   "cell_type": "code",
   "execution_count": 3,
   "metadata": {},
   "outputs": [
    {
     "name": "stdout",
     "output_type": "stream",
     "text": [
      "2\n"
     ]
    }
   ],
   "source": [
    "#---- ENCLOSED ----\n",
    "\n",
    "def func1():\n",
    "    x = 1 #enclosed\n",
    "\n",
    "    def func2():\n",
    "        x = 2\n",
    "        print(x)\n",
    "    func2()\n",
    "    \n",
    "x = 3\n",
    "\n",
    "func1()"
   ]
  },
  {
   "cell_type": "code",
   "execution_count": null,
   "metadata": {},
   "outputs": [],
   "source": [
    "#---- GLOBAL ----\n",
    "\n",
    "def func1():\n",
    "    print(x)\n",
    "\n",
    "def func2():\n",
    "    print(x)\n",
    "\n",
    "x = 3 #global\n",
    "\n",
    "func1()\n",
    "func2()"
   ]
  },
  {
   "cell_type": "code",
   "execution_count": 4,
   "metadata": {},
   "outputs": [
    {
     "name": "stdout",
     "output_type": "stream",
     "text": [
      "3\n"
     ]
    }
   ],
   "source": [
    "#---- BUILT-IN ----\n",
    "\n",
    "from math import e \n",
    "\n",
    "def func1():\n",
    "    print(e)\n",
    "\n",
    "e = 3\n",
    "\n",
    "func1()"
   ]
  },
  {
   "cell_type": "code",
   "execution_count": 5,
   "metadata": {},
   "outputs": [
    {
     "name": "stdout",
     "output_type": "stream",
     "text": [
      "2.718281828459045\n"
     ]
    }
   ],
   "source": [
    "#---- BUILT-IN ----\n",
    "\n",
    "from math import e \n",
    "\n",
    "def func1():\n",
    "    print(e)\n",
    "\n",
    "\n",
    "func1()"
   ]
  }
 ],
 "metadata": {
  "kernelspec": {
   "display_name": "base",
   "language": "python",
   "name": "python3"
  },
  "language_info": {
   "codemirror_mode": {
    "name": "ipython",
    "version": 3
   },
   "file_extension": ".py",
   "mimetype": "text/x-python",
   "name": "python",
   "nbconvert_exporter": "python",
   "pygments_lexer": "ipython3",
   "version": "3.12.7"
  }
 },
 "nbformat": 4,
 "nbformat_minor": 2
}
