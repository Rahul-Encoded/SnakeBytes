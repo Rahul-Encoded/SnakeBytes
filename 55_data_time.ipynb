{
 "cells": [
  {
   "cell_type": "code",
   "execution_count": 4,
   "metadata": {},
   "outputs": [
    {
     "name": "stdout",
     "output_type": "stream",
     "text": [
      "2025-01-02\n",
      "2025-01-24\n",
      "12:30:00\n",
      "2025-01-24 21:01:54.556536\n",
      "21:01:54 01-24-2025\n"
     ]
    }
   ],
   "source": [
    "import datetime\n",
    "\n",
    "date = datetime.date(2025, 1, 2)\n",
    "print(date)\n",
    "today = datetime.date.today()\n",
    "print(today)\n",
    "\n",
    "time = datetime.time(12, 30, 0)\n",
    "print(time)\n",
    "now = datetime.datetime.now()\n",
    "print(now)\n",
    "\n",
    "now = now.strftime(\"%H:%M:%S %m-%d-%Y\")\n",
    "print(now)"
   ]
  },
  {
   "cell_type": "code",
   "execution_count": 5,
   "metadata": {},
   "outputs": [
    {
     "name": "stdout",
     "output_type": "stream",
     "text": [
      "Target date has NOT passed\n"
     ]
    }
   ],
   "source": [
    "target_datetime = datetime.datetime(2030, 1, 2, 12, 30, 1)\n",
    "current_datetime = datetime.datetime.now()\n",
    "\n",
    "if target_datetime < current_datetime:\n",
    "    print(\"Target date has passed\")\n",
    "else:\n",
    "    print(\"Target date has NOT passed\")"
   ]
  }
 ],
 "metadata": {
  "kernelspec": {
   "display_name": "base",
   "language": "python",
   "name": "python3"
  },
  "language_info": {
   "codemirror_mode": {
    "name": "ipython",
    "version": 3
   },
   "file_extension": ".py",
   "mimetype": "text/x-python",
   "name": "python",
   "nbconvert_exporter": "python",
   "pygments_lexer": "ipython3",
   "version": "3.12.7"
  }
 },
 "nbformat": 4,
 "nbformat_minor": 2
}
