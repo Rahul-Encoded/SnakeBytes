{
 "cells": [
  {
   "cell_type": "code",
   "execution_count": 1,
   "id": "5056ddea-f305-4746-9c73-7962db126a63",
   "metadata": {},
   "outputs": [],
   "source": [
    "#math in python is easy + exercise"
   ]
  },
  {
   "cell_type": "code",
   "execution_count": 7,
   "id": "57908d3a-b995-4426-8f63-16d9ee6359c2",
   "metadata": {},
   "outputs": [
    {
     "name": "stdout",
     "output_type": "stream",
     "text": [
      "11\n",
      "10\n",
      "5.0\n",
      "10.0\n",
      "100.0\n",
      "1.0\n"
     ]
    }
   ],
   "source": [
    "friends = 10\n",
    "friends += 1\n",
    "print(friends)\n",
    "friends -= 1\n",
    "print(friends)\n",
    "friends /= 2\n",
    "print(friends)\n",
    "friends *= 2\n",
    "print(friends)\n",
    "friends **= 2\n",
    "print(friends)\n",
    "remainder = friends % 3\n",
    "print(remainder)"
   ]
  },
  {
   "cell_type": "code",
   "execution_count": 1,
   "id": "c4893753-5e71-4b98-b707-41b1e74d75e3",
   "metadata": {},
   "outputs": [
    {
     "name": "stdout",
     "output_type": "stream",
     "text": [
      "3\n",
      "4\n",
      "3.14\n",
      "3.6\n",
      "97.21171216000002\n",
      "5\n",
      "3.14\n"
     ]
    }
   ],
   "source": [
    "x = 3.14\n",
    "y = 4\n",
    "z = 5\n",
    "w = 3.6\n",
    "\n",
    "result = round(x)\n",
    "print(result)\n",
    "\n",
    "result = round(w)\n",
    "print(result)\n",
    "\n",
    "result = abs(x)\n",
    "print(result)\n",
    "\n",
    "result = abs(w)\n",
    "print(result)\n",
    "\n",
    "result = pow(x, y)\n",
    "print(result)\n",
    "\n",
    "result = max(x, y, z)\n",
    "print(result)\n",
    "\n",
    "result = min(x, y, z)\n",
    "print(result)"
   ]
  },
  {
   "cell_type": "code",
   "execution_count": 17,
   "id": "7578d443-ba5e-4b05-9865-eb7b63e4fb71",
   "metadata": {},
   "outputs": [
    {
     "name": "stdout",
     "output_type": "stream",
     "text": [
      "3.141592653589793\n",
      "2.718281828459045\n",
      "1.772004514666935\n",
      "4\n",
      "3\n"
     ]
    }
   ],
   "source": [
    "import math\n",
    "\n",
    "print(math.pi)\n",
    "print(math.e)\n",
    "result = math.sqrt(x)\n",
    "print(result)\n",
    "result = math.ceil(x) # round up a number\n",
    "print(result)\n",
    "result = math.floor(x) # round down a number\n",
    "print(result)"
   ]
  },
  {
   "cell_type": "code",
   "execution_count": 25,
   "id": "971e62d8-25a0-43b8-a71f-67c1fba23ce1",
   "metadata": {},
   "outputs": [
    {
     "name": "stdout",
     "output_type": "stream",
     "text": [
      "Enter the radius of a circle:  9\n"
     ]
    },
    {
     "name": "stdout",
     "output_type": "stream",
     "text": [
      "Area of the circle is 508.94\n"
     ]
    }
   ],
   "source": [
    "#area of a circle\n",
    "r = float(input(\"Enter the radius of a circle: \"))\n",
    "\n",
    "area = round(math.pi * pow(r,2), 2)\n",
    "\n",
    "print(f\"Area of the circle is {area}\")"
   ]
  },
  {
   "cell_type": "code",
   "execution_count": 29,
   "id": "40e8bf61-b9a5-4644-b2c4-c54959697cb8",
   "metadata": {},
   "outputs": [
    {
     "name": "stdout",
     "output_type": "stream",
     "text": [
      "Circumference of the circle is 56.55\n"
     ]
    }
   ],
   "source": [
    "#Circumference\n",
    "circumference = round(2 * math.pi * r, 2)\n",
    "print(f\"Circumference of the circle is {circumference}\")"
   ]
  },
  {
   "cell_type": "code",
   "execution_count": 35,
   "id": "ac8aa08f-a7c2-4842-a29b-0e61fb977096",
   "metadata": {},
   "outputs": [
    {
     "name": "stdout",
     "output_type": "stream",
     "text": [
      "Enter the vertical length of the right-angled triangle:  6\n",
      "Enter the horizontal length of the right-angled triangle:  9\n"
     ]
    },
    {
     "name": "stdout",
     "output_type": "stream",
     "text": [
      "The hypotenuse of the given right-angled triangle is 10.82\n"
     ]
    }
   ],
   "source": [
    "#Hypotenuse of a right-angled triangle\n",
    "\n",
    "a = float(input(\"Enter the vertical length of the right-angled triangle: \"))\n",
    "b = float(input(\"Enter the horizontal length of the right-angled triangle: \"))\n",
    "\n",
    "hypotenuse = round(math.sqrt((a**2)+(b**2)),2)\n",
    "\n",
    "print(f\"The hypotenuse of the given right-angled triangle is {hypotenuse}\")"
   ]
  },
  {
   "cell_type": "code",
   "execution_count": null,
   "id": "85e816c1-5265-4b6e-9e44-7d0310de051d",
   "metadata": {},
   "outputs": [],
   "source": []
  }
 ],
 "metadata": {
  "kernelspec": {
   "display_name": "base",
   "language": "python",
   "name": "python3"
  },
  "language_info": {
   "codemirror_mode": {
    "name": "ipython",
    "version": 3
   },
   "file_extension": ".py",
   "mimetype": "text/x-python",
   "name": "python",
   "nbconvert_exporter": "python",
   "pygments_lexer": "ipython3",
   "version": "3.12.7"
  }
 },
 "nbformat": 4,
 "nbformat_minor": 5
}
