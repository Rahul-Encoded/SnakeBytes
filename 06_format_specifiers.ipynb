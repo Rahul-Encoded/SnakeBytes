{
 "cells": [
  {
   "cell_type": "code",
   "execution_count": 15,
   "id": "006efaa0-c0b2-450b-8ee6-c24c2236cd59",
   "metadata": {},
   "outputs": [
    {
     "name": "stdout",
     "output_type": "stream",
     "text": [
      "Price 1 is $3.142\n",
      "Price 2 is $-987.650\n",
      "Price 3 is $     12.34\n",
      "Price 4 is $0000012.34\n",
      "Price 5 is $12.3400000\n",
      "Price 6 is $0000012.34\n",
      "Price 7 is $0012.34000\n",
      "Price 8 is $+12.34\n",
      "Price 9 is $ 12.34\n",
      "Price 4 is $126,988.3469\n",
      "Price 4 is $+126,988.35\n",
      "Price 4 is $+126,988.3469\n",
      "Price 3 is $1234.000000%\n",
      "Price 3 is $1234.000000%\n"
     ]
    }
   ],
   "source": [
    "#format specifiers = {value:flags} format a value based on what flags are inserted\n",
    "# .(number)f = round to that many decimal places\n",
    "# :(number) = allocate that many spaces\n",
    "# :0(number) = allocate and zero pad that many spaces\n",
    "# :< = left justify\n",
    "# :> = right justify\n",
    "# :^ = center align\n",
    "# :+ = use a plus sign to indicate positive value\n",
    "# := = place sign to leftmost position\n",
    "# :  = insert a space before positive numbers\n",
    "# :, = comma separator\n",
    "# :% = percentage format\n",
    "\n",
    "price1 = 3.14159\n",
    "price2 = -987.65\n",
    "price3 = 12.34\n",
    "price4 = 126988.3469\n",
    "\n",
    "print(f\"Price 1 is ${price1:.3f}\")\n",
    "print(f\"Price 2 is ${price2:.3f}\")\n",
    "print(f\"Price 3 is ${price3:10}\")\n",
    "print(f\"Price 4 is ${price3:010}\")\n",
    "print(f\"Price 5 is ${price3:<010}\")\n",
    "print(f\"Price 6 is ${price3:>010}\")\n",
    "print(f\"Price 7 is ${price3:^010}\")\n",
    "print(f\"Price 8 is ${price3:+}\")\n",
    "print(f\"Price 9 is ${price3: }\")\n",
    "print(f\"Price 4 is ${price4:,}\")\n",
    "print(f\"Price 4 is ${price4:+,.2f}\")\n",
    "print(f\"Price 4 is ${price4:=+,}\")\n",
    "print(f\"Price 3 is ${price3:=%}\")\n",
    "print(f\"Price 3 is ${price3:%}\")\n"
   ]
  },
  {
   "cell_type": "code",
   "execution_count": 12,
   "id": "75c27d8c-2e33-4843-99ec-a89692639ba4",
   "metadata": {},
   "outputs": [
    {
     "name": "stdout",
     "output_type": "stream",
     "text": [
      "15\n",
      "15\n"
     ]
    }
   ],
   "source": [
    "# Example without walrus operator\n",
    "numbers = [1, 2, 3, 4, 5]\n",
    "total = 0\n",
    "for number in numbers:\n",
    "    total += number\n",
    "print(total)\n",
    "\n",
    "# Example with walrus operator\n",
    "numbers = [1, 2, 3, 4, 5]\n",
    "total = 0\n",
    "while numbers and (number := numbers.pop(0)) != 0:\n",
    "    total += number\n",
    "print(total)"
   ]
  }
 ],
 "metadata": {
  "kernelspec": {
   "display_name": "base",
   "language": "python",
   "name": "python3"
  },
  "language_info": {
   "codemirror_mode": {
    "name": "ipython",
    "version": 3
   },
   "file_extension": ".py",
   "mimetype": "text/x-python",
   "name": "python",
   "nbconvert_exporter": "python",
   "pygments_lexer": "ipython3",
   "version": "3.12.7"
  }
 },
 "nbformat": 4,
 "nbformat_minor": 5
}
