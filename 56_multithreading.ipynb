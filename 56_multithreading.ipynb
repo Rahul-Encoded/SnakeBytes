{
 "cells": [
  {
   "cell_type": "code",
   "execution_count": 4,
   "metadata": {},
   "outputs": [
    {
     "name": "stdout",
     "output_type": "stream",
     "text": [
      "You take out the trash\n",
      "You get the mail\n",
      "You finish walking Scooby Doo\n",
      "All chores are complete!\n"
     ]
    }
   ],
   "source": [
    "import threading\n",
    "import time\n",
    "\n",
    "def walk_dog(first, last):\n",
    "   time.sleep(8)\n",
    "   print(f\"You finish walking {first} {last}\")\n",
    "\n",
    "def take_out_trash():\n",
    "   time.sleep(2)\n",
    "   print(\"You take out the trash\")\n",
    "\n",
    "def get_mail():\n",
    "   time.sleep(4)\n",
    "   print(\"You get the mail\")\n",
    "\n",
    "chore1 = threading.Thread(target=walk_dog, args=(\"Scooby\", \"Doo\"))\t#args nedd tuple in case there's only a single element, end it with a comma\n",
    "chore1.start()\n",
    "\n",
    "chore2 = threading.Thread(target=take_out_trash)\n",
    "chore2.start()\n",
    "\n",
    "chore3 = threading.Thread(target=get_mail)\n",
    "chore3.start()\n",
    "\n",
    "# .join() ensures that all tasks are completed before proceeding\n",
    "chore1.join()\n",
    "chore2.join()\n",
    "chore3.join()\n",
    "\n",
    "print(\"All chores are complete!\")"
   ]
  }
 ],
 "metadata": {
  "kernelspec": {
   "display_name": "base",
   "language": "python",
   "name": "python3"
  },
  "language_info": {
   "codemirror_mode": {
    "name": "ipython",
    "version": 3
   },
   "file_extension": ".py",
   "mimetype": "text/x-python",
   "name": "python",
   "nbconvert_exporter": "python",
   "pygments_lexer": "ipython3",
   "version": "3.12.7"
  }
 },
 "nbformat": 4,
 "nbformat_minor": 2
}
