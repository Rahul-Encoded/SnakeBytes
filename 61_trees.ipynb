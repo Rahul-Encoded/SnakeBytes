{
 "cells": [
  {
   "cell_type": "code",
   "execution_count": 37,
   "metadata": {},
   "outputs": [],
   "source": [
    "class TreeNode:\n",
    "\tdef __init__(self, data):\n",
    "\t\tself.data = data\n",
    "\t\tself.children = []\n",
    "\t\tself.parent = None\n",
    "\n",
    "\tdef add_child(self, child):\n",
    "\t\tchild.parent = self\n",
    "\t\tself.children.append(child)\n",
    "\n",
    "\tdef get_level(self):\n",
    "\t\tlevel = 0\n",
    "\t\tp = self.parent\n",
    "\t\twhile p:\n",
    "\t\t\tlevel += 1\n",
    "\t\t\tp = p.parent\n",
    "\t\treturn level\n",
    "\n",
    "\tdef print_tree(self):\n",
    "\t\tlevel = self.get_level()\n",
    "\t\tprint(f\"{'':{level*2}}|--{self.data}\")\n",
    "\t\tif self.children:\n",
    "\t\t\tfor child in self.children:\n",
    "\t\t\t\tchild.print_tree()\t\n",
    "\n",
    "\tdef print_tree_by_level(self, limit = None):\n",
    "\t\tif limit is None:\n",
    "\t\t\tself.print_tree()\n",
    "\t\t\treturn\n",
    "\t\tlevel = self.get_level() \n",
    "\t\tif level <= limit: \n",
    "\t\t\tprint(f\"{'':{level*2}}|--{self.data}\")\n",
    "\t\t\tif self.children:\n",
    "\t\t\t\tfor child in self.children:\n",
    "\t\t\t\t\tchild.print_tree_by_level(limit)"
   ]
  },
  {
   "cell_type": "markdown",
   "metadata": {},
   "source": [
    "### GENERAL TREE Structure\n",
    "\n",
    "A general tree is a data structure where each node can have zero or more children. Below is a visualization of a general tree for a subject, such as a company's organizational structure:\n",
    "\n",
    "                CEO\n",
    "               /   \\\n",
    "            CTO     CFO\n",
    "          /  |  \\   /  \\\n",
    "       Dev1 Dev2 Dev3 Acc1 Acc2\n",
    "\n",
    "\n",
    "In this tree:\n",
    "- The root node is the CEO.\n",
    "- The CEO has two children: CTO and CFO.\n",
    "- The CTO has three children: Dev1, Dev2, and Dev3.\n",
    "- The CFO has two children: Acc1 and Acc2.\n",
    "\n",
    "You can use this structure to code out a general tree in Python."
   ]
  },
  {
   "cell_type": "code",
   "execution_count": 38,
   "metadata": {},
   "outputs": [],
   "source": [
    "def build_company_tree():\n",
    "\tcompany = TreeNode(\"MonRch\")\n",
    "\tceo = TreeNode(\"CEO\")\n",
    "\tcto = TreeNode(\"CTO\")\n",
    "\tcfo = TreeNode(\"CFO\")\n",
    "\tdev1 = TreeNode(\"Dev1\")\n",
    "\tdev2 = TreeNode(\"Dev2\")\n",
    "\tdev3 = TreeNode(\"Dev3\")\n",
    "\tacc1 = TreeNode(\"Accountant1\")\n",
    "\tacc2 = TreeNode(\"Accountant2\")\n",
    "\tcompany.add_child(ceo)\n",
    "\tceo.add_child(cfo)\n",
    "\tceo.add_child(cto)\n",
    "\tcto.add_child(dev1)\n",
    "\tcto.add_child(dev2)\n",
    "\tcto.add_child(dev3)\n",
    "\tcfo.add_child(acc1)\n",
    "\tcfo.add_child(acc2)\n",
    "\n",
    "\treturn company"
   ]
  },
  {
   "cell_type": "code",
   "execution_count": null,
   "metadata": {},
   "outputs": [
    {
     "name": "stdout",
     "output_type": "stream",
     "text": [
      "|--MonRch\n",
      "  |--CEO\n",
      "    |--CFO\n",
      "      |--Accountant1\n",
      "      |--Accountant2\n",
      "    |--CTO\n",
      "      |--Dev1\n",
      "      |--Dev2\n",
      "      |--Dev3\n"
     ]
    }
   ],
   "source": [
    "root = build_company_tree()\n",
    "root.print_tree()"
   ]
  },
  {
   "cell_type": "code",
   "execution_count": null,
   "metadata": {},
   "outputs": [
    {
     "name": "stdout",
     "output_type": "stream",
     "text": [
      "  |--CEO\n",
      "    |--CFO\n",
      "      |--Accountant1\n",
      "      |--Accountant2\n",
      "    |--CTO\n",
      "      |--Dev1\n",
      "      |--Dev2\n",
      "      |--Dev3\n"
     ]
    }
   ],
   "source": [
    "root.children[0].print_tree()"
   ]
  },
  {
   "cell_type": "code",
   "execution_count": null,
   "metadata": {},
   "outputs": [
    {
     "name": "stdout",
     "output_type": "stream",
     "text": [
      "    |--CTO\n",
      "      |--Dev1\n",
      "      |--Dev2\n",
      "      |--Dev3\n"
     ]
    }
   ],
   "source": [
    "root.children[0].children[1].print_tree()"
   ]
  },
  {
   "cell_type": "code",
   "execution_count": null,
   "metadata": {},
   "outputs": [
    {
     "name": "stdout",
     "output_type": "stream",
     "text": [
      "|--MonRch\n",
      "  |--CEO\n",
      "    |--CFO\n",
      "    |--CTO\n"
     ]
    }
   ],
   "source": [
    "root.print_tree_by_level(2)"
   ]
  },
  {
   "cell_type": "code",
   "execution_count": 43,
   "metadata": {},
   "outputs": [
    {
     "name": "stdout",
     "output_type": "stream",
     "text": [
      "|--MonRch\n",
      "  |--CEO\n",
      "    |--CFO\n",
      "      |--Accountant1\n",
      "      |--Accountant2\n",
      "    |--CTO\n",
      "      |--Dev1\n",
      "      |--Dev2\n",
      "      |--Dev3\n"
     ]
    }
   ],
   "source": [
    "root.print_tree_by_level()"
   ]
  },
  {
   "cell_type": "markdown",
   "metadata": {},
   "source": [
    "### General Tree\n",
    "```md\n",
    "|--Nilupul (CEO)\n",
    "\t\t|-- Chinmay(CTO)\n",
    "\t\t\t|--Vishwa (Infrastructure Head)\n",
    "\t\t\t|--Dhaval (Cloud Manager)\n",
    "\t\t\t|--Abhijit (App Manager)\n",
    "\t\t|--Aamir (Application Head)\n",
    "\t|--Gels (HR Head)\n",
    "\t\t|--Peter (Recruitment Manager)\n",
    "\t\t|--Waqas (Policy Manager)\n",
    "\n",
    "```"
   ]
  },
  {
   "cell_type": "code",
   "execution_count": 44,
   "metadata": {},
   "outputs": [],
   "source": [
    "class TreeNode:\n",
    "\tdef __init__(self, data):\n",
    "\t\tself.data = data\n",
    "\t\tself.parent = None\n",
    "\t\tself.children = []\n",
    "\n",
    "\tdef add_child(self, child):\n",
    "\t\tchild.parent = self\n",
    "\t\tself.children.append(child)\n",
    "\t\n",
    "\tdef get_level(self):\n",
    "\t\tlevel = 0\n",
    "\t\tp = self.parent\n",
    "\t\twhile p:\n",
    "\t\t\tlevel += 1\n",
    "\t\t\tp = p.parent\n",
    "\t\treturn level\n",
    "\n",
    "\t\n",
    "\tdef print_tree(self, printType):\n",
    "\n",
    "\t\tlevel = self.get_level()\n",
    "\n",
    "\t\tif printType == \"both\":\n",
    "\t\t\tprint(f\"{'':{level*2}}|--{self.data[0]} ({self.data[1]})\")\n",
    "\t\telif printType == \"designation\":\n",
    "\t\t\tprint(f\"{'':{level*2}}|--{self.data[1]}\")\n",
    "\t\telif printType == \"name\":\n",
    "\t\t\tprint(f\"{'':{level*2}}|--{self.data[0]}\")\n",
    "\n",
    "\t\tif self.children:\n",
    "\t\t\tfor child in self.children:\n",
    "\t\t\t\tchild.print_tree(printType)"
   ]
  },
  {
   "cell_type": "code",
   "execution_count": 45,
   "metadata": {},
   "outputs": [
    {
     "name": "stdout",
     "output_type": "stream",
     "text": [
      "|--Nilupul (CEO)\n",
      "  |--Chinmay (CTO)\n",
      "    |--Vishwa (Infrastructure Head)\n",
      "    |--Dhaval (Cloud Manager)\n",
      "    |--Abhijit (App Manager)\n",
      "    |--Aamir (Application Head)\n",
      "  |--Gels (HR Head)\n",
      "    |--Peter (Recruitment Manager)\n",
      "    |--Waqas (Policy Manager)\n"
     ]
    }
   ],
   "source": [
    "def build_custom_tree():\n",
    "\troot = TreeNode([\"Nilupul\", \"CEO\"])\n",
    "\n",
    "\tcto = TreeNode([\"Chinmay\", \"CTO\"])\n",
    "\tinfra_head = TreeNode([\"Vishwa\", \"Infrastructure Head\"])\n",
    "\tcloud_manager = TreeNode([\"Dhaval\", \"Cloud Manager\"])\n",
    "\tapp_manager = TreeNode([\"Abhijit\", \"App Manager\"])\n",
    "\tapp_head = TreeNode([\"Aamir\", \"Application Head\"])\n",
    "\thr_head = TreeNode([\"Gels\", \"HR Head\"])\n",
    "\trecruitment_manager = TreeNode([\"Peter\", \"Recruitment Manager\"])\n",
    "\tpolicy_manager = TreeNode([\"Waqas\", \"Policy Manager\"])\n",
    "\n",
    "\tcto.add_child(infra_head)\n",
    "\tcto.add_child(cloud_manager)\n",
    "\tcto.add_child(app_manager)\n",
    "\tcto.add_child(app_head)\n",
    "\thr_head.add_child(recruitment_manager)\n",
    "\thr_head.add_child(policy_manager)\n",
    "\troot.add_child(cto)\n",
    "\troot.add_child(hr_head)\n",
    "\n",
    "\treturn root\n",
    "\n",
    "company = build_custom_tree()\n",
    "company.print_tree(\"both\")"
   ]
  },
  {
   "cell_type": "code",
   "execution_count": 46,
   "metadata": {},
   "outputs": [
    {
     "name": "stdout",
     "output_type": "stream",
     "text": [
      "|--Nilupul\n",
      "  |--Chinmay\n",
      "    |--Vishwa\n",
      "    |--Dhaval\n",
      "    |--Abhijit\n",
      "    |--Aamir\n",
      "  |--Gels\n",
      "    |--Peter\n",
      "    |--Waqas\n"
     ]
    }
   ],
   "source": [
    "company.print_tree(\"name\")"
   ]
  },
  {
   "cell_type": "code",
   "execution_count": 47,
   "metadata": {},
   "outputs": [
    {
     "name": "stdout",
     "output_type": "stream",
     "text": [
      "|--CEO\n",
      "  |--CTO\n",
      "    |--Infrastructure Head\n",
      "    |--Cloud Manager\n",
      "    |--App Manager\n",
      "    |--Application Head\n",
      "  |--HR Head\n",
      "    |--Recruitment Manager\n",
      "    |--Policy Manager\n"
     ]
    }
   ],
   "source": [
    "company.print_tree(\"designation\")"
   ]
  },
  {
   "cell_type": "markdown",
   "metadata": {},
   "source": [
    "## BINARY SEARCH TREE\n",
    "\n",
    "### Utilities:\n",
    "\n",
    "1. Is to implement a set like class where it removes any duplicates\t\n",
    "\n",
    "2. Is to sort \n",
    "\t\t\n"
   ]
  },
  {
   "cell_type": "code",
   "execution_count": 98,
   "metadata": {},
   "outputs": [],
   "source": [
    "class BSTNode:\n",
    "\tdef __init__(self, data):\n",
    "\t\tself.data = data\n",
    "\t\tself.left = None\n",
    "\t\tself.right = None\n",
    "\n",
    "\tdef add_child(self, data):\n",
    "\t\tif data < self.data:\n",
    "\t\t\tif self.left:\n",
    "\t\t\t\tself.left.add_child(data)\n",
    "\t\t\telse:\n",
    "\t\t\t\tself.left = BSTNode(data)\n",
    "\t\telif data > self.data:\n",
    "\t\t\tif self.right:\n",
    "\t\t\t\tself.right.add_child(data)\n",
    "\t\t\telse:\n",
    "\t\t\t\tself.right = BSTNode(data)\n",
    "\n",
    "\tdef inOrder(self):\n",
    "\t\tinorder = []\n",
    "\t\tif self.left:\n",
    "\t\t\tinorder.extend(self.left.inOrder())\n",
    "\t\t\n",
    "\t\tinorder.append(self.data)\n",
    "\n",
    "\t\tif self.right:\n",
    "\t\t\tinorder.extend(self.right.inOrder())\n",
    "\n",
    "\t\treturn inorder\n",
    "\t\n",
    "\tdef preOrder(self):\n",
    "\t\tpreorder = []\n",
    "\n",
    "\t\tpreorder.append(self.data)\n",
    "\n",
    "\t\tif self.left:\n",
    "\t\t\tpreorder += self.left.preOrder()\n",
    "\t\t\n",
    "\t\tif self.right:\n",
    "\t\t\tpreorder += self.right.preOrder()\n",
    "\n",
    "\t\treturn preorder\n",
    "\n",
    "\tdef postOrder(self):\n",
    "\t\tpostorder = []\n",
    "\n",
    "\t\tif self.left:\n",
    "\t\t\tpostorder += self.left.postOrder()\n",
    "\n",
    "\t\tif self.right:\n",
    "\t\t\tpostorder += self.right.postOrder()\n",
    "\n",
    "\t\tpostorder.append(self.data)\n",
    "\t\t\n",
    "\t\treturn postorder\n",
    "\t\n",
    "\tdef search(self, data):\n",
    "\t\t\n",
    "\t\tif data < self.data:\n",
    "\t\t\tif self.left:\n",
    "\t\t\t\treturn self.left.search(data)\n",
    "\t\t\telse:\n",
    "\t\t\t\treturn False\n",
    "\n",
    "\t\telif data > self.data:\n",
    "\t\t\tif self.right:\n",
    "\t\t\t\treturn self.right.search(data)\n",
    "\t\t\telse:\n",
    "\t\t\t\treturn False\n",
    "\n",
    "\t\telse:\n",
    "\t\t\treturn True\n",
    "\t\n",
    "\tdef find_min(self):\n",
    "\t\tif self.left:\n",
    "\t\t\treturn self.left.find_min()\n",
    "\t\telse: \n",
    "\t\t\treturn self\n",
    "\t\t\n",
    "\tdef find_max(self):\n",
    "\t\tif self.right:\n",
    "\t\t\treturn self.right.find_max()\n",
    "\t\telse:\n",
    "\t\t\treturn self\n",
    "\n",
    "\tdef delete_node(self, data):\n",
    "\t\tif data < self.data:\n",
    "\t\t\tif self.left:\n",
    "\t\t\t\tself.left.delete_node(data)\n",
    "\t\telif data > self.data:\n",
    "\t\t\tif self.right:\n",
    "\t\t\t\tself.right.delete_node(data)\t\n",
    "\t\telse:\n",
    "\t\t\tif self.left is None and self.right is None:\n",
    "\t\t\t\tself = None\n",
    "\t\t\telif self.left is None:\n",
    "\t\t\t\tself.data = self.right.data\n",
    "\t\t\t\tself.right = None\n",
    "\t\t\telif self.right is None:\n",
    "\t\t\t\tself.data = self.left.data\n",
    "\t\t\t\tself.left = None\n",
    "\t\t\telse:\n",
    "\t\t\t\tmin_right = self.right.find_min()\n",
    "\t\t\t\tself.data = min_right.data\n",
    "\t\t\t\tmin_right = None\n"
   ]
  },
  {
   "cell_type": "code",
   "execution_count": 99,
   "metadata": {},
   "outputs": [],
   "source": [
    "def buildTree(elements):\n",
    "\tbst = BSTNode(elements[0])\n",
    "\n",
    "\tfor element in elements:\n",
    "\t\tbst.add_child(element)\n",
    "\n",
    "\treturn bst\n",
    "\n",
    "elements = [88,96,69,21,32,55,86,74,32,56,94]\n",
    "\n",
    "bst = buildTree(elements)\n"
   ]
  },
  {
   "cell_type": "code",
   "execution_count": 100,
   "metadata": {},
   "outputs": [
    {
     "name": "stdout",
     "output_type": "stream",
     "text": [
      "[21, 32, 55, 56, 69, 74, 86, 88, 94, 96]\n",
      "[88, 69, 21, 32, 55, 56, 86, 74, 96, 94]\n",
      "[56, 55, 32, 21, 74, 86, 69, 94, 96, 88]\n"
     ]
    }
   ],
   "source": [
    "print(bst.inOrder())\n",
    "print(bst.preOrder())\n",
    "print(bst.postOrder())"
   ]
  },
  {
   "cell_type": "code",
   "execution_count": 101,
   "metadata": {},
   "outputs": [
    {
     "name": "stdout",
     "output_type": "stream",
     "text": [
      "True\n",
      "True\n",
      "False\n"
     ]
    }
   ],
   "source": [
    "print(bst.search(69))\n",
    "print(bst.search(96))\n",
    "print(bst.search(33))"
   ]
  },
  {
   "cell_type": "code",
   "execution_count": 102,
   "metadata": {},
   "outputs": [
    {
     "name": "stdout",
     "output_type": "stream",
     "text": [
      "96\n",
      "21\n"
     ]
    }
   ],
   "source": [
    "print(bst.find_max().data)\n",
    "print(bst.find_min().data)"
   ]
  },
  {
   "cell_type": "code",
   "execution_count": 103,
   "metadata": {},
   "outputs": [],
   "source": [
    "bst.delete_node(21)"
   ]
  },
  {
   "cell_type": "code",
   "execution_count": 104,
   "metadata": {},
   "outputs": [
    {
     "data": {
      "text/plain": [
       "[32, 69, 74, 86, 88, 94, 96]"
      ]
     },
     "execution_count": 104,
     "metadata": {},
     "output_type": "execute_result"
    }
   ],
   "source": [
    "bst.inOrder()"
   ]
  },
  {
   "cell_type": "code",
   "execution_count": 105,
   "metadata": {},
   "outputs": [
    {
     "data": {
      "text/plain": [
       "[32, 74, 74, 86, 88, 94, 96]"
      ]
     },
     "execution_count": 105,
     "metadata": {},
     "output_type": "execute_result"
    }
   ],
   "source": [
    "bst.delete_node(69)\n",
    "bst.inOrder()"
   ]
  },
  {
   "cell_type": "code",
   "execution_count": 106,
   "metadata": {},
   "outputs": [
    {
     "data": {
      "text/plain": [
       "[32, 74, 74, 86, 88, 94]"
      ]
     },
     "execution_count": 106,
     "metadata": {},
     "output_type": "execute_result"
    }
   ],
   "source": [
    "bst.delete_node(96)\n",
    "bst.inOrder()"
   ]
  },
  {
   "cell_type": "code",
   "execution_count": null,
   "metadata": {},
   "outputs": [],
   "source": []
  }
 ],
 "metadata": {
  "kernelspec": {
   "display_name": "base",
   "language": "python",
   "name": "python3"
  },
  "language_info": {
   "codemirror_mode": {
    "name": "ipython",
    "version": 3
   },
   "file_extension": ".py",
   "mimetype": "text/x-python",
   "name": "python",
   "nbconvert_exporter": "python",
   "pygments_lexer": "ipython3",
   "version": "3.12.7"
  }
 },
 "nbformat": 4,
 "nbformat_minor": 2
}
