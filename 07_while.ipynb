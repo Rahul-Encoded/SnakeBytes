{
 "cells": [
  {
   "cell_type": "code",
   "execution_count": 2,
   "id": "22a76464-bc6e-4805-adac-f6a0fe972c19",
   "metadata": {
    "editable": true,
    "scrolled": true,
    "slideshow": {
     "slide_type": ""
    },
    "tags": []
   },
   "outputs": [
    {
     "name": "stdout",
     "output_type": "stream",
     "text": [
      "Enter your name:  \n"
     ]
    },
    {
     "name": "stdout",
     "output_type": "stream",
     "text": [
      "Enter your name!!!\n"
     ]
    },
    {
     "name": "stdout",
     "output_type": "stream",
     "text": [
      "Enter your name:  \n"
     ]
    },
    {
     "name": "stdout",
     "output_type": "stream",
     "text": [
      "Enter your name!!!\n"
     ]
    },
    {
     "name": "stdout",
     "output_type": "stream",
     "text": [
      "Enter your name:  \n"
     ]
    },
    {
     "name": "stdout",
     "output_type": "stream",
     "text": [
      "Enter your name!!!\n"
     ]
    },
    {
     "name": "stdout",
     "output_type": "stream",
     "text": [
      "Enter your name:  Rahul\n"
     ]
    },
    {
     "name": "stdout",
     "output_type": "stream",
     "text": [
      "Your name is Rahul\n"
     ]
    }
   ],
   "source": [
    "#while loop\n",
    "\n",
    "name = input(\"Enter your name: \")\n",
    "\n",
    "while name == \"\":\n",
    "    print(\"Enter your name!!!\")\n",
    "    name = input(\"Enter your name: \")\n",
    "\n",
    "print(f\"Welcome aboard {name}\")"
   ]
  },
  {
   "cell_type": "code",
   "execution_count": 3,
   "id": "1bf20300-73f7-4f81-aa5f-6669eb322b26",
   "metadata": {},
   "outputs": [
    {
     "name": "stdout",
     "output_type": "stream",
     "text": [
      "You like Dhruva!!!\n",
      "You like Dhruvika!!!\n",
      "You like Vyapti!!!\n",
      "You like Shreya!!!\n",
      "You like Vishwa!!!\n",
      "Bye!!!\n"
     ]
    }
   ],
   "source": [
    "food = input(\"Enter a food you like: (press q to quit)\")\n",
    "\n",
    "while not food == 'q': #while food != 'q':\n",
    "    print(f\"You like {food}!!!\")\n",
    "    food = input(\"Enter a food you like: (press q to quit)\")\n",
    "\n",
    "print(\"Bye!!!\")\n",
    "    "
   ]
  },
  {
   "cell_type": "code",
   "execution_count": 4,
   "id": "0a68ce78-a8ed-46ef-9310-6b77fdff4358",
   "metadata": {},
   "outputs": [
    {
     "name": "stdout",
     "output_type": "stream",
     "text": [
      "Enter a valid number!!!\n",
      "Your number is 5\n"
     ]
    }
   ],
   "source": [
    "num = int(input(\"Enter a # between 1 - 10: \"))\n",
    "\n",
    "while num < 1 or num > 10:\n",
    "    print(\"Enter a valid number!!!\")\n",
    "    num = int(input(\"Enter a # between 1 - 10: \"))\n",
    "\n",
    "print(f\"Your number is {num}\")"
   ]
  }
 ],
 "metadata": {
  "kernelspec": {
   "display_name": "base",
   "language": "python",
   "name": "python3"
  },
  "language_info": {
   "codemirror_mode": {
    "name": "ipython",
    "version": 3
   },
   "file_extension": ".py",
   "mimetype": "text/x-python",
   "name": "python",
   "nbconvert_exporter": "python",
   "pygments_lexer": "ipython3",
   "version": "3.9.19"
  }
 },
 "nbformat": 4,
 "nbformat_minor": 5
}
