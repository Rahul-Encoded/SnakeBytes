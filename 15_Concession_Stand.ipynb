{
 "cells": [
  {
   "cell_type": "code",
   "execution_count": 1,
   "metadata": {},
   "outputs": [
    {
     "name": "stdout",
     "output_type": "stream",
     "text": [
      "--------- MENU ---------\n",
      "pizza     : $3.00\n",
      "nachos    : $4.50\n",
      "popcorn   : $6.00\n",
      "fries     : $2.50\n",
      "chips     : $1.00\n",
      "pretzel   : $3.50\n",
      "soda      : $3.00\n",
      "lemonade  : $4.25\n",
      "------------------------\n",
      "------ YOUR ORDER ------\n",
      "pizza popcorn fries soda \n",
      "Total is: $14.50\n"
     ]
    }
   ],
   "source": [
    "menu = {\"pizza\": 3.00,\n",
    "               \"nachos\": 4.50,\n",
    "               \"popcorn\": 6.00,\n",
    "               \"fries\": 2.50,\n",
    "               \"chips\": 1.00,\n",
    "               \"pretzel\": 3.50,\n",
    "               \"soda\": 3.00,\n",
    "               \"lemonade\": 4.25}\n",
    "cart = []\n",
    "total = 0\n",
    "\n",
    "print(\"--------- MENU ---------\")\n",
    "for key, value in menu.items():\n",
    "    print(f\"{key:10}: ${value:.2f}\")\n",
    "print(\"------------------------\")\n",
    "\n",
    "while True:\n",
    "    food = input(\"Select an item (q to quit): \").lower()\n",
    "    if food == \"q\":\n",
    "        break\n",
    "    elif menu.get(food) is not None:\n",
    "        cart.append(food)\n",
    "\n",
    "print(\"------ YOUR ORDER ------\")\n",
    "for food in cart:\n",
    "    total += menu.get(food)\n",
    "    print(food, end=\" \")\n",
    "\n",
    "print()\n",
    "print(f\"Total is: ${total:.2f}\")"
   ]
  },
  {
   "cell_type": "code",
   "execution_count": null,
   "metadata": {},
   "outputs": [],
   "source": []
  }
 ],
 "metadata": {
  "kernelspec": {
   "display_name": "base",
   "language": "python",
   "name": "python3"
  },
  "language_info": {
   "codemirror_mode": {
    "name": "ipython",
    "version": 3
   },
   "file_extension": ".py",
   "mimetype": "text/x-python",
   "name": "python",
   "nbconvert_exporter": "python",
   "pygments_lexer": "ipython3",
   "version": "3.12.7"
  }
 },
 "nbformat": 4,
 "nbformat_minor": 2
}
