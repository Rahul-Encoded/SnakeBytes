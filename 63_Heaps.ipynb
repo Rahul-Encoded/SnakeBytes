{
 "cells": [
  {
   "cell_type": "markdown",
   "metadata": {},
   "source": [
    "\n",
    "# Binary Tree Representation and Heapify Operations (Heaps = Priority queues)\n",
    "\n",
    "## Initial Array Representation\n",
    "\n",
    "```plaintext\n",
    "Arr = [2, 5, 0, 1, 10, 8, -4, 3, 12, 9]\n",
    "```\n",
    "\n",
    "### Initial Binary Tree Structure\n",
    "```\n",
    "        2\n",
    "       / \\\n",
    "      5   0\n",
    "     / \\  | \\\n",
    "    1  10 8 -4\n",
    "   / \\   /\n",
    "  3  12 9\n",
    "```\n",
    "\n",
    "### Binary Tree Index Mapping\n",
    "```\n",
    "        i\n",
    "       / \\\n",
    "     2i  2i+1\n",
    "```\n",
    "for finding a parent of an element it is given by A[i/2]\n",
    "Note that i starts with 1.\n",
    "\n",
    "## Heapify Operations\n",
    "\n",
    "### Max Heap Transformation\n",
    "Max Heap property: Parent nodes are greater than or equal to their children.\n",
    "\n",
    "#### Max Heapified Array\n",
    "```plaintext\n",
    "Arr = [12, 10, 8, 5, 9, 0, -4, 3, 1, 2]\n",
    "```\n",
    "\n",
    "#### Max Heap Binary Tree\n",
    "```\n",
    "       12\n",
    "      /  \\\n",
    "    10    8\n",
    "   /  \\  / \\\n",
    "  5    9 0 -4\n",
    " / \\   /\n",
    "3   1 2\n",
    "```\n",
    "\n",
    "### Min Heap Transformation\n",
    "Min Heap property: Parent nodes are less than or equal to their children.\n",
    "\n",
    "#### Min Heapified Array\n",
    "```plaintext\n",
    "Arr = [-4, 1, 0, 3, 2, 8, 5, 12, 10, 9]\n",
    "```\n",
    "\n",
    "#### Min Heap Binary Tree\n",
    "```\n",
    "       -4\n",
    "      /  \\\n",
    "     1    0\n",
    "    / \\  / \\\n",
    "   3   2 8  5\n",
    "  / \\   /\n",
    "12   10 9\n",
    "```\n"
   ]
  },
  {
   "cell_type": "code",
   "execution_count": 64,
   "id": "cada3370",
   "metadata": {},
   "outputs": [],
   "source": [
    "array1 = [-1]"
   ]
  },
  {
   "cell_type": "code",
   "execution_count": 65,
   "id": "bece2384",
   "metadata": {},
   "outputs": [],
   "source": [
    "def add_element(arr, data):\n",
    "\tsize = len(arr)\n",
    "\ti = size\n",
    "\tarr.append(data)\n",
    "\n",
    "\twhile (i>1):\n",
    "\t\tparent = i//2\n",
    "\n",
    "\t\tif(arr[i] > arr[parent]): \n",
    "\t\t\tarr[i], arr[parent] = arr[parent], arr[i]\n",
    "\t\t\ti = parent\n",
    "\t\t\n",
    "\t\telse: return"
   ]
  },
  {
   "cell_type": "code",
   "execution_count": 66,
   "id": "b6419901",
   "metadata": {},
   "outputs": [
    {
     "name": "stdout",
     "output_type": "stream",
     "text": [
      "68,98,45,59,48,31,22,96,"
     ]
    }
   ],
   "source": [
    "import random\n",
    "\n",
    "for i in range(8):\n",
    "\tvalue = random.randint(1, 100) \n",
    "\tprint(value, end=\",\")\n",
    "\tadd_element(array1, value)"
   ]
  },
  {
   "cell_type": "code",
   "execution_count": 67,
   "id": "b00ab9d5",
   "metadata": {},
   "outputs": [
    {
     "name": "stdout",
     "output_type": "stream",
     "text": [
      "55 and 19\n",
      "19 and 55\n"
     ]
    }
   ],
   "source": [
    "EXAMPLE = [-1, 59, 55, 28, 19, 52]\n",
    "i = 2\n",
    "parent = 4\n",
    "print(f\"{EXAMPLE[i]} and {EXAMPLE[parent]}\")\n",
    "EXAMPLE[i], EXAMPLE[parent] = EXAMPLE[parent], EXAMPLE[i]\n",
    "print(f\"{EXAMPLE[i]} and {EXAMPLE[parent]}\")"
   ]
  },
  {
   "cell_type": "code",
   "execution_count": 68,
   "id": "50ecacd2",
   "metadata": {},
   "outputs": [],
   "source": [
    "array2 = [-1,100,82,86,27,31,6,62,23]"
   ]
  },
  {
   "cell_type": "code",
   "execution_count": 69,
   "id": "177b4eec",
   "metadata": {},
   "outputs": [
    {
     "name": "stdout",
     "output_type": "stream",
     "text": [
      "[-1, 100, 82, 86, 27, 31, 6, 62, 23]\n"
     ]
    }
   ],
   "source": [
    "print(array2)"
   ]
  },
  {
   "cell_type": "code",
   "execution_count": 70,
   "id": "c52f56ff",
   "metadata": {},
   "outputs": [],
   "source": [
    "def delete_element_by_value(arr, val):\n",
    "\tindex = 0\n",
    "\tsize = len(arr)\n",
    "\tfor i in range(size):\n",
    "\t\tif(arr[i] == val):\n",
    "\t\t\tindex = i\n",
    "\n",
    "\tarr[index] = arr[size-1]\n",
    "\tarr.pop(size-1)\n",
    "\tsize -= 1\n",
    "\t\n",
    "\n",
    "\twhile(index < size):\n",
    "\t\tchild1 = 2*index\n",
    "\t\tchild2 = 2*index + 1\n",
    "\n",
    "\t\tif(child1<size and child2<size and arr[child1] > arr[child2] and arr[index] < arr[child1]):\n",
    "\t\t\tarr[child1], arr[index] = arr[index], arr[child1]\n",
    "\t\t\tindex = child1\n",
    "\t\t\n",
    "\t\telif(child2<size and child1<size and arr[child1] < arr[child2] and  arr[index] < arr[child2]):\n",
    "\t\t\tarr[child2], arr[index] = arr[index], arr[child2]\n",
    "\t\t\tindex = child2\n",
    "\t\t\n",
    "\t\telse: return\n",
    "\t\t"
   ]
  },
  {
   "cell_type": "code",
   "execution_count": 71,
   "id": "8b71930d",
   "metadata": {},
   "outputs": [],
   "source": [
    "delete_element_by_value(array2, 82)"
   ]
  },
  {
   "cell_type": "code",
   "execution_count": 72,
   "id": "b3bdfec8",
   "metadata": {},
   "outputs": [
    {
     "name": "stdout",
     "output_type": "stream",
     "text": [
      "[-1, 100, 31, 86, 27, 23, 6, 62]\n"
     ]
    }
   ],
   "source": [
    "print(array2)"
   ]
  },
  {
   "cell_type": "code",
   "execution_count": 87,
   "id": "a9b26d45",
   "metadata": {},
   "outputs": [],
   "source": [
    "def heapify(arr, n, i):\n",
    "\tlargest = i\n",
    "\tleft = 2*i\n",
    "\tright = 2*i + 1\n",
    "\tif(left<n and arr[largest] < arr[left]): largest = left\n",
    "\t\t\n",
    "\telif(right<n and  arr[largest] < arr[right]): largest = right\n",
    "\n",
    "\tif(largest != i):\n",
    "\t\tarr[largest], arr[i] = arr[i], arr[largest]\n",
    "\t\theapify(arr, n, largest)\n",
    "\n",
    "\treturn arr\n",
    "\n"
   ]
  },
  {
   "cell_type": "code",
   "execution_count": 88,
   "id": "78e8ea9e",
   "metadata": {},
   "outputs": [],
   "source": [
    "def buildHeap(arr):\n",
    "\tn = len(arr)\n",
    "\ti = (n-1)//2\n",
    "\n",
    "\twhile(i):\n",
    "\t\theapify(arr, n, i)\n",
    "\t\ti -= 1\n",
    "\t\n",
    "\treturn arr"
   ]
  },
  {
   "cell_type": "code",
   "execution_count": 89,
   "id": "b34f4c88",
   "metadata": {},
   "outputs": [],
   "source": [
    "array3 = [-1,50,3,8,100,9,5,10,95]"
   ]
  },
  {
   "cell_type": "code",
   "execution_count": 90,
   "id": "3ec01148",
   "metadata": {},
   "outputs": [
    {
     "data": {
      "text/plain": [
       "[-1, 100, 95, 10, 50, 9, 5, 8, 3]"
      ]
     },
     "execution_count": 90,
     "metadata": {},
     "output_type": "execute_result"
    }
   ],
   "source": [
    "buildHeap(array3)"
   ]
  },
  {
   "cell_type": "code",
   "execution_count": 91,
   "id": "07c787b0",
   "metadata": {},
   "outputs": [
    {
     "name": "stdout",
     "output_type": "stream",
     "text": [
      "[-1, 100, 95, 10, 50, 9, 5, 8, 3]\n"
     ]
    }
   ],
   "source": [
    "print(array3)"
   ]
  },
  {
   "cell_type": "code",
   "execution_count": 92,
   "id": "3a99b31a",
   "metadata": {},
   "outputs": [],
   "source": [
    "#Heap sort is more like heapify + delete lol"
   ]
  },
  {
   "cell_type": "code",
   "execution_count": 142,
   "id": "d0562d47",
   "metadata": {},
   "outputs": [],
   "source": [
    "def delete_root(heap):\n",
    "\tsize = len(heap)\n",
    "\tlastIndex = size - 1\n",
    "\tindex = 1\n",
    "\theap[index] = heap[lastIndex]\n",
    "\theap.pop(lastIndex)\n",
    "\tsize -= 1\n",
    "\n",
    "\twhile(index < size):\n",
    "\t\tleft = 2*index\n",
    "\t\tright = 2*index + 1\n",
    "\n",
    "\t\tif(left < size and right < size and heap[left] < heap[right] and heap[index] < heap[right]):\n",
    "\t\t\theap[index], heap[right] = heap[right], heap[index]\n",
    "\t\t\tindex = right\n",
    "\n",
    "\t\telif(left < size and right < size and heap[left] > heap[right] and heap[index] < heap[left]):\n",
    "\t\t\theap[index], heap[left] = heap[left], heap[index]\n",
    "\t\t\tindex = left\n",
    "\t\t\n",
    "\t\telse: return\n"
   ]
  },
  {
   "cell_type": "code",
   "execution_count": 143,
   "id": "07fc675e",
   "metadata": {},
   "outputs": [],
   "source": [
    "array4 = [-1,50,3,8,100,9,5,10,95]"
   ]
  },
  {
   "cell_type": "code",
   "execution_count": 144,
   "id": "a60786a5",
   "metadata": {},
   "outputs": [
    {
     "data": {
      "text/plain": [
       "[-1, 100, 95, 10, 50, 9, 5, 8, 3]"
      ]
     },
     "execution_count": 144,
     "metadata": {},
     "output_type": "execute_result"
    }
   ],
   "source": [
    "buildHeap(array4)"
   ]
  },
  {
   "cell_type": "code",
   "execution_count": 145,
   "id": "c2144f74",
   "metadata": {},
   "outputs": [],
   "source": [
    "delete_root(array4)"
   ]
  },
  {
   "cell_type": "code",
   "execution_count": 146,
   "id": "3cc038fa",
   "metadata": {},
   "outputs": [
    {
     "name": "stdout",
     "output_type": "stream",
     "text": [
      "[-1, 95, 50, 10, 3, 9, 5, 8]\n"
     ]
    }
   ],
   "source": [
    "print(array4)"
   ]
  },
  {
   "cell_type": "code",
   "execution_count": 181,
   "id": "c8bed74e",
   "metadata": {},
   "outputs": [],
   "source": [
    "array5 = [-1,50,3,8,100,9,5,10,95]"
   ]
  },
  {
   "cell_type": "code",
   "execution_count": 182,
   "id": "54f0ce91",
   "metadata": {},
   "outputs": [],
   "source": [
    "def heapSort(arr):\n",
    "\tsize = len(arr)\n",
    "\tindex = size-1\n",
    "\theap = [0] * (index) \n",
    "\tbuildHeap(arr)\n",
    "\n",
    "\n",
    "\twhile(len(arr) > 1):\n",
    "\t\theap[index-1] = arr[1]\n",
    "\t\tdelete_root(arr)\n",
    "\t\tindex -= 1\n",
    "\t\n",
    "\treturn heap"
   ]
  },
  {
   "cell_type": "code",
   "execution_count": 183,
   "id": "b0383d78",
   "metadata": {},
   "outputs": [],
   "source": [
    "heap = heapSort(array5)"
   ]
  },
  {
   "cell_type": "code",
   "execution_count": 184,
   "id": "685d9734",
   "metadata": {},
   "outputs": [
    {
     "name": "stdout",
     "output_type": "stream",
     "text": [
      "[3, 5, 8, 9, 10, 50, 95, 100]\n"
     ]
    }
   ],
   "source": [
    "print(heap)"
   ]
  },
  {
   "cell_type": "code",
   "execution_count": 1,
   "id": "2329df4c",
   "metadata": {},
   "outputs": [
    {
     "name": "stdout",
     "output_type": "stream",
     "text": [
      "Heap after insertion:\n",
      "[50, 30, 40, 10, 20]\n",
      "Heap after deleting 30:\n",
      "[50, 20, 40, 10]\n"
     ]
    }
   ],
   "source": [
    "class MaxHeap:\n",
    "    def __init__(self):\n",
    "        self.heap = [-1]  # Using 1-based indexing for easier calculations\n",
    "\n",
    "    def add_element(self, data):\n",
    "        \"\"\"Adds an element to the heap and maintains the heap property.\"\"\"\n",
    "        self.heap.append(data)\n",
    "        i = len(self.heap) - 1\n",
    "\n",
    "        while i > 1:\n",
    "            parent = i // 2\n",
    "            if self.heap[i] > self.heap[parent]:\n",
    "                self.heap[i], self.heap[parent] = self.heap[parent], self.heap[i]\n",
    "                i = parent\n",
    "            else:\n",
    "                return\n",
    "\n",
    "    def delete_element_by_value(self, val):\n",
    "        \"\"\"Deletes an element from the heap and restores heap order.\"\"\"\n",
    "        size = len(self.heap)\n",
    "\n",
    "        if size == 1:\n",
    "            print(\"Heap is empty\")\n",
    "            return\n",
    "        \n",
    "        # Find index of the value\n",
    "        index = -1\n",
    "        for i in range(1, size):\n",
    "            if self.heap[i] == val:\n",
    "                index = i\n",
    "                break\n",
    "\n",
    "        if index == -1:\n",
    "            print(f\"Value {val} not found in heap\")\n",
    "            return\n",
    "\n",
    "        # Replace the element with the last element and remove the last\n",
    "        self.heap[index] = self.heap[-1]\n",
    "        self.heap.pop()\n",
    "\n",
    "        size -= 1\n",
    "        i = index\n",
    "\n",
    "        while i < size:\n",
    "            child1 = 2 * i\n",
    "            child2 = 2 * i + 1\n",
    "            largest = i\n",
    "\n",
    "            if child1 < size and self.heap[child1] > self.heap[largest]:\n",
    "                largest = child1\n",
    "\n",
    "            if child2 < size and self.heap[child2] > self.heap[largest]:\n",
    "                largest = child2\n",
    "\n",
    "            if largest != i:\n",
    "                self.heap[i], self.heap[largest] = self.heap[largest], self.heap[i]\n",
    "                i = largest\n",
    "            else:\n",
    "                return\n",
    "\n",
    "    def display(self):\n",
    "        \"\"\"Displays the heap (excluding the -1 placeholder).\"\"\"\n",
    "        print(self.heap[1:])\n",
    "\n",
    "# Example Usage:\n",
    "heap = MaxHeap()\n",
    "heap.add_element(50)\n",
    "heap.add_element(30)\n",
    "heap.add_element(40)\n",
    "heap.add_element(10)\n",
    "heap.add_element(20)\n",
    "\n",
    "print(\"Heap after insertion:\")\n",
    "heap.display()\n",
    "\n",
    "heap.delete_element_by_value(30)\n",
    "print(\"Heap after deleting 30:\")\n",
    "heap.display()\n"
   ]
  },
  {
   "cell_type": "code",
   "execution_count": null,
   "id": "6df93082",
   "metadata": {},
   "outputs": [],
   "source": []
  }
 ],
 "metadata": {
  "kernelspec": {
   "display_name": "base",
   "language": "python",
   "name": "python3"
  },
  "language_info": {
   "codemirror_mode": {
    "name": "ipython",
    "version": 3
   },
   "file_extension": ".py",
   "mimetype": "text/x-python",
   "name": "python",
   "nbconvert_exporter": "python",
   "pygments_lexer": "ipython3",
   "version": "3.12.7"
  }
 },
 "nbformat": 4,
 "nbformat_minor": 5
}
