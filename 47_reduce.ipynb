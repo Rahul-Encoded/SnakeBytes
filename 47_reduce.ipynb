{
 "cells": [
  {
   "cell_type": "markdown",
   "metadata": {},
   "source": [
    "reduce(function, collection) = Reduces elements in a collection to a single value\n",
    "\n",
    "For loop is better in most cases\n",
    "\n",
    "Reduce is better for a functional approach + readability"
   ]
  },
  {
   "cell_type": "code",
   "execution_count": 1,
   "metadata": {},
   "outputs": [],
   "source": [
    "from functools import reduce"
   ]
  },
  {
   "cell_type": "code",
   "execution_count": 2,
   "metadata": {},
   "outputs": [
    {
     "name": "stdout",
     "output_type": "stream",
     "text": [
      "$50.72\n"
     ]
    }
   ],
   "source": [
    "\n",
    "prices = [19.99, 1.00, 5.75, 12.99, 10.99]\n",
    "total = reduce(lambda x, y: x + y, prices)\n",
    "\n",
    "print(f\"${total}\")"
   ]
  }
 ],
 "metadata": {
  "kernelspec": {
   "display_name": "base",
   "language": "python",
   "name": "python3"
  },
  "language_info": {
   "codemirror_mode": {
    "name": "ipython",
    "version": 3
   },
   "file_extension": ".py",
   "mimetype": "text/x-python",
   "name": "python",
   "nbconvert_exporter": "python",
   "pygments_lexer": "ipython3",
   "version": "3.12.7"
  }
 },
 "nbformat": 4,
 "nbformat_minor": 2
}
