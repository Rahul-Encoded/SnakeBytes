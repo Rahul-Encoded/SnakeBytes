{
 "cells": [
  {
   "cell_type": "markdown",
   "metadata": {},
   "source": [
    "map(function, collection) = Applies a given function to all items in a collection"
   ]
  },
  {
   "cell_type": "code",
   "execution_count": 1,
   "metadata": {},
   "outputs": [
    {
     "name": "stdout",
     "output_type": "stream",
     "text": [
      "[32.0, 50.0, 68.0, 86.0, 104.0, 122.0]\n"
     ]
    }
   ],
   "source": [
    "celsius_temps = [0.0, 10.0, 20.0, 30.0, 40.0, 50.0]\n",
    "\n",
    "fahrenheit_temps = list(map(lambda temp: (temp * 9/5) + 32, celsius_temps))\n",
    "\n",
    "print(fahrenheit_temps)"
   ]
  },
  {
   "cell_type": "code",
   "execution_count": 2,
   "metadata": {},
   "outputs": [
    {
     "name": "stdout",
     "output_type": "stream",
     "text": [
      "<map object at 0x000001EB90F15690>\n"
     ]
    }
   ],
   "source": [
    "fahrenheit_temps = map(lambda temp: (temp * 9/5) + 32, celsius_temps)\n",
    "\n",
    "print(fahrenheit_temps)"
   ]
  },
  {
   "cell_type": "code",
   "execution_count": 3,
   "metadata": {},
   "outputs": [
    {
     "name": "stdout",
     "output_type": "stream",
     "text": [
      "32.0\n",
      "50.0\n",
      "68.0\n",
      "86.0\n",
      "104.0\n",
      "122.0\n"
     ]
    }
   ],
   "source": [
    "for temp in fahrenheit_temps:\n",
    "\tprint(temp)"
   ]
  },
  {
   "cell_type": "code",
   "execution_count": null,
   "metadata": {},
   "outputs": [],
   "source": []
  }
 ],
 "metadata": {
  "kernelspec": {
   "display_name": "base",
   "language": "python",
   "name": "python3"
  },
  "language_info": {
   "codemirror_mode": {
    "name": "ipython",
    "version": 3
   },
   "file_extension": ".py",
   "mimetype": "text/x-python",
   "name": "python",
   "nbconvert_exporter": "python",
   "pygments_lexer": "ipython3",
   "version": "3.12.7"
  }
 },
 "nbformat": 4,
 "nbformat_minor": 2
}
