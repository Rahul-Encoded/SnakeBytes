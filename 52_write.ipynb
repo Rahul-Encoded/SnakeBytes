{
 "cells": [
  {
   "cell_type": "code",
   "execution_count": 8,
   "metadata": {},
   "outputs": [
    {
     "name": "stdout",
     "output_type": "stream",
     "text": [
      "That file already exists and is updated.\n"
     ]
    }
   ],
   "source": [
    "txt_data = \"I like coding!\"\n",
    "txt_data2 = \"I like playing story driven games!\"\n",
    "\n",
    "file_path = \"Files/output.txt\"\n",
    "\n",
    "try:\n",
    "\twith open(file_path, 'x') as file:\n",
    "\t\tfile.write(txt_data)\n",
    "\t\tprint(f\".txt file '{file_path}' has been created successfully\")\n",
    "\n",
    "except FileExistsError:\n",
    "\twith open(file_path, 'w') as file:\n",
    "\t\tfile.write(txt_data2)\n",
    "\t\tprint(\"That file already exists and is updated.\")"
   ]
  },
  {
   "cell_type": "code",
   "execution_count": null,
   "metadata": {},
   "outputs": [
    {
     "name": "stdout",
     "output_type": "stream",
     "text": [
      "That file is updated.\n"
     ]
    }
   ],
   "source": [
    "txt_data3 = \"Check... Check\"\n",
    "with open(file_path, 'w') as file: # \"with\" helps to also close the file\t\n",
    "\tfile.write(txt_data3)\n",
    "\tprint(\"That file is updated.\")\n",
    "\t#write overwrites the exising data"
   ]
  },
  {
   "cell_type": "code",
   "execution_count": null,
   "metadata": {},
   "outputs": [
    {
     "name": "stdout",
     "output_type": "stream",
     "text": [
      "That file is appended.\n"
     ]
    }
   ],
   "source": [
    "with open(file_path, 'a') as file: \n",
    "\tfile.write(txt_data)\n",
    "\tprint(\"That file is appended.\")"
   ]
  },
  {
   "cell_type": "code",
   "execution_count": 11,
   "metadata": {},
   "outputs": [
    {
     "name": "stdout",
     "output_type": "stream",
     "text": [
      "That file is appended.\n"
     ]
    }
   ],
   "source": [
    "with open(file_path, 'a') as file: \n",
    "\tfile.write(\"\\n\" + txt_data)\n",
    "\tprint(\"That file is appended.\")"
   ]
  },
  {
   "cell_type": "code",
   "execution_count": 12,
   "metadata": {},
   "outputs": [
    {
     "name": "stdout",
     "output_type": "stream",
     "text": [
      "That file is appended.\n"
     ]
    }
   ],
   "source": [
    "employees = [\"Eugene\", \"Squidward\" , \"Spongebob\" , \" Patrick\"]\n",
    "\n",
    "with open(file_path, 'a') as file: \n",
    "\tfor employee in employees: \n",
    "\t\tfile.write(\"\\n\" + employee) \n",
    "\tprint(\"That file is appended.\")"
   ]
  },
  {
   "cell_type": "code",
   "execution_count": 13,
   "metadata": {},
   "outputs": [
    {
     "name": "stdout",
     "output_type": "stream",
     "text": [
      "That file is appended.\n"
     ]
    }
   ],
   "source": [
    "employee = {\n",
    "\t\"name\" : \"Spongebob\" ,\n",
    "\t\"age\" : 30,\n",
    "\t\"job\": \"cook\"\n",
    "}\n",
    "\n",
    "import json\n",
    "\n",
    "with open(file_path, 'a') as file: \n",
    "\tjson.dump(employee, file)\n",
    "\tprint(\"That file is appended.\")"
   ]
  },
  {
   "cell_type": "code",
   "execution_count": 14,
   "metadata": {},
   "outputs": [
    {
     "name": "stdout",
     "output_type": "stream",
     "text": [
      "That file is appended.\n"
     ]
    }
   ],
   "source": [
    "with open(file_path, 'a') as file: \n",
    "\tjson.dump(employee, file, indent=4)\n",
    "\tprint(\"That file is appended.\")"
   ]
  },
  {
   "cell_type": "code",
   "execution_count": 21,
   "metadata": {},
   "outputs": [
    {
     "name": "stdout",
     "output_type": "stream",
     "text": [
      "The json file is created.\n"
     ]
    }
   ],
   "source": [
    "file_path = \"Files/output.json\"\n",
    "with open(file_path, 'w') as file: \n",
    "\tjson.dump(employee, file, indent=4)\n",
    "\tprint(\"The json file is created.\")"
   ]
  },
  {
   "cell_type": "code",
   "execution_count": 19,
   "metadata": {},
   "outputs": [],
   "source": [
    "import csv\n",
    "\n",
    "employees = [[\"Name\", \"Age\", \"Job\"],\n",
    "             [\"Spongebob\", 30, \"Cook\"],\n",
    "             [\"Patrick\", 37, \"Unemployed\"],\n",
    "             [\"Sandy\", 27, \"Scientist\"]]"
   ]
  },
  {
   "cell_type": "code",
   "execution_count": 20,
   "metadata": {},
   "outputs": [
    {
     "name": "stdout",
     "output_type": "stream",
     "text": [
      "csv file 'Files/output.csv' was created\n"
     ]
    }
   ],
   "source": [
    "file_path = \"Files/output.csv\"\n",
    "\n",
    "try:\n",
    "    with open(file_path, \"w\", newline=\"\") as file:\n",
    "        writer = csv.writer(file)\n",
    "        for row in employees:\n",
    "            writer.writerow(row)\n",
    "        print(f\"csv file '{file_path}' was created\")\n",
    "except FileExistsError:\n",
    "    print(\"That file already exists!\")"
   ]
  }
 ],
 "metadata": {
  "kernelspec": {
   "display_name": "base",
   "language": "python",
   "name": "python3"
  },
  "language_info": {
   "codemirror_mode": {
    "name": "ipython",
    "version": 3
   },
   "file_extension": ".py",
   "mimetype": "text/x-python",
   "name": "python",
   "nbconvert_exporter": "python",
   "pygments_lexer": "ipython3",
   "version": "3.12.7"
  }
 },
 "nbformat": 4,
 "nbformat_minor": 2
}
